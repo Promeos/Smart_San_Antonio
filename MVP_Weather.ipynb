{
 "cells": [
  {
   "cell_type": "markdown",
   "metadata": {},
   "source": [
    "# Smart San Antonio\n",
    "\n",
    "## Weather Data"
   ]
  },
  {
   "cell_type": "code",
   "execution_count": 1,
   "metadata": {},
   "outputs": [],
   "source": [
    "# General Libraries\n",
    "import numpy as np\n",
    "import pandas as pd\n",
    "import matplotlib.pyplot as plt\n",
    "import seaborn as sns\n",
    "import plotly.express as px\n",
    "import plotly.graph_objects as go\n",
    "%matplotlib inline\n",
    "\n",
    "# Geospatial Library\n",
    "import folium\n",
    "import src\n",
    "\n",
    "plt.style.use('tableau-colorblind10')"
   ]
  },
  {
   "cell_type": "markdown",
   "metadata": {},
   "source": [
    "## Acquire"
   ]
  },
  {
   "cell_type": "code",
   "execution_count": 2,
   "metadata": {},
   "outputs": [],
   "source": [
    "df = src.get_zone_data(sensor='weather', zone='all')"
   ]
  },
  {
   "cell_type": "code",
   "execution_count": 3,
   "metadata": {},
   "outputs": [
    {
     "name": "stdout",
     "output_type": "stream",
     "text": [
      "<class 'pandas.core.frame.DataFrame'>\n",
      "RangeIndex: 47853 entries, 0 to 47852\n",
      "Data columns (total 15 columns):\n",
      " #   Column          Non-Null Count  Dtype  \n",
      "---  ------          --------------  -----  \n",
      " 0   DateTime        47853 non-null  object \n",
      " 1   Sensor_id       47853 non-null  int64  \n",
      " 2   Vendor          47853 non-null  object \n",
      " 3   SensorModel     47853 non-null  object \n",
      " 4   LAT             47853 non-null  float64\n",
      " 5   LONG            47853 non-null  float64\n",
      " 6   Zone            47853 non-null  object \n",
      " 7   Temp_C          47853 non-null  int64  \n",
      " 8   Temp_F          47853 non-null  int64  \n",
      " 9   DistToWL_ft     47853 non-null  float64\n",
      " 10  DistToWL_m      47853 non-null  float64\n",
      " 11  DistToDF_ft     47853 non-null  float64\n",
      " 12  DistToDF_m      47853 non-null  float64\n",
      " 13  AlertTriggered  15989 non-null  object \n",
      " 14  SensorStatus    47853 non-null  object \n",
      "dtypes: float64(6), int64(3), object(6)\n",
      "memory usage: 5.5+ MB\n"
     ]
    }
   ],
   "source": [
    "df.info()"
   ]
  },
  {
   "cell_type": "code",
   "execution_count": 4,
   "metadata": {},
   "outputs": [
    {
     "data": {
      "text/html": [
       "<div>\n",
       "<style scoped>\n",
       "    .dataframe tbody tr th:only-of-type {\n",
       "        vertical-align: middle;\n",
       "    }\n",
       "\n",
       "    .dataframe tbody tr th {\n",
       "        vertical-align: top;\n",
       "    }\n",
       "\n",
       "    .dataframe thead th {\n",
       "        text-align: right;\n",
       "    }\n",
       "</style>\n",
       "<table border=\"1\" class=\"dataframe\">\n",
       "  <thead>\n",
       "    <tr style=\"text-align: right;\">\n",
       "      <th></th>\n",
       "      <th>DateTime</th>\n",
       "      <th>Sensor_id</th>\n",
       "      <th>Vendor</th>\n",
       "      <th>SensorModel</th>\n",
       "      <th>LAT</th>\n",
       "      <th>LONG</th>\n",
       "      <th>Zone</th>\n",
       "      <th>Temp_C</th>\n",
       "      <th>Temp_F</th>\n",
       "      <th>DistToWL_ft</th>\n",
       "      <th>DistToWL_m</th>\n",
       "      <th>DistToDF_ft</th>\n",
       "      <th>DistToDF_m</th>\n",
       "      <th>AlertTriggered</th>\n",
       "      <th>SensorStatus</th>\n",
       "    </tr>\n",
       "  </thead>\n",
       "  <tbody>\n",
       "    <tr>\n",
       "      <th>0</th>\n",
       "      <td>2021-06-01T00:02:55</td>\n",
       "      <td>400791</td>\n",
       "      <td>ATT</td>\n",
       "      <td>ranger sensor</td>\n",
       "      <td>29.345167</td>\n",
       "      <td>-98.451583</td>\n",
       "      <td>Brooks</td>\n",
       "      <td>-999</td>\n",
       "      <td>-999</td>\n",
       "      <td>14.370079</td>\n",
       "      <td>4.38</td>\n",
       "      <td>15.833333</td>\n",
       "      <td>4.826</td>\n",
       "      <td>N</td>\n",
       "      <td>Normal</td>\n",
       "    </tr>\n",
       "    <tr>\n",
       "      <th>1</th>\n",
       "      <td>2021-06-01T00:07:55</td>\n",
       "      <td>400791</td>\n",
       "      <td>ATT</td>\n",
       "      <td>ranger sensor</td>\n",
       "      <td>29.345167</td>\n",
       "      <td>-98.451583</td>\n",
       "      <td>Brooks</td>\n",
       "      <td>-999</td>\n",
       "      <td>-999</td>\n",
       "      <td>14.370079</td>\n",
       "      <td>4.38</td>\n",
       "      <td>15.833333</td>\n",
       "      <td>4.826</td>\n",
       "      <td>N</td>\n",
       "      <td>Normal</td>\n",
       "    </tr>\n",
       "    <tr>\n",
       "      <th>2</th>\n",
       "      <td>2021-06-01T00:12:55</td>\n",
       "      <td>400791</td>\n",
       "      <td>ATT</td>\n",
       "      <td>ranger sensor</td>\n",
       "      <td>29.345167</td>\n",
       "      <td>-98.451583</td>\n",
       "      <td>Brooks</td>\n",
       "      <td>-999</td>\n",
       "      <td>-999</td>\n",
       "      <td>14.402887</td>\n",
       "      <td>4.39</td>\n",
       "      <td>15.833333</td>\n",
       "      <td>4.826</td>\n",
       "      <td>N</td>\n",
       "      <td>Normal</td>\n",
       "    </tr>\n",
       "  </tbody>\n",
       "</table>\n",
       "</div>"
      ],
      "text/plain": [
       "              DateTime  Sensor_id Vendor    SensorModel        LAT       LONG  \\\n",
       "0  2021-06-01T00:02:55     400791    ATT  ranger sensor  29.345167 -98.451583   \n",
       "1  2021-06-01T00:07:55     400791    ATT  ranger sensor  29.345167 -98.451583   \n",
       "2  2021-06-01T00:12:55     400791    ATT  ranger sensor  29.345167 -98.451583   \n",
       "\n",
       "     Zone  Temp_C  Temp_F  DistToWL_ft  DistToWL_m  DistToDF_ft  DistToDF_m  \\\n",
       "0  Brooks    -999    -999    14.370079        4.38    15.833333       4.826   \n",
       "1  Brooks    -999    -999    14.370079        4.38    15.833333       4.826   \n",
       "2  Brooks    -999    -999    14.402887        4.39    15.833333       4.826   \n",
       "\n",
       "  AlertTriggered SensorStatus  \n",
       "0              N       Normal  \n",
       "1              N       Normal  \n",
       "2              N       Normal  "
      ]
     },
     "execution_count": 4,
     "metadata": {},
     "output_type": "execute_result"
    }
   ],
   "source": [
    "df.head(3)"
   ]
  },
  {
   "cell_type": "code",
   "execution_count": 5,
   "metadata": {},
   "outputs": [
    {
     "data": {
      "text/html": [
       "<div>\n",
       "<style scoped>\n",
       "    .dataframe tbody tr th:only-of-type {\n",
       "        vertical-align: middle;\n",
       "    }\n",
       "\n",
       "    .dataframe tbody tr th {\n",
       "        vertical-align: top;\n",
       "    }\n",
       "\n",
       "    .dataframe thead th {\n",
       "        text-align: right;\n",
       "    }\n",
       "</style>\n",
       "<table border=\"1\" class=\"dataframe\">\n",
       "  <thead>\n",
       "    <tr style=\"text-align: right;\">\n",
       "      <th></th>\n",
       "      <th>DateTime</th>\n",
       "      <th>Sensor_id</th>\n",
       "      <th>Vendor</th>\n",
       "      <th>SensorModel</th>\n",
       "      <th>LAT</th>\n",
       "      <th>LONG</th>\n",
       "      <th>Zone</th>\n",
       "      <th>Temp_C</th>\n",
       "      <th>Temp_F</th>\n",
       "      <th>DistToWL_ft</th>\n",
       "      <th>DistToWL_m</th>\n",
       "      <th>DistToDF_ft</th>\n",
       "      <th>DistToDF_m</th>\n",
       "      <th>AlertTriggered</th>\n",
       "      <th>SensorStatus</th>\n",
       "    </tr>\n",
       "  </thead>\n",
       "  <tbody>\n",
       "    <tr>\n",
       "      <th>47850</th>\n",
       "      <td>2021-06-05T23:45:00</td>\n",
       "      <td>61447</td>\n",
       "      <td>ITRON</td>\n",
       "      <td>AU500</td>\n",
       "      <td>29.51096</td>\n",
       "      <td>-98.58604</td>\n",
       "      <td>Medical Center</td>\n",
       "      <td>-999</td>\n",
       "      <td>-999</td>\n",
       "      <td>0.2083</td>\n",
       "      <td>0.0635</td>\n",
       "      <td>-999.0</td>\n",
       "      <td>-999.0</td>\n",
       "      <td>NaN</td>\n",
       "      <td>Normal</td>\n",
       "    </tr>\n",
       "    <tr>\n",
       "      <th>47851</th>\n",
       "      <td>2021-06-05T23:50:00</td>\n",
       "      <td>61447</td>\n",
       "      <td>ITRON</td>\n",
       "      <td>AU500</td>\n",
       "      <td>29.51096</td>\n",
       "      <td>-98.58604</td>\n",
       "      <td>Medical Center</td>\n",
       "      <td>-999</td>\n",
       "      <td>-999</td>\n",
       "      <td>0.2167</td>\n",
       "      <td>0.0660</td>\n",
       "      <td>-999.0</td>\n",
       "      <td>-999.0</td>\n",
       "      <td>NaN</td>\n",
       "      <td>Normal</td>\n",
       "    </tr>\n",
       "    <tr>\n",
       "      <th>47852</th>\n",
       "      <td>2021-06-05T23:55:00</td>\n",
       "      <td>61447</td>\n",
       "      <td>ITRON</td>\n",
       "      <td>AU500</td>\n",
       "      <td>29.51096</td>\n",
       "      <td>-98.58604</td>\n",
       "      <td>Medical Center</td>\n",
       "      <td>-999</td>\n",
       "      <td>-999</td>\n",
       "      <td>0.2083</td>\n",
       "      <td>0.0635</td>\n",
       "      <td>-999.0</td>\n",
       "      <td>-999.0</td>\n",
       "      <td>NaN</td>\n",
       "      <td>Normal</td>\n",
       "    </tr>\n",
       "  </tbody>\n",
       "</table>\n",
       "</div>"
      ],
      "text/plain": [
       "                  DateTime  Sensor_id Vendor SensorModel       LAT      LONG  \\\n",
       "47850  2021-06-05T23:45:00      61447  ITRON       AU500  29.51096 -98.58604   \n",
       "47851  2021-06-05T23:50:00      61447  ITRON       AU500  29.51096 -98.58604   \n",
       "47852  2021-06-05T23:55:00      61447  ITRON       AU500  29.51096 -98.58604   \n",
       "\n",
       "                 Zone  Temp_C  Temp_F  DistToWL_ft  DistToWL_m  DistToDF_ft  \\\n",
       "47850  Medical Center    -999    -999       0.2083      0.0635       -999.0   \n",
       "47851  Medical Center    -999    -999       0.2167      0.0660       -999.0   \n",
       "47852  Medical Center    -999    -999       0.2083      0.0635       -999.0   \n",
       "\n",
       "       DistToDF_m AlertTriggered SensorStatus  \n",
       "47850      -999.0            NaN       Normal  \n",
       "47851      -999.0            NaN       Normal  \n",
       "47852      -999.0            NaN       Normal  "
      ]
     },
     "execution_count": 5,
     "metadata": {},
     "output_type": "execute_result"
    }
   ],
   "source": [
    "df.tail(3)"
   ]
  },
  {
   "cell_type": "code",
   "execution_count": 6,
   "metadata": {},
   "outputs": [
    {
     "data": {
      "text/plain": [
       "DateTime              0\n",
       "Sensor_id             0\n",
       "Vendor                0\n",
       "SensorModel           0\n",
       "LAT                   0\n",
       "LONG                  0\n",
       "Zone                  0\n",
       "Temp_C                0\n",
       "Temp_F                0\n",
       "DistToWL_ft           0\n",
       "DistToWL_m            0\n",
       "DistToDF_ft           0\n",
       "DistToDF_m            0\n",
       "AlertTriggered    31864\n",
       "SensorStatus          0\n",
       "dtype: int64"
      ]
     },
     "execution_count": 6,
     "metadata": {},
     "output_type": "execute_result"
    }
   ],
   "source": [
    "df.isna().sum()"
   ]
  },
  {
   "cell_type": "code",
   "execution_count": 7,
   "metadata": {},
   "outputs": [
    {
     "data": {
      "text/plain": [
       "DateTime          25338\n",
       "Sensor_id             6\n",
       "Vendor                2\n",
       "SensorModel           2\n",
       "LAT                   6\n",
       "LONG                  6\n",
       "Zone                  3\n",
       "Temp_C                1\n",
       "Temp_F                1\n",
       "DistToWL_ft         781\n",
       "DistToWL_m          753\n",
       "DistToDF_ft           4\n",
       "DistToDF_m            4\n",
       "AlertTriggered        2\n",
       "SensorStatus          2\n",
       "dtype: int64"
      ]
     },
     "execution_count": 7,
     "metadata": {},
     "output_type": "execute_result"
    }
   ],
   "source": [
    "df.nunique()"
   ]
  },
  {
   "cell_type": "code",
   "execution_count": 8,
   "metadata": {},
   "outputs": [
    {
     "data": {
      "text/html": [
       "<div>\n",
       "<style scoped>\n",
       "    .dataframe tbody tr th:only-of-type {\n",
       "        vertical-align: middle;\n",
       "    }\n",
       "\n",
       "    .dataframe tbody tr th {\n",
       "        vertical-align: top;\n",
       "    }\n",
       "\n",
       "    .dataframe thead th {\n",
       "        text-align: right;\n",
       "    }\n",
       "</style>\n",
       "<table border=\"1\" class=\"dataframe\">\n",
       "  <thead>\n",
       "    <tr style=\"text-align: right;\">\n",
       "      <th></th>\n",
       "      <th>Sensor_id</th>\n",
       "      <th>LAT</th>\n",
       "      <th>LONG</th>\n",
       "      <th>Temp_C</th>\n",
       "      <th>Temp_F</th>\n",
       "      <th>DistToWL_ft</th>\n",
       "      <th>DistToWL_m</th>\n",
       "      <th>DistToDF_ft</th>\n",
       "      <th>DistToDF_m</th>\n",
       "    </tr>\n",
       "  </thead>\n",
       "  <tbody>\n",
       "    <tr>\n",
       "      <th>count</th>\n",
       "      <td>47853.000000</td>\n",
       "      <td>47853.000000</td>\n",
       "      <td>47853.000000</td>\n",
       "      <td>47853.0</td>\n",
       "      <td>47853.0</td>\n",
       "      <td>47853.000000</td>\n",
       "      <td>47853.000000</td>\n",
       "      <td>47853.000000</td>\n",
       "      <td>47853.000000</td>\n",
       "    </tr>\n",
       "    <tr>\n",
       "      <th>mean</th>\n",
       "      <td>174825.591980</td>\n",
       "      <td>29.421559</td>\n",
       "      <td>-98.504911</td>\n",
       "      <td>-999.0</td>\n",
       "      <td>-999.0</td>\n",
       "      <td>-39.259857</td>\n",
       "      <td>-43.329640</td>\n",
       "      <td>-660.700369</td>\n",
       "      <td>-663.833167</td>\n",
       "    </tr>\n",
       "    <tr>\n",
       "      <th>std</th>\n",
       "      <td>160066.959919</td>\n",
       "      <td>0.068813</td>\n",
       "      <td>0.056991</td>\n",
       "      <td>0.0</td>\n",
       "      <td>0.0</td>\n",
       "      <td>208.782331</td>\n",
       "      <td>207.841359</td>\n",
       "      <td>477.581644</td>\n",
       "      <td>473.156995</td>\n",
       "    </tr>\n",
       "    <tr>\n",
       "      <th>min</th>\n",
       "      <td>61433.000000</td>\n",
       "      <td>29.344070</td>\n",
       "      <td>-98.586094</td>\n",
       "      <td>-999.0</td>\n",
       "      <td>-999.0</td>\n",
       "      <td>-999.000000</td>\n",
       "      <td>-999.000000</td>\n",
       "      <td>-999.000000</td>\n",
       "      <td>-999.000000</td>\n",
       "    </tr>\n",
       "    <tr>\n",
       "      <th>25%</th>\n",
       "      <td>61440.000000</td>\n",
       "      <td>29.345167</td>\n",
       "      <td>-98.586040</td>\n",
       "      <td>-999.0</td>\n",
       "      <td>-999.0</td>\n",
       "      <td>1.684200</td>\n",
       "      <td>0.513300</td>\n",
       "      <td>-999.000000</td>\n",
       "      <td>-999.000000</td>\n",
       "    </tr>\n",
       "    <tr>\n",
       "      <th>50%</th>\n",
       "      <td>61447.000000</td>\n",
       "      <td>29.421890</td>\n",
       "      <td>-98.485190</td>\n",
       "      <td>-999.0</td>\n",
       "      <td>-999.0</td>\n",
       "      <td>5.125000</td>\n",
       "      <td>1.562100</td>\n",
       "      <td>-999.000000</td>\n",
       "      <td>-999.000000</td>\n",
       "    </tr>\n",
       "    <tr>\n",
       "      <th>75%</th>\n",
       "      <td>400783.000000</td>\n",
       "      <td>29.510960</td>\n",
       "      <td>-98.452230</td>\n",
       "      <td>-999.0</td>\n",
       "      <td>-999.0</td>\n",
       "      <td>9.776903</td>\n",
       "      <td>2.980000</td>\n",
       "      <td>9.665354</td>\n",
       "      <td>2.946000</td>\n",
       "    </tr>\n",
       "    <tr>\n",
       "      <th>max</th>\n",
       "      <td>400791.000000</td>\n",
       "      <td>29.511164</td>\n",
       "      <td>-98.451583</td>\n",
       "      <td>-999.0</td>\n",
       "      <td>-999.0</td>\n",
       "      <td>15.321522</td>\n",
       "      <td>4.670000</td>\n",
       "      <td>15.833333</td>\n",
       "      <td>4.826000</td>\n",
       "    </tr>\n",
       "  </tbody>\n",
       "</table>\n",
       "</div>"
      ],
      "text/plain": [
       "           Sensor_id           LAT          LONG   Temp_C   Temp_F  \\\n",
       "count   47853.000000  47853.000000  47853.000000  47853.0  47853.0   \n",
       "mean   174825.591980     29.421559    -98.504911   -999.0   -999.0   \n",
       "std    160066.959919      0.068813      0.056991      0.0      0.0   \n",
       "min     61433.000000     29.344070    -98.586094   -999.0   -999.0   \n",
       "25%     61440.000000     29.345167    -98.586040   -999.0   -999.0   \n",
       "50%     61447.000000     29.421890    -98.485190   -999.0   -999.0   \n",
       "75%    400783.000000     29.510960    -98.452230   -999.0   -999.0   \n",
       "max    400791.000000     29.511164    -98.451583   -999.0   -999.0   \n",
       "\n",
       "        DistToWL_ft    DistToWL_m   DistToDF_ft    DistToDF_m  \n",
       "count  47853.000000  47853.000000  47853.000000  47853.000000  \n",
       "mean     -39.259857    -43.329640   -660.700369   -663.833167  \n",
       "std      208.782331    207.841359    477.581644    473.156995  \n",
       "min     -999.000000   -999.000000   -999.000000   -999.000000  \n",
       "25%        1.684200      0.513300   -999.000000   -999.000000  \n",
       "50%        5.125000      1.562100   -999.000000   -999.000000  \n",
       "75%        9.776903      2.980000      9.665354      2.946000  \n",
       "max       15.321522      4.670000     15.833333      4.826000  "
      ]
     },
     "execution_count": 8,
     "metadata": {},
     "output_type": "execute_result"
    }
   ],
   "source": [
    "df.describe()"
   ]
  },
  {
   "cell_type": "code",
   "execution_count": 9,
   "metadata": {},
   "outputs": [
    {
     "data": {
      "image/png": "[encoded data removed]",
      "text/plain": [
       "<Figure size 1296x504 with 9 Axes>"
      ]
     },
     "metadata": {
      "needs_background": "light"
     },
     "output_type": "display_data"
    }
   ],
   "source": [
    "sns.set_context('talk')\n",
    "plt.style.use('tableau-colorblind10')\n",
    "\n",
    "df.hist(figsize=(18, 7), bins=30, ec='black')\n",
    "plt.tight_layout();"
   ]
  },
  {
   "cell_type": "markdown",
   "metadata": {},
   "source": [
    "## Prepare\n",
    "\n",
    "- Format column names\n",
    "- Replace column names with descriptive names\n",
    "- Cast the date strings as datetime.\n",
    "- Replace missing values in the `alert_triggered` column with \"Not Supported\".\n",
    "    - Refer to the data dictionary.\n",
    "- Replace \"Downtown Market XX\" zone with \"Downtown\""
   ]
  },
  {
   "cell_type": "code",
   "execution_count": null,
   "metadata": {},
   "outputs": [],
   "source": [
    "df = src.prep_data(data=df, filename='water')"
   ]
  },
  {
   "cell_type": "markdown",
   "metadata": {},
   "source": [
    "## Explore"
   ]
  },
  {
   "cell_type": "code",
   "execution_count": null,
   "metadata": {},
   "outputs": [],
   "source": [
    "df.head(2)"
   ]
  },
  {
   "cell_type": "markdown",
   "metadata": {},
   "source": [
    "## How many flood level sensors were placed in each zone for the pilot program?"
   ]
  },
  {
   "cell_type": "code",
   "execution_count": null,
   "metadata": {},
   "outputs": [],
   "source": [
    "df.groupby('zone').sensor_id.nunique()"
   ]
  },
  {
   "cell_type": "markdown",
   "metadata": {},
   "source": [
    "## Where are the Noise Sensors located?"
   ]
  },
  {
   "cell_type": "code",
   "execution_count": null,
   "metadata": {},
   "outputs": [],
   "source": [
    "geo_cols = ['zone', 'sensor_id', 'latitude', 'longitude']\n",
    "df_sensors = df.groupby(geo_cols).size().reset_index().rename(columns={0:'count'})\n",
    "\n",
    "df_sensors"
   ]
  },
  {
   "cell_type": "code",
   "execution_count": null,
   "metadata": {},
   "outputs": [],
   "source": [
    "m = folium.Map(location=[29.4363, -98.4881],\n",
    "               zoom_start=10,\n",
    "               max_bounds=True,\n",
    "               zoom_control=False)\n",
    "\n",
    "# Plot the coordinates for each noise sensor.\n",
    "\n",
    "zone_colors = ['orange', 'red', 'purple']\n",
    "zones = ['Brooks', 'Downtown', 'Medical Center']\n",
    "\n",
    "for z, zc in zip(zones, zone_colors):\n",
    "    data = df_sensors[df_sensors.zone == z]\n",
    "\n",
    "    for _, row in data.iterrows():\n",
    "        m.add_child(\n",
    "            folium.Marker(location=[str(row['latitude']), str(row['longitude'])],\n",
    "                          tooltip=row['zone'],\n",
    "                          prefer_canvas=True,\n",
    "                          disable_3d=True,\n",
    "                          icon=folium.Icon(icon='water',\n",
    "                                           color=zc,\n",
    "                                           prefix='fa')\n",
    "                         )\n",
    "                    )"
   ]
  },
  {
   "cell_type": "code",
   "execution_count": null,
   "metadata": {},
   "outputs": [],
   "source": [
    "m"
   ]
  },
  {
   "cell_type": "markdown",
   "metadata": {},
   "source": [
    "## What is the highest water level recorded in each zone? "
   ]
  },
  {
   "cell_type": "code",
   "execution_count": null,
   "metadata": {},
   "outputs": [],
   "source": [
    "sns.set_context('notebook')\n",
    "\n",
    "df.hist(figsize=(12, 12),\n",
    "        grid=False,\n",
    "        ec='black')\n",
    "plt.tight_layout();"
   ]
  },
  {
   "cell_type": "code",
   "execution_count": null,
   "metadata": {},
   "outputs": [],
   "source": [
    "df_water_level_stats = df.groupby('zone').disttowl_ft.describe(percentiles=[.00125, .25, .75, .997]).reset_index()\n",
    "\n",
    "df_water_level_stats"
   ]
  },
  {
   "cell_type": "code",
   "execution_count": null,
   "metadata": {},
   "outputs": [],
   "source": [
    "q3 = np.percentile(df['disttowl_ft'], 75)\n",
    "q1 = np.percentile(df['disttowl_ft'], 25)\n",
    "iqr = (q3 - q1)\n",
    "\n",
    "upper_bound = (iqr * 3) + q3\n",
    "\n",
    "outliers = df.loc[df.disttowl_ft > upper_bound].sort_values('date').reset_index(drop=True)"
   ]
  },
  {
   "cell_type": "code",
   "execution_count": null,
   "metadata": {},
   "outputs": [],
   "source": [
    "outliers"
   ]
  },
  {
   "cell_type": "markdown",
   "metadata": {},
   "source": [
    "\n"
   ]
  },
  {
   "cell_type": "markdown",
   "metadata": {},
   "source": [
    "## What is the water level throughout the day for each zone?"
   ]
  },
  {
   "cell_type": "markdown",
   "metadata": {},
   "source": []
  },
  {
   "cell_type": "code",
   "execution_count": null,
   "metadata": {},
   "outputs": [],
   "source": [
    "water = df.groupby(['date', 'zone']).disttowl_ft.agg(['mean']).sort_values(by=['zone', 'date']).reset_index()"
   ]
  },
  {
   "cell_type": "code",
   "execution_count": null,
   "metadata": {},
   "outputs": [],
   "source": [
    "water.set_index(pd.DatetimeIndex(water['date']), inplace=True)"
   ]
  },
  {
   "cell_type": "code",
   "execution_count": null,
   "metadata": {},
   "outputs": [],
   "source": [
    "water"
   ]
  },
  {
   "cell_type": "code",
   "execution_count": null,
   "metadata": {},
   "outputs": [],
   "source": [
    "sns.set_context('talk')\n",
    "\n",
    "plt.figure(figsize=(16, 8))\n",
    "plt.plot(water.resample('D').agg(['max', 'mean', 'min']))\n",
    "\n",
    "plt.xlabel('')\n",
    "plt.ylabel('dB')\n",
    "plt.tight_layout();"
   ]
  },
  {
   "cell_type": "code",
   "execution_count": null,
   "metadata": {},
   "outputs": [],
   "source": [
    "water[water.zone=='Brooks'].resample('D').agg(['max', 'mean', 'min']).plot(figsize=(10, 6), alpha=.75, legend=False)\n",
    "\n",
    "plt.xlabel('')\n",
    "plt.ylabel('Distance to Water Level')\n",
    "\n",
    "plt.ylim(0, 200)\n",
    "plt.tight_layout();"
   ]
  },
  {
   "cell_type": "code",
   "execution_count": null,
   "metadata": {},
   "outputs": [],
   "source": [
    "water[water.zone=='Downtown'].resample('D').agg(['max', 'mean', 'min']).plot(figsize=(10, 6), alpha=.75, legend=False)\n",
    "\n",
    "plt.xlabel('')\n",
    "plt.ylabel('Distance to Water Level')\n",
    "\n",
    "plt.ylim(0, 200)\n",
    "plt.tight_layout();"
   ]
  },
  {
   "cell_type": "code",
   "execution_count": null,
   "metadata": {},
   "outputs": [],
   "source": [
    "water[water.zone == 'Medical Center'].resample('D').agg(['max', 'mean', 'min']).plot(figsize=(10, 6), alpha=.75, legend=False)\n",
    "\n",
    "plt.xlabel('')\n",
    "plt.ylabel('Distance to Water Level')\n",
    "\n",
    "plt.ylim(0, 200)\n",
    "plt.tight_layout();"
   ]
  },
  {
   "cell_type": "code",
   "execution_count": null,
   "metadata": {},
   "outputs": [],
   "source": [
    "pd.plotting.autocorrelation_plot(water[water.zone=='Downtown'].resample('6H').mean())"
   ]
  },
  {
   "cell_type": "code",
   "execution_count": null,
   "metadata": {},
   "outputs": [],
   "source": [
    "top_dates = water.sort_values(by=['mean'],ascending=False).head(3)\n",
    "vals = []\n",
    "for tgl, tot in zip(top_dates.index, top_dates[\"mean\"]):\n",
    "    tgl = tgl.strftime(\"%d %B\")\n",
    "    val = \"%d (%s)\"%(tot, tgl)\n",
    "    vals.append(val)\n",
    "top_dates['tgl'] = vals\n",
    "top_dates"
   ]
  },
  {
   "cell_type": "code",
   "execution_count": null,
   "metadata": {},
   "outputs": [],
   "source": [
    "fig = go.Figure(data=go.Scatter(x=water.index.astype(dtype=str), \n",
    "                                y=water['mean'],\n",
    "                                text=\"counts\"))\n",
    "\n",
    "fig.update_layout({\"title\": 'Water levels recorded in all zones',\n",
    "                   \"yaxis\": {\"title\": r\"Distance to Water Level\"},\n",
    "                   \"showlegend\": False})\n",
    "\n",
    "fig.add_traces(go.Scatter(x=top_dates['date'], y=top_dates['mean'],\n",
    "                          textposition='top center',\n",
    "                          textfont=dict(color='#233a77'),\n",
    "                          mode='markers+text',\n",
    "                          marker=dict(color='red', size=8),\n",
    "                          text = top_dates[\"tgl\"]))\n",
    "\n",
    "fig.update_traces(textfont_size=12)\n",
    "fig.update_layout(uniformtext_minsize=8, uniformtext_mode='hide',\n",
    "xaxis_range=['2021-04-15','2021-06-01'],\n",
    "yaxis_range=[0, 250])\n",
    "\n",
    "fig.show()"
   ]
  },
  {
   "cell_type": "code",
   "execution_count": null,
   "metadata": {},
   "outputs": [],
   "source": []
  },
  {
   "cell_type": "markdown",
   "metadata": {},
   "source": [
    "### Hypothesis Tests"
   ]
  },
  {
   "cell_type": "code",
   "execution_count": null,
   "metadata": {},
   "outputs": [],
   "source": []
  },
  {
   "cell_type": "markdown",
   "metadata": {},
   "source": [
    "## Conclusions "
   ]
  },
  {
   "cell_type": "code",
   "execution_count": null,
   "metadata": {},
   "outputs": [],
   "source": []
  }
 ],
 "metadata": {
  "interpreter": {
   "hash": "e134e05457d34029b6460cd73bbf1ed73f339b5b6d98c95be70b69eba114fe95"
  },
  "kernelspec": {
   "display_name": "Python 3.7.6 64-bit ('base': conda)",
   "name": "python3"
  },
  "language_info": {
   "name": "python",
   "version": ""
  }
 },
 "nbformat": 4,
 "nbformat_minor": 2
}