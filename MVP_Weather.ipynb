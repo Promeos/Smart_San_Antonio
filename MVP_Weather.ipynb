{
 "cells": [
  {
   "cell_type": "markdown",
   "metadata": {},
   "source": [
    "# Smart San Antonio\n",
    "\n",
    "## Weather Data"
   ]
  },
  {
   "cell_type": "code",
   "execution_count": 1,
   "metadata": {},
   "outputs": [],
   "source": [
    "# General Libraries\n",
    "import numpy as np\n",
    "import pandas as pd\n",
    "import matplotlib.pyplot as plt\n",
    "import seaborn as sns\n",
    "import plotly.express as px\n",
    "import plotly.graph_objects as go\n",
    "%matplotlib inline\n",
    "\n",
    "# Geospatial Library\n",
    "import folium\n",
    "import src\n",
    "\n",
    "plt.style.use('tableau-colorblind10')"
   ]
  },
  {
   "cell_type": "markdown",
   "metadata": {},
   "source": [
    "## Acquire"
   ]
  },
  {
   "cell_type": "code",
   "execution_count": 2,
   "metadata": {},
   "outputs": [],
   "source": [
    "df = src.get_zone_data(sensor='weather', zone='all')"
   ]
  },
  {
   "cell_type": "code",
   "execution_count": 3,
   "metadata": {},
   "outputs": [
    {
     "name": "stdout",
     "output_type": "stream",
     "text": [
      "<class 'pandas.core.frame.DataFrame'>\n",
      "RangeIndex: 262449 entries, 0 to 262448\n",
      "Data columns (total 15 columns):\n",
      " #   Column          Non-Null Count   Dtype  \n",
      "---  ------          --------------   -----  \n",
      " 0   DateTime        262449 non-null  object \n",
      " 1   Sensor_id       262449 non-null  object \n",
      " 2   Vendor          262449 non-null  object \n",
      " 3   SensorModel     262449 non-null  object \n",
      " 4   LAT             262449 non-null  float64\n",
      " 5   LONG            262449 non-null  float64\n",
      " 6   Zone            262449 non-null  object \n",
      " 7   Temp_C          262449 non-null  int64  \n",
      " 8   Temp_F          262449 non-null  float64\n",
      " 9   Humidity        262449 non-null  float64\n",
      " 10  DewPoint_C      262449 non-null  float64\n",
      " 11  DewPoint_F      262449 non-null  float64\n",
      " 12  Pressure_Pa     262449 non-null  int64  \n",
      " 13  AlertTriggered  0 non-null       float64\n",
      " 14  SensorStatus    262449 non-null  object \n",
      "dtypes: float64(7), int64(2), object(6)\n",
      "memory usage: 30.0+ MB\n"
     ]
    }
   ],
   "source": [
    "df.info()"
   ]
  },
  {
   "cell_type": "code",
   "execution_count": 4,
   "metadata": {},
   "outputs": [
    {
     "data": {
      "text/html": [
       "<div>\n",
       "<style scoped>\n",
       "    .dataframe tbody tr th:only-of-type {\n",
       "        vertical-align: middle;\n",
       "    }\n",
       "\n",
       "    .dataframe tbody tr th {\n",
       "        vertical-align: top;\n",
       "    }\n",
       "\n",
       "    .dataframe thead th {\n",
       "        text-align: right;\n",
       "    }\n",
       "</style>\n",
       "<table border=\"1\" class=\"dataframe\">\n",
       "  <thead>\n",
       "    <tr style=\"text-align: right;\">\n",
       "      <th></th>\n",
       "      <th>DateTime</th>\n",
       "      <th>Sensor_id</th>\n",
       "      <th>Vendor</th>\n",
       "      <th>SensorModel</th>\n",
       "      <th>LAT</th>\n",
       "      <th>LONG</th>\n",
       "      <th>Zone</th>\n",
       "      <th>Temp_C</th>\n",
       "      <th>Temp_F</th>\n",
       "      <th>Humidity</th>\n",
       "      <th>DewPoint_C</th>\n",
       "      <th>DewPoint_F</th>\n",
       "      <th>Pressure_Pa</th>\n",
       "      <th>AlertTriggered</th>\n",
       "      <th>SensorStatus</th>\n",
       "    </tr>\n",
       "  </thead>\n",
       "  <tbody>\n",
       "    <tr>\n",
       "      <th>0</th>\n",
       "      <td>2021-04-20T00:04:46</td>\n",
       "      <td>689324d0f345350d</td>\n",
       "      <td>ATT</td>\n",
       "      <td>AQM-01-00-01-00-01-00-GY</td>\n",
       "      <td>29.34473</td>\n",
       "      <td>-98.435672</td>\n",
       "      <td>Brooks</td>\n",
       "      <td>18</td>\n",
       "      <td>64.0</td>\n",
       "      <td>45.0</td>\n",
       "      <td>5.880283</td>\n",
       "      <td>42.584509</td>\n",
       "      <td>992</td>\n",
       "      <td>NaN</td>\n",
       "      <td>Normal</td>\n",
       "    </tr>\n",
       "    <tr>\n",
       "      <th>1</th>\n",
       "      <td>2021-04-20T00:14:47</td>\n",
       "      <td>689324d0f345350d</td>\n",
       "      <td>ATT</td>\n",
       "      <td>AQM-01-00-01-00-01-00-GY</td>\n",
       "      <td>29.34473</td>\n",
       "      <td>-98.435672</td>\n",
       "      <td>Brooks</td>\n",
       "      <td>18</td>\n",
       "      <td>64.0</td>\n",
       "      <td>45.0</td>\n",
       "      <td>5.880283</td>\n",
       "      <td>42.584509</td>\n",
       "      <td>992</td>\n",
       "      <td>NaN</td>\n",
       "      <td>Normal</td>\n",
       "    </tr>\n",
       "    <tr>\n",
       "      <th>2</th>\n",
       "      <td>2021-04-20T00:24:47</td>\n",
       "      <td>689324d0f345350d</td>\n",
       "      <td>ATT</td>\n",
       "      <td>AQM-01-00-01-00-01-00-GY</td>\n",
       "      <td>29.34473</td>\n",
       "      <td>-98.435672</td>\n",
       "      <td>Brooks</td>\n",
       "      <td>18</td>\n",
       "      <td>64.0</td>\n",
       "      <td>45.0</td>\n",
       "      <td>5.880283</td>\n",
       "      <td>42.584509</td>\n",
       "      <td>992</td>\n",
       "      <td>NaN</td>\n",
       "      <td>Normal</td>\n",
       "    </tr>\n",
       "  </tbody>\n",
       "</table>\n",
       "</div>"
      ],
      "text/plain": [
       "              DateTime         Sensor_id Vendor               SensorModel  \\\n",
       "0  2021-04-20T00:04:46  689324d0f345350d    ATT  AQM-01-00-01-00-01-00-GY   \n",
       "1  2021-04-20T00:14:47  689324d0f345350d    ATT  AQM-01-00-01-00-01-00-GY   \n",
       "2  2021-04-20T00:24:47  689324d0f345350d    ATT  AQM-01-00-01-00-01-00-GY   \n",
       "\n",
       "        LAT       LONG    Zone  Temp_C  Temp_F  Humidity  DewPoint_C  \\\n",
       "0  29.34473 -98.435672  Brooks      18    64.0      45.0    5.880283   \n",
       "1  29.34473 -98.435672  Brooks      18    64.0      45.0    5.880283   \n",
       "2  29.34473 -98.435672  Brooks      18    64.0      45.0    5.880283   \n",
       "\n",
       "   DewPoint_F  Pressure_Pa  AlertTriggered SensorStatus  \n",
       "0   42.584509          992             NaN       Normal  \n",
       "1   42.584509          992             NaN       Normal  \n",
       "2   42.584509          992             NaN       Normal  "
      ]
     },
     "execution_count": 4,
     "metadata": {},
     "output_type": "execute_result"
    }
   ],
   "source": [
    "df.head(3)"
   ]
  },
  {
   "cell_type": "code",
   "execution_count": 5,
   "metadata": {},
   "outputs": [
    {
     "data": {
      "text/html": [
       "<div>\n",
       "<style scoped>\n",
       "    .dataframe tbody tr th:only-of-type {\n",
       "        vertical-align: middle;\n",
       "    }\n",
       "\n",
       "    .dataframe tbody tr th {\n",
       "        vertical-align: top;\n",
       "    }\n",
       "\n",
       "    .dataframe thead th {\n",
       "        text-align: right;\n",
       "    }\n",
       "</style>\n",
       "<table border=\"1\" class=\"dataframe\">\n",
       "  <thead>\n",
       "    <tr style=\"text-align: right;\">\n",
       "      <th></th>\n",
       "      <th>DateTime</th>\n",
       "      <th>Sensor_id</th>\n",
       "      <th>Vendor</th>\n",
       "      <th>SensorModel</th>\n",
       "      <th>LAT</th>\n",
       "      <th>LONG</th>\n",
       "      <th>Zone</th>\n",
       "      <th>Temp_C</th>\n",
       "      <th>Temp_F</th>\n",
       "      <th>Humidity</th>\n",
       "      <th>DewPoint_C</th>\n",
       "      <th>DewPoint_F</th>\n",
       "      <th>Pressure_Pa</th>\n",
       "      <th>AlertTriggered</th>\n",
       "      <th>SensorStatus</th>\n",
       "    </tr>\n",
       "  </thead>\n",
       "  <tbody>\n",
       "    <tr>\n",
       "      <th>262446</th>\n",
       "      <td>2021-06-18T23:45:00</td>\n",
       "      <td>70463</td>\n",
       "      <td>ITRON</td>\n",
       "      <td>ClimaCell</td>\n",
       "      <td>29.50484</td>\n",
       "      <td>-98.5835</td>\n",
       "      <td>Medical Center</td>\n",
       "      <td>28</td>\n",
       "      <td>82.33</td>\n",
       "      <td>59.01</td>\n",
       "      <td>-999.0</td>\n",
       "      <td>-999.0</td>\n",
       "      <td>-999</td>\n",
       "      <td>NaN</td>\n",
       "      <td>Normal</td>\n",
       "    </tr>\n",
       "    <tr>\n",
       "      <th>262447</th>\n",
       "      <td>2021-06-18T23:50:00</td>\n",
       "      <td>70463</td>\n",
       "      <td>ITRON</td>\n",
       "      <td>ClimaCell</td>\n",
       "      <td>29.50484</td>\n",
       "      <td>-98.5835</td>\n",
       "      <td>Medical Center</td>\n",
       "      <td>28</td>\n",
       "      <td>82.33</td>\n",
       "      <td>59.01</td>\n",
       "      <td>-999.0</td>\n",
       "      <td>-999.0</td>\n",
       "      <td>-999</td>\n",
       "      <td>NaN</td>\n",
       "      <td>Normal</td>\n",
       "    </tr>\n",
       "    <tr>\n",
       "      <th>262448</th>\n",
       "      <td>2021-06-18T23:55:00</td>\n",
       "      <td>70463</td>\n",
       "      <td>ITRON</td>\n",
       "      <td>ClimaCell</td>\n",
       "      <td>29.50484</td>\n",
       "      <td>-98.5835</td>\n",
       "      <td>Medical Center</td>\n",
       "      <td>28</td>\n",
       "      <td>82.33</td>\n",
       "      <td>59.01</td>\n",
       "      <td>-999.0</td>\n",
       "      <td>-999.0</td>\n",
       "      <td>-999</td>\n",
       "      <td>NaN</td>\n",
       "      <td>Normal</td>\n",
       "    </tr>\n",
       "  </tbody>\n",
       "</table>\n",
       "</div>"
      ],
      "text/plain": [
       "                   DateTime Sensor_id Vendor SensorModel       LAT     LONG  \\\n",
       "262446  2021-06-18T23:45:00     70463  ITRON   ClimaCell  29.50484 -98.5835   \n",
       "262447  2021-06-18T23:50:00     70463  ITRON   ClimaCell  29.50484 -98.5835   \n",
       "262448  2021-06-18T23:55:00     70463  ITRON   ClimaCell  29.50484 -98.5835   \n",
       "\n",
       "                  Zone  Temp_C  Temp_F  Humidity  DewPoint_C  DewPoint_F  \\\n",
       "262446  Medical Center      28   82.33     59.01      -999.0      -999.0   \n",
       "262447  Medical Center      28   82.33     59.01      -999.0      -999.0   \n",
       "262448  Medical Center      28   82.33     59.01      -999.0      -999.0   \n",
       "\n",
       "        Pressure_Pa  AlertTriggered SensorStatus  \n",
       "262446         -999             NaN       Normal  \n",
       "262447         -999             NaN       Normal  \n",
       "262448         -999             NaN       Normal  "
      ]
     },
     "execution_count": 5,
     "metadata": {},
     "output_type": "execute_result"
    }
   ],
   "source": [
    "df.tail(3)"
   ]
  },
  {
   "cell_type": "code",
   "execution_count": 6,
   "metadata": {},
   "outputs": [
    {
     "data": {
      "text/plain": [
       "DateTime               0\n",
       "Sensor_id              0\n",
       "Vendor                 0\n",
       "SensorModel            0\n",
       "LAT                    0\n",
       "LONG                   0\n",
       "Zone                   0\n",
       "Temp_C                 0\n",
       "Temp_F                 0\n",
       "Humidity               0\n",
       "DewPoint_C             0\n",
       "DewPoint_F             0\n",
       "Pressure_Pa            0\n",
       "AlertTriggered    262449\n",
       "SensorStatus           0\n",
       "dtype: int64"
      ]
     },
     "execution_count": 6,
     "metadata": {},
     "output_type": "execute_result"
    }
   ],
   "source": [
    "df.isna().sum()"
   ]
  },
  {
   "cell_type": "code",
   "execution_count": 7,
   "metadata": {},
   "outputs": [
    {
     "data": {
      "text/plain": [
       "DateTime          58549\n",
       "Sensor_id            12\n",
       "Vendor                2\n",
       "SensorModel           2\n",
       "LAT                  18\n",
       "LONG                 19\n",
       "Zone                  3\n",
       "Temp_C               48\n",
       "Temp_F             1344\n",
       "Humidity           1882\n",
       "DewPoint_C         1822\n",
       "DewPoint_F         1825\n",
       "Pressure_Pa          53\n",
       "AlertTriggered        0\n",
       "SensorStatus          1\n",
       "dtype: int64"
      ]
     },
     "execution_count": 7,
     "metadata": {},
     "output_type": "execute_result"
    }
   ],
   "source": [
    "df.nunique()"
   ]
  },
  {
   "cell_type": "code",
   "execution_count": 8,
   "metadata": {},
   "outputs": [
    {
     "data": {
      "text/html": [
       "<div>\n",
       "<style scoped>\n",
       "    .dataframe tbody tr th:only-of-type {\n",
       "        vertical-align: middle;\n",
       "    }\n",
       "\n",
       "    .dataframe tbody tr th {\n",
       "        vertical-align: top;\n",
       "    }\n",
       "\n",
       "    .dataframe thead th {\n",
       "        text-align: right;\n",
       "    }\n",
       "</style>\n",
       "<table border=\"1\" class=\"dataframe\">\n",
       "  <thead>\n",
       "    <tr style=\"text-align: right;\">\n",
       "      <th></th>\n",
       "      <th>LAT</th>\n",
       "      <th>LONG</th>\n",
       "      <th>Temp_C</th>\n",
       "      <th>Temp_F</th>\n",
       "      <th>Humidity</th>\n",
       "      <th>DewPoint_C</th>\n",
       "      <th>DewPoint_F</th>\n",
       "      <th>Pressure_Pa</th>\n",
       "      <th>AlertTriggered</th>\n",
       "    </tr>\n",
       "  </thead>\n",
       "  <tbody>\n",
       "    <tr>\n",
       "      <th>count</th>\n",
       "      <td>262449.000000</td>\n",
       "      <td>262449.000000</td>\n",
       "      <td>262449.000000</td>\n",
       "      <td>262449.000000</td>\n",
       "      <td>262449.000000</td>\n",
       "      <td>262449.000000</td>\n",
       "      <td>262449.000000</td>\n",
       "      <td>262449.000000</td>\n",
       "      <td>0.0</td>\n",
       "    </tr>\n",
       "    <tr>\n",
       "      <th>mean</th>\n",
       "      <td>29.411539</td>\n",
       "      <td>-98.491033</td>\n",
       "      <td>24.104264</td>\n",
       "      <td>75.369339</td>\n",
       "      <td>64.669271</td>\n",
       "      <td>-221.667693</td>\n",
       "      <td>-185.492364</td>\n",
       "      <td>616.741214</td>\n",
       "      <td>NaN</td>\n",
       "    </tr>\n",
       "    <tr>\n",
       "      <th>std</th>\n",
       "      <td>0.067520</td>\n",
       "      <td>0.060362</td>\n",
       "      <td>9.515444</td>\n",
       "      <td>17.119633</td>\n",
       "      <td>26.646491</td>\n",
       "      <td>432.765909</td>\n",
       "      <td>452.966998</td>\n",
       "      <td>752.189760</td>\n",
       "      <td>NaN</td>\n",
       "    </tr>\n",
       "    <tr>\n",
       "      <th>min</th>\n",
       "      <td>29.344120</td>\n",
       "      <td>-98.583500</td>\n",
       "      <td>-313.000000</td>\n",
       "      <td>-532.000000</td>\n",
       "      <td>0.000000</td>\n",
       "      <td>-999.000000</td>\n",
       "      <td>-999.000000</td>\n",
       "      <td>-999.000000</td>\n",
       "      <td>NaN</td>\n",
       "    </tr>\n",
       "    <tr>\n",
       "      <th>25%</th>\n",
       "      <td>29.344730</td>\n",
       "      <td>-98.580288</td>\n",
       "      <td>21.000000</td>\n",
       "      <td>70.000000</td>\n",
       "      <td>49.000000</td>\n",
       "      <td>2.638412</td>\n",
       "      <td>36.749141</td>\n",
       "      <td>972.000000</td>\n",
       "      <td>NaN</td>\n",
       "    </tr>\n",
       "    <tr>\n",
       "      <th>50%</th>\n",
       "      <td>29.415080</td>\n",
       "      <td>-98.481720</td>\n",
       "      <td>25.000000</td>\n",
       "      <td>76.440000</td>\n",
       "      <td>72.000000</td>\n",
       "      <td>19.095950</td>\n",
       "      <td>66.372710</td>\n",
       "      <td>982.000000</td>\n",
       "      <td>NaN</td>\n",
       "    </tr>\n",
       "    <tr>\n",
       "      <th>75%</th>\n",
       "      <td>29.504840</td>\n",
       "      <td>-98.435672</td>\n",
       "      <td>29.000000</td>\n",
       "      <td>85.000000</td>\n",
       "      <td>87.000000</td>\n",
       "      <td>21.700338</td>\n",
       "      <td>71.060609</td>\n",
       "      <td>989.000000</td>\n",
       "      <td>NaN</td>\n",
       "    </tr>\n",
       "    <tr>\n",
       "      <th>max</th>\n",
       "      <td>29.510070</td>\n",
       "      <td>-98.434544</td>\n",
       "      <td>194.000000</td>\n",
       "      <td>381.000000</td>\n",
       "      <td>146.000000</td>\n",
       "      <td>176.094879</td>\n",
       "      <td>348.970782</td>\n",
       "      <td>33751.000000</td>\n",
       "      <td>NaN</td>\n",
       "    </tr>\n",
       "  </tbody>\n",
       "</table>\n",
       "</div>"
      ],
      "text/plain": [
       "                 LAT           LONG         Temp_C         Temp_F  \\\n",
       "count  262449.000000  262449.000000  262449.000000  262449.000000   \n",
       "mean       29.411539     -98.491033      24.104264      75.369339   \n",
       "std         0.067520       0.060362       9.515444      17.119633   \n",
       "min        29.344120     -98.583500    -313.000000    -532.000000   \n",
       "25%        29.344730     -98.580288      21.000000      70.000000   \n",
       "50%        29.415080     -98.481720      25.000000      76.440000   \n",
       "75%        29.504840     -98.435672      29.000000      85.000000   \n",
       "max        29.510070     -98.434544     194.000000     381.000000   \n",
       "\n",
       "            Humidity     DewPoint_C     DewPoint_F    Pressure_Pa  \\\n",
       "count  262449.000000  262449.000000  262449.000000  262449.000000   \n",
       "mean       64.669271    -221.667693    -185.492364     616.741214   \n",
       "std        26.646491     432.765909     452.966998     752.189760   \n",
       "min         0.000000    -999.000000    -999.000000    -999.000000   \n",
       "25%        49.000000       2.638412      36.749141     972.000000   \n",
       "50%        72.000000      19.095950      66.372710     982.000000   \n",
       "75%        87.000000      21.700338      71.060609     989.000000   \n",
       "max       146.000000     176.094879     348.970782   33751.000000   \n",
       "\n",
       "       AlertTriggered  \n",
       "count             0.0  \n",
       "mean              NaN  \n",
       "std               NaN  \n",
       "min               NaN  \n",
       "25%               NaN  \n",
       "50%               NaN  \n",
       "75%               NaN  \n",
       "max               NaN  "
      ]
     },
     "execution_count": 8,
     "metadata": {},
     "output_type": "execute_result"
    }
   ],
   "source": [
    "df.describe()"
   ]
  },
  {
   "cell_type": "code",
   "execution_count": 9,
   "metadata": {},
   "outputs": [
    {
     "data": {
      "image/png": "[encoded data removed]",
      "text/plain": [
       "<Figure size 1296x504 with 9 Axes>"
      ]
     },
     "metadata": {
      "needs_background": "light"
     },
     "output_type": "display_data"
    }
   ],
   "source": [
    "sns.set_context('talk')\n",
    "plt.style.use('tableau-colorblind10')\n",
    "\n",
    "df.hist(figsize=(18, 7), bins=30, ec='black')\n",
    "plt.tight_layout();"
   ]
  },
  {
   "cell_type": "markdown",
   "metadata": {},
   "source": [
    "## Prepare\n",
    "\n",
    "- Format column names\n",
    "- Replace column names with descriptive names\n",
    "- Cast the date strings as datetime.\n",
    "- Replace missing values in the `alert_triggered` column with \"Not Supported\".\n",
    "    - Refer to the data dictionary.\n",
    "- Replace \"Downtown Market XX\" zone with \"Downtown\""
   ]
  },
  {
   "cell_type": "code",
   "execution_count": 10,
   "metadata": {},
   "outputs": [],
   "source": [
    "df = src.prep_data(data=df, filename='weather')"
   ]
  },
  {
   "cell_type": "markdown",
   "metadata": {},
   "source": [
    "## Explore"
   ]
  },
  {
   "cell_type": "code",
   "execution_count": 11,
   "metadata": {},
   "outputs": [
    {
     "data": {
      "text/html": [
       "<div>\n",
       "<style scoped>\n",
       "    .dataframe tbody tr th:only-of-type {\n",
       "        vertical-align: middle;\n",
       "    }\n",
       "\n",
       "    .dataframe tbody tr th {\n",
       "        vertical-align: top;\n",
       "    }\n",
       "\n",
       "    .dataframe thead th {\n",
       "        text-align: right;\n",
       "    }\n",
       "</style>\n",
       "<table border=\"1\" class=\"dataframe\">\n",
       "  <thead>\n",
       "    <tr style=\"text-align: right;\">\n",
       "      <th></th>\n",
       "      <th>date</th>\n",
       "      <th>sensor_id</th>\n",
       "      <th>vendor</th>\n",
       "      <th>sensor_model</th>\n",
       "      <th>latitude</th>\n",
       "      <th>longitude</th>\n",
       "      <th>zone</th>\n",
       "      <th>temp_f</th>\n",
       "      <th>humidity</th>\n",
       "      <th>dewpoint_f</th>\n",
       "      <th>pressure_pa</th>\n",
       "      <th>alert_triggered</th>\n",
       "      <th>sensor_status</th>\n",
       "    </tr>\n",
       "  </thead>\n",
       "  <tbody>\n",
       "    <tr>\n",
       "      <th>0</th>\n",
       "      <td>2021-04-20 00:04:46</td>\n",
       "      <td>689324d0f345350d</td>\n",
       "      <td>ATT</td>\n",
       "      <td>AQM-01-00-01-00-01-00-GY</td>\n",
       "      <td>29.34473</td>\n",
       "      <td>-98.435672</td>\n",
       "      <td>Brooks</td>\n",
       "      <td>64.0</td>\n",
       "      <td>45.0</td>\n",
       "      <td>42.584509</td>\n",
       "      <td>992</td>\n",
       "      <td>NaN</td>\n",
       "      <td>Normal</td>\n",
       "    </tr>\n",
       "    <tr>\n",
       "      <th>1</th>\n",
       "      <td>2021-04-20 00:14:47</td>\n",
       "      <td>689324d0f345350d</td>\n",
       "      <td>ATT</td>\n",
       "      <td>AQM-01-00-01-00-01-00-GY</td>\n",
       "      <td>29.34473</td>\n",
       "      <td>-98.435672</td>\n",
       "      <td>Brooks</td>\n",
       "      <td>64.0</td>\n",
       "      <td>45.0</td>\n",
       "      <td>42.584509</td>\n",
       "      <td>992</td>\n",
       "      <td>NaN</td>\n",
       "      <td>Normal</td>\n",
       "    </tr>\n",
       "  </tbody>\n",
       "</table>\n",
       "</div>"
      ],
      "text/plain": [
       "                  date         sensor_id vendor              sensor_model  \\\n",
       "0  2021-04-20 00:04:46  689324d0f345350d    ATT  AQM-01-00-01-00-01-00-GY   \n",
       "1  2021-04-20 00:14:47  689324d0f345350d    ATT  AQM-01-00-01-00-01-00-GY   \n",
       "\n",
       "   latitude  longitude    zone  temp_f  humidity  dewpoint_f  pressure_pa  \\\n",
       "0  29.34473 -98.435672  Brooks    64.0      45.0   42.584509          992   \n",
       "1  29.34473 -98.435672  Brooks    64.0      45.0   42.584509          992   \n",
       "\n",
       "   alert_triggered sensor_status  \n",
       "0              NaN        Normal  \n",
       "1              NaN        Normal  "
      ]
     },
     "execution_count": 11,
     "metadata": {},
     "output_type": "execute_result"
    }
   ],
   "source": [
    "df.head(2)"
   ]
  },
  {
   "cell_type": "markdown",
   "metadata": {},
   "source": [
    "## How many flood level sensors were placed in each zone for the pilot program?"
   ]
  },
  {
   "cell_type": "code",
   "execution_count": 12,
   "metadata": {},
   "outputs": [
    {
     "data": {
      "text/plain": [
       "zone\n",
       "Brooks            4\n",
       "Downtown          4\n",
       "Medical Center    4\n",
       "Name: sensor_id, dtype: int64"
      ]
     },
     "execution_count": 12,
     "metadata": {},
     "output_type": "execute_result"
    }
   ],
   "source": [
    "df.groupby('zone').sensor_id.nunique()"
   ]
  },
  {
   "cell_type": "markdown",
   "metadata": {},
   "source": [
    "## Where are the Noise Sensors located?"
   ]
  },
  {
   "cell_type": "code",
   "execution_count": 13,
   "metadata": {},
   "outputs": [
    {
     "data": {
      "text/html": [
       "<div>\n",
       "<style scoped>\n",
       "    .dataframe tbody tr th:only-of-type {\n",
       "        vertical-align: middle;\n",
       "    }\n",
       "\n",
       "    .dataframe tbody tr th {\n",
       "        vertical-align: top;\n",
       "    }\n",
       "\n",
       "    .dataframe thead th {\n",
       "        text-align: right;\n",
       "    }\n",
       "</style>\n",
       "<table border=\"1\" class=\"dataframe\">\n",
       "  <thead>\n",
       "    <tr style=\"text-align: right;\">\n",
       "      <th></th>\n",
       "      <th>zone</th>\n",
       "      <th>sensor_id</th>\n",
       "      <th>latitude</th>\n",
       "      <th>longitude</th>\n",
       "      <th>count</th>\n",
       "    </tr>\n",
       "  </thead>\n",
       "  <tbody>\n",
       "    <tr>\n",
       "      <th>0</th>\n",
       "      <td>Brooks</td>\n",
       "      <td>63d684c940ce1f6b</td>\n",
       "      <td>29.34566</td>\n",
       "      <td>-98.434544</td>\n",
       "      <td>33384</td>\n",
       "    </tr>\n",
       "    <tr>\n",
       "      <th>1</th>\n",
       "      <td>Brooks</td>\n",
       "      <td>689324d0f345350d</td>\n",
       "      <td>29.34473</td>\n",
       "      <td>-98.435672</td>\n",
       "      <td>33379</td>\n",
       "    </tr>\n",
       "    <tr>\n",
       "      <th>2</th>\n",
       "      <td>Brooks</td>\n",
       "      <td>6de2cc6034fd26e8</td>\n",
       "      <td>29.34412</td>\n",
       "      <td>-98.436440</td>\n",
       "      <td>33386</td>\n",
       "    </tr>\n",
       "    <tr>\n",
       "      <th>3</th>\n",
       "      <td>Brooks</td>\n",
       "      <td>70449</td>\n",
       "      <td>29.34602</td>\n",
       "      <td>-98.439550</td>\n",
       "      <td>13824</td>\n",
       "    </tr>\n",
       "    <tr>\n",
       "      <th>4</th>\n",
       "      <td>Downtown</td>\n",
       "      <td>63db58629a2d20a7</td>\n",
       "      <td>29.41661</td>\n",
       "      <td>-98.484080</td>\n",
       "      <td>20054</td>\n",
       "    </tr>\n",
       "    <tr>\n",
       "      <th>5</th>\n",
       "      <td>Downtown</td>\n",
       "      <td>64d7e0e4cfeba0b6</td>\n",
       "      <td>29.41491</td>\n",
       "      <td>-98.481400</td>\n",
       "      <td>20044</td>\n",
       "    </tr>\n",
       "    <tr>\n",
       "      <th>6</th>\n",
       "      <td>Downtown</td>\n",
       "      <td>64d7e4dbde37ccb5</td>\n",
       "      <td>29.41591</td>\n",
       "      <td>-98.482880</td>\n",
       "      <td>20045</td>\n",
       "    </tr>\n",
       "    <tr>\n",
       "      <th>7</th>\n",
       "      <td>Downtown</td>\n",
       "      <td>70456</td>\n",
       "      <td>29.42457</td>\n",
       "      <td>-98.494570</td>\n",
       "      <td>14112</td>\n",
       "    </tr>\n",
       "    <tr>\n",
       "      <th>8</th>\n",
       "      <td>Medical Center</td>\n",
       "      <td>63e0b0eae3495a39</td>\n",
       "      <td>29.51007</td>\n",
       "      <td>-98.580288</td>\n",
       "      <td>20026</td>\n",
       "    </tr>\n",
       "    <tr>\n",
       "      <th>9</th>\n",
       "      <td>Medical Center</td>\n",
       "      <td>6dee283d397b9803</td>\n",
       "      <td>29.50752</td>\n",
       "      <td>-98.581368</td>\n",
       "      <td>20034</td>\n",
       "    </tr>\n",
       "    <tr>\n",
       "      <th>10</th>\n",
       "      <td>Medical Center</td>\n",
       "      <td>70463</td>\n",
       "      <td>29.50484</td>\n",
       "      <td>-98.583500</td>\n",
       "      <td>14112</td>\n",
       "    </tr>\n",
       "    <tr>\n",
       "      <th>11</th>\n",
       "      <td>Medical Center</td>\n",
       "      <td>7b48389537e7a6c7</td>\n",
       "      <td>29.50790</td>\n",
       "      <td>-98.581280</td>\n",
       "      <td>20049</td>\n",
       "    </tr>\n",
       "  </tbody>\n",
       "</table>\n",
       "</div>"
      ],
      "text/plain": [
       "              zone         sensor_id  latitude  longitude  count\n",
       "0           Brooks  63d684c940ce1f6b  29.34566 -98.434544  33384\n",
       "1           Brooks  689324d0f345350d  29.34473 -98.435672  33379\n",
       "2           Brooks  6de2cc6034fd26e8  29.34412 -98.436440  33386\n",
       "3           Brooks             70449  29.34602 -98.439550  13824\n",
       "4         Downtown  63db58629a2d20a7  29.41661 -98.484080  20054\n",
       "5         Downtown  64d7e0e4cfeba0b6  29.41491 -98.481400  20044\n",
       "6         Downtown  64d7e4dbde37ccb5  29.41591 -98.482880  20045\n",
       "7         Downtown             70456  29.42457 -98.494570  14112\n",
       "8   Medical Center  63e0b0eae3495a39  29.51007 -98.580288  20026\n",
       "9   Medical Center  6dee283d397b9803  29.50752 -98.581368  20034\n",
       "10  Medical Center             70463  29.50484 -98.583500  14112\n",
       "11  Medical Center  7b48389537e7a6c7  29.50790 -98.581280  20049"
      ]
     },
     "execution_count": 13,
     "metadata": {},
     "output_type": "execute_result"
    }
   ],
   "source": [
    "geo_cols = ['zone', 'sensor_id', 'latitude', 'longitude']\n",
    "df_sensors = df.groupby(geo_cols).size().reset_index().rename(columns={0:'count'})\n",
    "\n",
    "df_sensors"
   ]
  },
  {
   "cell_type": "code",
   "execution_count": 14,
   "metadata": {},
   "outputs": [],
   "source": [
    "m = folium.Map(location=[29.4363, -98.4881],\n",
    "               zoom_start=10,\n",
    "               max_bounds=True,\n",
    "               zoom_control=False)\n",
    "\n",
    "# Plot the coordinates for each noise sensor.\n",
    "\n",
    "zone_colors = ['orange', 'red', 'purple']\n",
    "zones = ['Brooks', 'Downtown', 'Medical Center']\n",
    "\n",
    "for z, zc in zip(zones, zone_colors):\n",
    "    data = df_sensors[df_sensors.zone == z]\n",
    "\n",
    "    for _, row in data.iterrows():\n",
    "        m.add_child(\n",
    "            folium.Marker(location=[str(row['latitude']), str(row['longitude'])],\n",
    "                          tooltip=row['zone'],\n",
    "                          prefer_canvas=True,\n",
    "                          disable_3d=True,\n",
    "                          icon=folium.Icon(icon='cloud',\n",
    "                                           color=zc,\n",
    "                                           prefix='fa')\n",
    "                         )\n",
    "                    )"
   ]
  },
  {
   "cell_type": "code",
   "execution_count": 15,
   "metadata": {},
   "outputs": [
    {
     "data": {
      "text/html": [
       "<div style=\"width:100%;\"><div style=\"position:relative;width:100%;height:0;padding-bottom:60%;\"><span style=\"color:#565656\">Make this Notebook Trusted to load map: File -> Trust Notebook</span><iframe src=\"about:blank\" style=\"position:absolute;width:100%;height:100%;left:0;top:0;border:none !important;\" data-html=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 onload=\"this.contentDocument.open();this.contentDocument.write(atob(this.getAttribute('data-html')));this.contentDocument.close();\" allowfullscreen webkitallowfullscreen mozallowfullscreen></iframe></div></div>"
      ],
      "text/plain": [
       "<folium.folium.Map at 0x7ffb06c74e90>"
      ]
     },
     "execution_count": 15,
     "metadata": {},
     "output_type": "execute_result"
    }
   ],
   "source": [
    "m"
   ]
  },
  {
   "cell_type": "markdown",
   "metadata": {},
   "source": [
    "## What is the highest humidity recorded in each zone? "
   ]
  },
  {
   "cell_type": "code",
   "execution_count": 16,
   "metadata": {},
   "outputs": [
    {
     "data": {
      "image/png": "[encoded data removed]",
      "text/plain": [
       "<Figure size 864x864 with 9 Axes>"
      ]
     },
     "metadata": {
      "needs_background": "light"
     },
     "output_type": "display_data"
    }
   ],
   "source": [
    "sns.set_context('notebook')\n",
    "\n",
    "df.hist(figsize=(12, 12),\n",
    "        grid=False,\n",
    "        ec='black')\n",
    "plt.tight_layout();"
   ]
  },
  {
   "cell_type": "code",
   "execution_count": 17,
   "metadata": {},
   "outputs": [
    {
     "data": {
      "text/html": [
       "<div>\n",
       "<style scoped>\n",
       "    .dataframe tbody tr th:only-of-type {\n",
       "        vertical-align: middle;\n",
       "    }\n",
       "\n",
       "    .dataframe tbody tr th {\n",
       "        vertical-align: top;\n",
       "    }\n",
       "\n",
       "    .dataframe thead th {\n",
       "        text-align: right;\n",
       "    }\n",
       "</style>\n",
       "<table border=\"1\" class=\"dataframe\">\n",
       "  <thead>\n",
       "    <tr style=\"text-align: right;\">\n",
       "      <th></th>\n",
       "      <th>zone</th>\n",
       "      <th>count</th>\n",
       "      <th>mean</th>\n",
       "      <th>std</th>\n",
       "      <th>min</th>\n",
       "      <th>0.1%</th>\n",
       "      <th>25%</th>\n",
       "      <th>50%</th>\n",
       "      <th>75%</th>\n",
       "      <th>99.7%</th>\n",
       "      <th>max</th>\n",
       "    </tr>\n",
       "  </thead>\n",
       "  <tbody>\n",
       "    <tr>\n",
       "      <th>0</th>\n",
       "      <td>Brooks</td>\n",
       "      <td>113973.0</td>\n",
       "      <td>69.389675</td>\n",
       "      <td>20.964840</td>\n",
       "      <td>15.0</td>\n",
       "      <td>16.0</td>\n",
       "      <td>52.0</td>\n",
       "      <td>75.00</td>\n",
       "      <td>88.0</td>\n",
       "      <td>99.0</td>\n",
       "      <td>100.0</td>\n",
       "    </tr>\n",
       "    <tr>\n",
       "      <th>1</th>\n",
       "      <td>Downtown</td>\n",
       "      <td>74255.0</td>\n",
       "      <td>51.077715</td>\n",
       "      <td>34.983174</td>\n",
       "      <td>0.0</td>\n",
       "      <td>0.0</td>\n",
       "      <td>0.0</td>\n",
       "      <td>60.28</td>\n",
       "      <td>83.0</td>\n",
       "      <td>97.0</td>\n",
       "      <td>146.0</td>\n",
       "    </tr>\n",
       "    <tr>\n",
       "      <th>2</th>\n",
       "      <td>Medical Center</td>\n",
       "      <td>74221.0</td>\n",
       "      <td>71.018451</td>\n",
       "      <td>18.763827</td>\n",
       "      <td>14.0</td>\n",
       "      <td>19.0</td>\n",
       "      <td>56.0</td>\n",
       "      <td>76.00</td>\n",
       "      <td>87.0</td>\n",
       "      <td>98.0</td>\n",
       "      <td>121.0</td>\n",
       "    </tr>\n",
       "  </tbody>\n",
       "</table>\n",
       "</div>"
      ],
      "text/plain": [
       "             zone     count       mean        std   min  0.1%   25%    50%  \\\n",
       "0          Brooks  113973.0  69.389675  20.964840  15.0  16.0  52.0  75.00   \n",
       "1        Downtown   74255.0  51.077715  34.983174   0.0   0.0   0.0  60.28   \n",
       "2  Medical Center   74221.0  71.018451  18.763827  14.0  19.0  56.0  76.00   \n",
       "\n",
       "    75%  99.7%    max  \n",
       "0  88.0   99.0  100.0  \n",
       "1  83.0   97.0  146.0  \n",
       "2  87.0   98.0  121.0  "
      ]
     },
     "execution_count": 17,
     "metadata": {},
     "output_type": "execute_result"
    }
   ],
   "source": [
    "df_humidity_stats = df.groupby('zone').humidity.describe(percentiles=[.00125, .25, .75, .997]).reset_index()\n",
    "\n",
    "df_humidity_stats"
   ]
  },
  {
   "cell_type": "code",
   "execution_count": 18,
   "metadata": {},
   "outputs": [],
   "source": [
    "q3 = np.percentile(df['humidity'], 75)\n",
    "q1 = np.percentile(df['humidity'], 25)\n",
    "iqr = (q3 - q1)\n",
    "\n",
    "upper_bound = (iqr * 3) + q3\n",
    "outliers = df.loc[df.humidity > upper_bound].sort_values('date').reset_index(drop=True)"
   ]
  },
  {
   "cell_type": "code",
   "execution_count": 19,
   "metadata": {},
   "outputs": [
    {
     "data": {
      "text/html": [
       "<div>\n",
       "<style scoped>\n",
       "    .dataframe tbody tr th:only-of-type {\n",
       "        vertical-align: middle;\n",
       "    }\n",
       "\n",
       "    .dataframe tbody tr th {\n",
       "        vertical-align: top;\n",
       "    }\n",
       "\n",
       "    .dataframe thead th {\n",
       "        text-align: right;\n",
       "    }\n",
       "</style>\n",
       "<table border=\"1\" class=\"dataframe\">\n",
       "  <thead>\n",
       "    <tr style=\"text-align: right;\">\n",
       "      <th></th>\n",
       "      <th>date</th>\n",
       "      <th>sensor_id</th>\n",
       "      <th>vendor</th>\n",
       "      <th>sensor_model</th>\n",
       "      <th>latitude</th>\n",
       "      <th>longitude</th>\n",
       "      <th>zone</th>\n",
       "      <th>temp_f</th>\n",
       "      <th>humidity</th>\n",
       "      <th>dewpoint_f</th>\n",
       "      <th>pressure_pa</th>\n",
       "      <th>alert_triggered</th>\n",
       "      <th>sensor_status</th>\n",
       "    </tr>\n",
       "  </thead>\n",
       "  <tbody>\n",
       "  </tbody>\n",
       "</table>\n",
       "</div>"
      ],
      "text/plain": [
       "Empty DataFrame\n",
       "Columns: [date, sensor_id, vendor, sensor_model, latitude, longitude, zone, temp_f, humidity, dewpoint_f, pressure_pa, alert_triggered, sensor_status]\n",
       "Index: []"
      ]
     },
     "execution_count": 19,
     "metadata": {},
     "output_type": "execute_result"
    }
   ],
   "source": [
    "outliers"
   ]
  },
  {
   "cell_type": "markdown",
   "metadata": {},
   "source": [
    "\n"
   ]
  },
  {
   "cell_type": "markdown",
   "metadata": {},
   "source": [
    "## What is the humidity throughout the day for each zone?"
   ]
  },
  {
   "cell_type": "markdown",
   "metadata": {},
   "source": []
  },
  {
   "cell_type": "code",
   "execution_count": 20,
   "metadata": {},
   "outputs": [],
   "source": [
    "humidity = df.groupby(['date', 'zone']).humidity.agg(['mean']).sort_values(by=['zone', 'date']).reset_index()"
   ]
  },
  {
   "cell_type": "code",
   "execution_count": 21,
   "metadata": {},
   "outputs": [],
   "source": [
    "humidity.set_index(pd.DatetimeIndex(humidity['date']), inplace=True)"
   ]
  },
  {
   "cell_type": "code",
   "execution_count": 22,
   "metadata": {},
   "outputs": [
    {
     "data": {
      "text/html": [
       "<div>\n",
       "<style scoped>\n",
       "    .dataframe tbody tr th:only-of-type {\n",
       "        vertical-align: middle;\n",
       "    }\n",
       "\n",
       "    .dataframe tbody tr th {\n",
       "        vertical-align: top;\n",
       "    }\n",
       "\n",
       "    .dataframe thead th {\n",
       "        text-align: right;\n",
       "    }\n",
       "</style>\n",
       "<table border=\"1\" class=\"dataframe\">\n",
       "  <thead>\n",
       "    <tr style=\"text-align: right;\">\n",
       "      <th></th>\n",
       "      <th>date</th>\n",
       "      <th>zone</th>\n",
       "      <th>mean</th>\n",
       "    </tr>\n",
       "    <tr>\n",
       "      <th>date</th>\n",
       "      <th></th>\n",
       "      <th></th>\n",
       "      <th></th>\n",
       "    </tr>\n",
       "  </thead>\n",
       "  <tbody>\n",
       "    <tr>\n",
       "      <th>2021-04-20 00:00:06</th>\n",
       "      <td>2021-04-20 00:00:06</td>\n",
       "      <td>Brooks</td>\n",
       "      <td>50.333333</td>\n",
       "    </tr>\n",
       "    <tr>\n",
       "      <th>2021-04-20 00:01:47</th>\n",
       "      <td>2021-04-20 00:01:47</td>\n",
       "      <td>Brooks</td>\n",
       "      <td>50.333333</td>\n",
       "    </tr>\n",
       "    <tr>\n",
       "      <th>2021-04-20 00:03:06</th>\n",
       "      <td>2021-04-20 00:03:06</td>\n",
       "      <td>Brooks</td>\n",
       "      <td>50.333333</td>\n",
       "    </tr>\n",
       "    <tr>\n",
       "      <th>2021-04-20 00:04:18</th>\n",
       "      <td>2021-04-20 00:04:18</td>\n",
       "      <td>Brooks</td>\n",
       "      <td>72.000000</td>\n",
       "    </tr>\n",
       "    <tr>\n",
       "      <th>2021-04-20 00:04:21</th>\n",
       "      <td>2021-04-20 00:04:21</td>\n",
       "      <td>Brooks</td>\n",
       "      <td>71.000000</td>\n",
       "    </tr>\n",
       "    <tr>\n",
       "      <th>...</th>\n",
       "      <td>...</td>\n",
       "      <td>...</td>\n",
       "      <td>...</td>\n",
       "    </tr>\n",
       "    <tr>\n",
       "      <th>2021-06-18 23:50:00</th>\n",
       "      <td>2021-06-18 23:50:00</td>\n",
       "      <td>Medical Center</td>\n",
       "      <td>59.010000</td>\n",
       "    </tr>\n",
       "    <tr>\n",
       "      <th>2021-06-18 23:52:55</th>\n",
       "      <td>2021-06-18 23:52:55</td>\n",
       "      <td>Medical Center</td>\n",
       "      <td>54.333333</td>\n",
       "    </tr>\n",
       "    <tr>\n",
       "      <th>2021-06-18 23:55:00</th>\n",
       "      <td>2021-06-18 23:55:00</td>\n",
       "      <td>Medical Center</td>\n",
       "      <td>59.010000</td>\n",
       "    </tr>\n",
       "    <tr>\n",
       "      <th>2021-06-18 23:55:55</th>\n",
       "      <td>2021-06-18 23:55:55</td>\n",
       "      <td>Medical Center</td>\n",
       "      <td>55.333333</td>\n",
       "    </tr>\n",
       "    <tr>\n",
       "      <th>2021-06-18 23:58:55</th>\n",
       "      <td>2021-06-18 23:58:55</td>\n",
       "      <td>Medical Center</td>\n",
       "      <td>55.333333</td>\n",
       "    </tr>\n",
       "  </tbody>\n",
       "</table>\n",
       "<p>130497 rows × 3 columns</p>\n",
       "</div>"
      ],
      "text/plain": [
       "                                    date            zone       mean\n",
       "date                                                               \n",
       "2021-04-20 00:00:06  2021-04-20 00:00:06          Brooks  50.333333\n",
       "2021-04-20 00:01:47  2021-04-20 00:01:47          Brooks  50.333333\n",
       "2021-04-20 00:03:06  2021-04-20 00:03:06          Brooks  50.333333\n",
       "2021-04-20 00:04:18  2021-04-20 00:04:18          Brooks  72.000000\n",
       "2021-04-20 00:04:21  2021-04-20 00:04:21          Brooks  71.000000\n",
       "...                                  ...             ...        ...\n",
       "2021-06-18 23:50:00  2021-06-18 23:50:00  Medical Center  59.010000\n",
       "2021-06-18 23:52:55  2021-06-18 23:52:55  Medical Center  54.333333\n",
       "2021-06-18 23:55:00  2021-06-18 23:55:00  Medical Center  59.010000\n",
       "2021-06-18 23:55:55  2021-06-18 23:55:55  Medical Center  55.333333\n",
       "2021-06-18 23:58:55  2021-06-18 23:58:55  Medical Center  55.333333\n",
       "\n",
       "[130497 rows x 3 columns]"
      ]
     },
     "execution_count": 22,
     "metadata": {},
     "output_type": "execute_result"
    }
   ],
   "source": [
    "humidity"
   ]
  },
  {
   "cell_type": "code",
   "execution_count": 23,
   "metadata": {},
   "outputs": [
    {
     "data": {
      "image/png": "[encoded data removed]",
      "text/plain": [
       "<Figure size 1152x576 with 1 Axes>"
      ]
     },
     "metadata": {
      "needs_background": "light"
     },
     "output_type": "display_data"
    }
   ],
   "source": [
    "sns.set_context('talk')\n",
    "\n",
    "plt.figure(figsize=(16, 8))\n",
    "plt.plot(humidity.resample('D').agg(['max', 'mean', 'min']))\n",
    "\n",
    "plt.xlabel('')\n",
    "plt.ylabel('Humidity')\n",
    "plt.tight_layout();"
   ]
  },
  {
   "cell_type": "code",
   "execution_count": 24,
   "metadata": {},
   "outputs": [
    {
     "data": {
      "image/png": "[encoded data removed]",
      "text/plain": [
       "<Figure size 720x432 with 1 Axes>"
      ]
     },
     "metadata": {
      "needs_background": "light"
     },
     "output_type": "display_data"
    }
   ],
   "source": [
    "humidity[humidity.zone=='Brooks'].resample('D').agg(['max', 'mean', 'min']).plot(figsize=(10, 6), alpha=.75, legend=False)\n",
    "\n",
    "plt.xlabel('')\n",
    "plt.ylabel('Humidity')\n",
    "\n",
    "plt.ylim(0, 130)\n",
    "plt.tight_layout();"
   ]
  },
  {
   "cell_type": "code",
   "execution_count": 25,
   "metadata": {},
   "outputs": [
    {
     "data": {
      "image/png": "[encoded data removed]",
      "text/plain": [
       "<Figure size 720x432 with 1 Axes>"
      ]
     },
     "metadata": {
      "needs_background": "light"
     },
     "output_type": "display_data"
    }
   ],
   "source": [
    "humidity[humidity.zone=='Downtown'].resample('D').agg(['max', 'mean', 'min']).plot(figsize=(10, 6), alpha=.75, legend=False)\n",
    "\n",
    "plt.xlabel('')\n",
    "plt.ylabel('Humidity')\n",
    "\n",
    "plt.ylim(0, 130)\n",
    "plt.tight_layout();"
   ]
  },
  {
   "cell_type": "code",
   "execution_count": 26,
   "metadata": {},
   "outputs": [
    {
     "data": {
      "image/png": "[encoded data removed]",
      "text/plain": [
       "<Figure size 720x432 with 1 Axes>"
      ]
     },
     "metadata": {
      "needs_background": "light"
     },
     "output_type": "display_data"
    }
   ],
   "source": [
    "humidity[humidity.zone == 'Medical Center'].resample('D').agg(['max', 'mean', 'min']).plot(figsize=(10, 6), alpha=.75, legend=False)\n",
    "\n",
    "plt.xlabel('')\n",
    "plt.ylabel('Humidity')\n",
    "\n",
    "plt.ylim(0, 130)\n",
    "plt.tight_layout();"
   ]
  },
  {
   "cell_type": "code",
   "execution_count": 27,
   "metadata": {},
   "outputs": [
    {
     "data": {
      "text/plain": [
       "<AxesSubplot:xlabel='Lag', ylabel='Autocorrelation'>"
      ]
     },
     "execution_count": 27,
     "metadata": {},
     "output_type": "execute_result"
    },
    {
     "data": {
      "image/png": "[encoded data removed]",
      "text/plain": [
       "<Figure size 432x288 with 1 Axes>"
      ]
     },
     "metadata": {
      "needs_background": "light"
     },
     "output_type": "display_data"
    }
   ],
   "source": [
    "pd.plotting.autocorrelation_plot(humidity[humidity.zone=='Downtown'].resample('6H').mean())"
   ]
  },
  {
   "cell_type": "code",
   "execution_count": 28,
   "metadata": {},
   "outputs": [
    {
     "data": {
      "text/html": [
       "<div>\n",
       "<style scoped>\n",
       "    .dataframe tbody tr th:only-of-type {\n",
       "        vertical-align: middle;\n",
       "    }\n",
       "\n",
       "    .dataframe tbody tr th {\n",
       "        vertical-align: top;\n",
       "    }\n",
       "\n",
       "    .dataframe thead th {\n",
       "        text-align: right;\n",
       "    }\n",
       "</style>\n",
       "<table border=\"1\" class=\"dataframe\">\n",
       "  <thead>\n",
       "    <tr style=\"text-align: right;\">\n",
       "      <th></th>\n",
       "      <th>mean</th>\n",
       "      <th>tgl</th>\n",
       "    </tr>\n",
       "    <tr>\n",
       "      <th>date</th>\n",
       "      <th></th>\n",
       "      <th></th>\n",
       "    </tr>\n",
       "  </thead>\n",
       "  <tbody>\n",
       "    <tr>\n",
       "      <th>2021-05-01</th>\n",
       "      <td>88.678696</td>\n",
       "      <td>88 (01 May)</td>\n",
       "    </tr>\n",
       "    <tr>\n",
       "      <th>2021-04-30</th>\n",
       "      <td>84.330811</td>\n",
       "      <td>84 (30 April)</td>\n",
       "    </tr>\n",
       "    <tr>\n",
       "      <th>2021-04-29</th>\n",
       "      <td>81.765139</td>\n",
       "      <td>81 (29 April)</td>\n",
       "    </tr>\n",
       "  </tbody>\n",
       "</table>\n",
       "</div>"
      ],
      "text/plain": [
       "                 mean            tgl\n",
       "date                                \n",
       "2021-05-01  88.678696    88 (01 May)\n",
       "2021-04-30  84.330811  84 (30 April)\n",
       "2021-04-29  81.765139  81 (29 April)"
      ]
     },
     "execution_count": 28,
     "metadata": {},
     "output_type": "execute_result"
    }
   ],
   "source": [
    "top_dates = humidity.resample('D').mean().sort_values(by=['mean'],ascending=False).head(3)\n",
    "vals = []\n",
    "for tgl, tot in zip(top_dates.index, top_dates[\"mean\"]):\n",
    "    tgl = tgl.strftime(\"%d %B\")\n",
    "    val = \"%d (%s)\"%(tot, tgl)\n",
    "    vals.append(val)\n",
    "top_dates['tgl'] = vals\n",
    "top_dates"
   ]
  },
  {
   "cell_type": "code",
   "execution_count": 29,
   "metadata": {},
   "outputs": [
    {
     "data": {
      "application/vnd.plotly.v1+json": {
       "config": {
        "plotlyServerURL": "https://plot.ly"
       },
       "data": [
        {
         "text": "counts",
         "textfont": {
          "size": 12
         },
         "type": "scatter",
         "x": [
          "2021-04-20",
          "2021-04-21",
          "2021-04-22",
          "2021-04-23",
          "2021-04-24",
          "2021-04-25",
          "2021-04-26",
          "2021-04-27",
          "2021-04-28",
          "2021-04-29",
          "2021-04-30",
          "2021-05-01",
          "2021-05-02",
          "2021-05-03",
          "2021-05-04",
          "2021-05-05",
          "2021-05-06",
          "2021-05-07",
          "2021-05-08",
          "2021-05-09",
          "2021-05-10",
          "2021-05-11",
          "2021-05-12",
          "2021-05-13",
          "2021-05-14",
          "2021-05-15",
          "2021-05-16",
          "2021-05-17",
          "2021-05-18",
          "2021-05-19",
          "2021-05-20",
          "2021-05-21",
          "2021-05-22",
          "2021-05-23",
          "2021-05-24",
          "2021-05-25",
          "2021-05-26",
          "2021-05-27",
          "2021-05-28",
          "2021-05-29",
          "2021-05-30",
          "2021-05-31",
          "2021-06-01",
          "2021-06-02",
          "2021-06-03",
          "2021-06-04",
          "2021-06-05",
          "2021-06-06",
          "2021-06-07",
          "2021-06-08",
          "2021-06-09",
          "2021-06-10",
          "2021-06-11",
          "2021-06-12",
          "2021-06-13",
          "2021-06-14",
          "2021-06-15",
          "2021-06-16",
          "2021-06-17",
          "2021-06-18"
         ],
         "y": [
          42.928832784485905,
          34.76451612903234,
          60.036120401337854,
          79.45970082607717,
          51.113520124527554,
          53.817979797979774,
          64.61181882519465,
          80.29645491315716,
          71.09291559000847,
          81.76513881125429,
          84.33081126523736,
          88.67869586859145,
          65.43176870748289,
          70.37049978822522,
          61.19360056258791,
          48.46001400560227,
          49.68963463065935,
          52.369033646322386,
          65.94633764198983,
          66.32729190640583,
          70.21857923497268,
          77.5552927261975,
          75.16847335140018,
          68.54930875576036,
          57.84422714016112,
          78.74660912453773,
          70.42472359444838,
          73.96921470342565,
          70.13138888888953,
          70.65188746803109,
          62.083859528712225,
          65.23820979810824,
          78.26610002890975,
          78.39508281573528,
          73.54673855165096,
          68.79293569175964,
          69.84034902597381,
          66.34971631205697,
          71.67218445954923,
          69.294217492154,
          73.87794218386003,
          66.20539073806128,
          69.18511365032556,
          63.38961327561365,
          78.32355486056794,
          68.70519765914226,
          79.5869444444442,
          70.04276734807425,
          73.34251165268424,
          69.98898400000026,
          70.39902587519046,
          66.46509301364225,
          63.379104876419916,
          62.70032539682471,
          59.00256002122251,
          54.605570406372415,
          52.483387587667345,
          52.06915310214675,
          51.28244747302643,
          52.62602856040136
         ]
        },
        {
         "marker": {
          "color": "red",
          "size": 8
         },
         "mode": "markers+text",
         "text": [
          "88 (01 May)",
          "84 (30 April)",
          "81 (29 April)"
         ],
         "textfont": {
          "color": "#233a77",
          "size": 12
         },
         "textposition": "top center",
         "type": "scatter",
         "x": [
          "2021-05-01T00:00:00",
          "2021-04-30T00:00:00",
          "2021-04-29T00:00:00"
         ],
         "y": [
          88.67869586859145,
          84.33081126523736,
          81.76513881125429
         ]
        }
       ],
       "layout": {
        "showlegend": false,
        "template": {
         "data": {
          "bar": [
           {
            "error_x": {
             "color": "#2a3f5f"
            },
            "error_y": {
             "color": "#2a3f5f"
            },
            "marker": {
             "line": {
              "color": "#E5ECF6",
              "width": 0.5
             }
            },
            "type": "bar"
           }
          ],
          "barpolar": [
           {
            "marker": {
             "line": {
              "color": "#E5ECF6",
              "width": 0.5
             }
            },
            "type": "barpolar"
           }
          ],
          "carpet": [
           {
            "aaxis": {
             "endlinecolor": "#2a3f5f",
             "gridcolor": "white",
             "linecolor": "white",
             "minorgridcolor": "white",
             "startlinecolor": "#2a3f5f"
            },
            "baxis": {
             "endlinecolor": "#2a3f5f",
             "gridcolor": "white",
             "linecolor": "white",
             "minorgridcolor": "white",
             "startlinecolor": "#2a3f5f"
            },
            "type": "carpet"
           }
          ],
          "choropleth": [
           {
            "colorbar": {
             "outlinewidth": 0,
             "ticks": ""
            },
            "type": "choropleth"
           }
          ],
          "contour": [
           {
            "colorbar": {
             "outlinewidth": 0,
             "ticks": ""
            },
            "colorscale": [
             [
              0,
              "#0d0887"
             ],
             [
              0.1111111111111111,
              "#46039f"
             ],
             [
              0.2222222222222222,
              "#7201a8"
             ],
             [
              0.3333333333333333,
              "#9c179e"
             ],
             [
              0.4444444444444444,
              "#bd3786"
             ],
             [
              0.5555555555555556,
              "#d8576b"
             ],
             [
              0.6666666666666666,
              "#ed7953"
             ],
             [
              0.7777777777777778,
              "#fb9f3a"
             ],
             [
              0.8888888888888888,
              "#fdca26"
             ],
             [
              1,
              "#f0f921"
             ]
            ],
            "type": "contour"
           }
          ],
          "contourcarpet": [
           {
            "colorbar": {
             "outlinewidth": 0,
             "ticks": ""
            },
            "type": "contourcarpet"
           }
          ],
          "heatmap": [
           {
            "colorbar": {
             "outlinewidth": 0,
             "ticks": ""
            },
            "colorscale": [
             [
              0,
              "#0d0887"
             ],
             [
              0.1111111111111111,
              "#46039f"
             ],
             [
              0.2222222222222222,
              "#7201a8"
             ],
             [
              0.3333333333333333,
              "#9c179e"
             ],
             [
              0.4444444444444444,
              "#bd3786"
             ],
             [
              0.5555555555555556,
              "#d8576b"
             ],
             [
              0.6666666666666666,
              "#ed7953"
             ],
             [
              0.7777777777777778,
              "#fb9f3a"
             ],
             [
              0.8888888888888888,
              "#fdca26"
             ],
             [
              1,
              "#f0f921"
             ]
            ],
            "type": "heatmap"
           }
          ],
          "heatmapgl": [
           {
            "colorbar": {
             "outlinewidth": 0,
             "ticks": ""
            },
            "colorscale": [
             [
              0,
              "#0d0887"
             ],
             [
              0.1111111111111111,
              "#46039f"
             ],
             [
              0.2222222222222222,
              "#7201a8"
             ],
             [
              0.3333333333333333,
              "#9c179e"
             ],
             [
              0.4444444444444444,
              "#bd3786"
             ],
             [
              0.5555555555555556,
              "#d8576b"
             ],
             [
              0.6666666666666666,
              "#ed7953"
             ],
             [
              0.7777777777777778,
              "#fb9f3a"
             ],
             [
              0.8888888888888888,
              "#fdca26"
             ],
             [
              1,
              "#f0f921"
             ]
            ],
            "type": "heatmapgl"
           }
          ],
          "histogram": [
           {
            "marker": {
             "colorbar": {
              "outlinewidth": 0,
              "ticks": ""
             }
            },
            "type": "histogram"
           }
          ],
          "histogram2d": [
           {
            "colorbar": {
             "outlinewidth": 0,
             "ticks": ""
            },
            "colorscale": [
             [
              0,
              "#0d0887"
             ],
             [
              0.1111111111111111,
              "#46039f"
             ],
             [
              0.2222222222222222,
              "#7201a8"
             ],
             [
              0.3333333333333333,
              "#9c179e"
             ],
             [
              0.4444444444444444,
              "#bd3786"
             ],
             [
              0.5555555555555556,
              "#d8576b"
             ],
             [
              0.6666666666666666,
              "#ed7953"
             ],
             [
              0.7777777777777778,
              "#fb9f3a"
             ],
             [
              0.8888888888888888,
              "#fdca26"
             ],
             [
              1,
              "#f0f921"
             ]
            ],
            "type": "histogram2d"
           }
          ],
          "histogram2dcontour": [
           {
            "colorbar": {
             "outlinewidth": 0,
             "ticks": ""
            },
            "colorscale": [
             [
              0,
              "#0d0887"
             ],
             [
              0.1111111111111111,
              "#46039f"
             ],
             [
              0.2222222222222222,
              "#7201a8"
             ],
             [
              0.3333333333333333,
              "#9c179e"
             ],
             [
              0.4444444444444444,
              "#bd3786"
             ],
             [
              0.5555555555555556,
              "#d8576b"
             ],
             [
              0.6666666666666666,
              "#ed7953"
             ],
             [
              0.7777777777777778,
              "#fb9f3a"
             ],
             [
              0.8888888888888888,
              "#fdca26"
             ],
             [
              1,
              "#f0f921"
             ]
            ],
            "type": "histogram2dcontour"
           }
          ],
          "mesh3d": [
           {
            "colorbar": {
             "outlinewidth": 0,
             "ticks": ""
            },
            "type": "mesh3d"
           }
          ],
          "parcoords": [
           {
            "line": {
             "colorbar": {
              "outlinewidth": 0,
              "ticks": ""
             }
            },
            "type": "parcoords"
           }
          ],
          "pie": [
           {
            "automargin": true,
            "type": "pie"
           }
          ],
          "scatter": [
           {
            "marker": {
             "colorbar": {
              "outlinewidth": 0,
              "ticks": ""
             }
            },
            "type": "scatter"
           }
          ],
          "scatter3d": [
           {
            "line": {
             "colorbar": {
              "outlinewidth": 0,
              "ticks": ""
             }
            },
            "marker": {
             "colorbar": {
              "outlinewidth": 0,
              "ticks": ""
             }
            },
            "type": "scatter3d"
           }
          ],
          "scattercarpet": [
           {
            "marker": {
             "colorbar": {
              "outlinewidth": 0,
              "ticks": ""
             }
            },
            "type": "scattercarpet"
           }
          ],
          "scattergeo": [
           {
            "marker": {
             "colorbar": {
              "outlinewidth": 0,
              "ticks": ""
             }
            },
            "type": "scattergeo"
           }
          ],
          "scattergl": [
           {
            "marker": {
             "colorbar": {
              "outlinewidth": 0,
              "ticks": ""
             }
            },
            "type": "scattergl"
           }
          ],
          "scattermapbox": [
           {
            "marker": {
             "colorbar": {
              "outlinewidth": 0,
              "ticks": ""
             }
            },
            "type": "scattermapbox"
           }
          ],
          "scatterpolar": [
           {
            "marker": {
             "colorbar": {
              "outlinewidth": 0,
              "ticks": ""
             }
            },
            "type": "scatterpolar"
           }
          ],
          "scatterpolargl": [
           {
            "marker": {
             "colorbar": {
              "outlinewidth": 0,
              "ticks": ""
             }
            },
            "type": "scatterpolargl"
           }
          ],
          "scatterternary": [
           {
            "marker": {
             "colorbar": {
              "outlinewidth": 0,
              "ticks": ""
             }
            },
            "type": "scatterternary"
           }
          ],
          "surface": [
           {
            "colorbar": {
             "outlinewidth": 0,
             "ticks": ""
            },
            "colorscale": [
             [
              0,
              "#0d0887"
             ],
             [
              0.1111111111111111,
              "#46039f"
             ],
             [
              0.2222222222222222,
              "#7201a8"
             ],
             [
              0.3333333333333333,
              "#9c179e"
             ],
             [
              0.4444444444444444,
              "#bd3786"
             ],
             [
              0.5555555555555556,
              "#d8576b"
             ],
             [
              0.6666666666666666,
              "#ed7953"
             ],
             [
              0.7777777777777778,
              "#fb9f3a"
             ],
             [
              0.8888888888888888,
              "#fdca26"
             ],
             [
              1,
              "#f0f921"
             ]
            ],
            "type": "surface"
           }
          ],
          "table": [
           {
            "cells": {
             "fill": {
              "color": "#EBF0F8"
             },
             "line": {
              "color": "white"
             }
            },
            "header": {
             "fill": {
              "color": "#C8D4E3"
             },
             "line": {
              "color": "white"
             }
            },
            "type": "table"
           }
          ]
         },
         "layout": {
          "annotationdefaults": {
           "arrowcolor": "#2a3f5f",
           "arrowhead": 0,
           "arrowwidth": 1
          },
          "coloraxis": {
           "colorbar": {
            "outlinewidth": 0,
            "ticks": ""
           }
          },
          "colorscale": {
           "diverging": [
            [
             0,
             "#8e0152"
            ],
            [
             0.1,
             "#c51b7d"
            ],
            [
             0.2,
             "#de77ae"
            ],
            [
             0.3,
             "#f1b6da"
            ],
            [
             0.4,
             "#fde0ef"
            ],
            [
             0.5,
             "#f7f7f7"
            ],
            [
             0.6,
             "#e6f5d0"
            ],
            [
             0.7,
             "#b8e186"
            ],
            [
             0.8,
             "#7fbc41"
            ],
            [
             0.9,
             "#4d9221"
            ],
            [
             1,
             "#276419"
            ]
           ],
           "sequential": [
            [
             0,
             "#0d0887"
            ],
            [
             0.1111111111111111,
             "#46039f"
            ],
            [
             0.2222222222222222,
             "#7201a8"
            ],
            [
             0.3333333333333333,
             "#9c179e"
            ],
            [
             0.4444444444444444,
             "#bd3786"
            ],
            [
             0.5555555555555556,
             "#d8576b"
            ],
            [
             0.6666666666666666,
             "#ed7953"
            ],
            [
             0.7777777777777778,
             "#fb9f3a"
            ],
            [
             0.8888888888888888,
             "#fdca26"
            ],
            [
             1,
             "#f0f921"
            ]
           ],
           "sequentialminus": [
            [
             0,
             "#0d0887"
            ],
            [
             0.1111111111111111,
             "#46039f"
            ],
            [
             0.2222222222222222,
             "#7201a8"
            ],
            [
             0.3333333333333333,
             "#9c179e"
            ],
            [
             0.4444444444444444,
             "#bd3786"
            ],
            [
             0.5555555555555556,
             "#d8576b"
            ],
            [
             0.6666666666666666,
             "#ed7953"
            ],
            [
             0.7777777777777778,
             "#fb9f3a"
            ],
            [
             0.8888888888888888,
             "#fdca26"
            ],
            [
             1,
             "#f0f921"
            ]
           ]
          },
          "colorway": [
           "#636efa",
           "#EF553B",
           "#00cc96",
           "#ab63fa",
           "#FFA15A",
           "#19d3f3",
           "#FF6692",
           "#B6E880",
           "#FF97FF",
           "#FECB52"
          ],
          "font": {
           "color": "#2a3f5f"
          },
          "geo": {
           "bgcolor": "white",
           "lakecolor": "white",
           "landcolor": "#E5ECF6",
           "showlakes": true,
           "showland": true,
           "subunitcolor": "white"
          },
          "hoverlabel": {
           "align": "left"
          },
          "hovermode": "closest",
          "mapbox": {
           "style": "light"
          },
          "paper_bgcolor": "white",
          "plot_bgcolor": "#E5ECF6",
          "polar": {
           "angularaxis": {
            "gridcolor": "white",
            "linecolor": "white",
            "ticks": ""
           },
           "bgcolor": "#E5ECF6",
           "radialaxis": {
            "gridcolor": "white",
            "linecolor": "white",
            "ticks": ""
           }
          },
          "scene": {
           "xaxis": {
            "backgroundcolor": "#E5ECF6",
            "gridcolor": "white",
            "gridwidth": 2,
            "linecolor": "white",
            "showbackground": true,
            "ticks": "",
            "zerolinecolor": "white"
           },
           "yaxis": {
            "backgroundcolor": "#E5ECF6",
            "gridcolor": "white",
            "gridwidth": 2,
            "linecolor": "white",
            "showbackground": true,
            "ticks": "",
            "zerolinecolor": "white"
           },
           "zaxis": {
            "backgroundcolor": "#E5ECF6",
            "gridcolor": "white",
            "gridwidth": 2,
            "linecolor": "white",
            "showbackground": true,
            "ticks": "",
            "zerolinecolor": "white"
           }
          },
          "shapedefaults": {
           "line": {
            "color": "#2a3f5f"
           }
          },
          "ternary": {
           "aaxis": {
            "gridcolor": "white",
            "linecolor": "white",
            "ticks": ""
           },
           "baxis": {
            "gridcolor": "white",
            "linecolor": "white",
            "ticks": ""
           },
           "bgcolor": "#E5ECF6",
           "caxis": {
            "gridcolor": "white",
            "linecolor": "white",
            "ticks": ""
           }
          },
          "title": {
           "x": 0.05
          },
          "xaxis": {
           "automargin": true,
           "gridcolor": "white",
           "linecolor": "white",
           "ticks": "",
           "title": {
            "standoff": 15
           },
           "zerolinecolor": "white",
           "zerolinewidth": 2
          },
          "yaxis": {
           "automargin": true,
           "gridcolor": "white",
           "linecolor": "white",
           "ticks": "",
           "title": {
            "standoff": 15
           },
           "zerolinecolor": "white",
           "zerolinewidth": 2
          }
         }
        },
        "title": {
         "text": "Humidity in all zones"
        },
        "uniformtext": {
         "minsize": 8,
         "mode": "hide"
        },
        "xaxis": {
         "range": [
          "2021-04-15",
          "2021-06-01"
         ]
        },
        "yaxis": {
         "range": [
          0,
          100
         ],
         "title": {
          "text": "Humidity"
         }
        }
       }
      }
     },
     "metadata": {},
     "output_type": "display_data"
    }
   ],
   "source": [
    "fig = go.Figure(data=go.Scatter(x=humidity.resample('D').mean().index.astype(dtype=str), \n",
    "                                y=humidity.resample('D').mean()['mean'],\n",
    "                                text=\"counts\"))\n",
    "\n",
    "fig.update_layout({\"title\": 'Humidity in all zones',\n",
    "                   \"yaxis\": {\"title\": r\"Humidity\"},\n",
    "                   \"showlegend\": False})\n",
    "\n",
    "fig.add_traces(go.Scatter(x=top_dates.index, y=top_dates['mean'],\n",
    "                          textposition='top center',\n",
    "                          textfont=dict(color='#233a77'),\n",
    "                          mode='markers+text',\n",
    "                          marker=dict(color='red', size=8),\n",
    "                          text = top_dates[\"tgl\"]))\n",
    "\n",
    "fig.update_traces(textfont_size=12)\n",
    "fig.update_layout(uniformtext_minsize=8, uniformtext_mode='hide',\n",
    "xaxis_range=['2021-04-15','2021-06-01'],\n",
    "yaxis_range=[0, 100])\n",
    "\n",
    "fig.show()"
   ]
  },
  {
   "cell_type": "markdown",
   "metadata": {},
   "source": [
    "### Hypothesis Tests"
   ]
  },
  {
   "cell_type": "code",
   "execution_count": null,
   "metadata": {},
   "outputs": [],
   "source": []
  },
  {
   "cell_type": "markdown",
   "metadata": {},
   "source": [
    "## Conclusions "
   ]
  },
  {
   "cell_type": "code",
   "execution_count": null,
   "metadata": {},
   "outputs": [],
   "source": []
  }
 ],
 "metadata": {
  "interpreter": {
   "hash": "e134e05457d34029b6460cd73bbf1ed73f339b5b6d98c95be70b69eba114fe95"
  },
  "kernelspec": {
   "display_name": "Python 3.7.6 64-bit ('base': conda)",
   "name": "python3"
  },
  "language_info": {
   "codemirror_mode": {
    "name": "ipython",
    "version": 3
   },
   "file_extension": ".py",
   "mimetype": "text/x-python",
   "name": "python",
   "nbconvert_exporter": "python",
   "pygments_lexer": "ipython3",
   "version": "3.7.6"
  }
 },
 "nbformat": 4,
 "nbformat_minor": 2
}