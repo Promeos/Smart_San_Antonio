{
 "cells": [
  {
   "cell_type": "code",
   "execution_count": 1,
   "metadata": {},
   "outputs": [],
   "source": [
    "import pandas as pd\n",
    "import numpy as np\n",
    "\n",
    "import math"
   ]
  },
  {
   "cell_type": "markdown",
   "metadata": {},
   "source": [
    "# Air Quality Index\n",
    "Formula to Calculate the Air Quality Index for any specified pollutant\n",
    "\n",
    "\n",
    "# $ \\frac{I_{Hi} - I_{Lo}}{BP_{Hi} - BP_{Lo}}(C_p - BP_{Lo}) + I_{Lo} $\n",
    "\n",
    "Where:\n",
    "- $I_p$ = the index for pollutant p\n",
    "- $C_p$ = the truncated concentration of pollutant p\n",
    "- $BP_{Hi}$ = the concentration breakpoint that is greater than or equal to Cp\n",
    "- $BP_{Lo}$ = the concentration breakpoint that is less than or equal to Cp\n",
    "- $I_{Hi}$ = the AQI value corresponding to BPHi\n",
    "- $I_{Lo}$ = the AQI value corresponding to BPLo\n",
    "\n",
    "\n",
    "Pollutant Value Modifications:\n",
    "- Ozone (ppm) – truncate to 3 decimal places\n",
    "- PM2.5 (μg/m3) – truncate to 1 decimal place\n",
    "- PM10 (μg/m3) – truncate to integer\n",
    "- CO (ppm) – truncate to 1 decimal place\n",
    "- SO2 (ppb) – truncate to integer\n",
    "- NO2 (ppb) – truncate to integer\n",
    "\n",
    "\n",
    "## Calculate the AQI of Ozone"
   ]
  },
  {
   "cell_type": "code",
   "execution_count": 2,
   "metadata": {},
   "outputs": [],
   "source": [
    "categories = ['Good',\n",
    "              'Moderate',\n",
    "              'Unhealthy for Sensitive Groups',\n",
    "              'Unhealthy',\n",
    "              'Very unhealthy',\n",
    "              'Hazardous',\n",
    "              'Extremely Hazardous']\n",
    "\n",
    "AQI_Lower_Limits = [0, 51, 101, 151, 201, 301, 401]\n",
    "AQI_Upper_Limits = [50, 100, 150, 200, 300, 400, 500]\n",
    "\n",
    "\n",
    "pm25_L = [0.0, 12.1, 35.5, 55.5, 150.5, 250.5, 350.5]\n",
    "pm25_U = [12.0, 35.4, 55.4, 150.4, 250.4, 350.4, 500.4]\n",
    "\n",
    "df_aqi = pd.DataFrame({'PM 2.5 Lower': pm25_L,\n",
    "                       'PM 2.5 Upper': pm25_U,\n",
    "                       'AQI_Lower': AQI_Lower_Limits,\n",
    "                       'AQI_Upper': AQI_Upper_Limits,\n",
    "                       'category': categories})"
   ]
  },
  {
   "cell_type": "code",
   "execution_count": 3,
   "metadata": {},
   "outputs": [
    {
     "data": {
      "text/html": [
       "<div>\n",
       "<style scoped>\n",
       "    .dataframe tbody tr th:only-of-type {\n",
       "        vertical-align: middle;\n",
       "    }\n",
       "\n",
       "    .dataframe tbody tr th {\n",
       "        vertical-align: top;\n",
       "    }\n",
       "\n",
       "    .dataframe thead th {\n",
       "        text-align: right;\n",
       "    }\n",
       "</style>\n",
       "<table border=\"1\" class=\"dataframe\">\n",
       "  <thead>\n",
       "    <tr style=\"text-align: right;\">\n",
       "      <th></th>\n",
       "      <th>PM 2.5 Lower</th>\n",
       "      <th>PM 2.5 Upper</th>\n",
       "      <th>AQI_Lower</th>\n",
       "      <th>AQI_Upper</th>\n",
       "      <th>category</th>\n",
       "    </tr>\n",
       "  </thead>\n",
       "  <tbody>\n",
       "    <tr>\n",
       "      <th>0</th>\n",
       "      <td>0.0</td>\n",
       "      <td>12.0</td>\n",
       "      <td>0</td>\n",
       "      <td>50</td>\n",
       "      <td>Good</td>\n",
       "    </tr>\n",
       "    <tr>\n",
       "      <th>1</th>\n",
       "      <td>12.1</td>\n",
       "      <td>35.4</td>\n",
       "      <td>51</td>\n",
       "      <td>100</td>\n",
       "      <td>Moderate</td>\n",
       "    </tr>\n",
       "    <tr>\n",
       "      <th>2</th>\n",
       "      <td>35.5</td>\n",
       "      <td>55.4</td>\n",
       "      <td>101</td>\n",
       "      <td>150</td>\n",
       "      <td>Unhealthy for Sensitive Groups</td>\n",
       "    </tr>\n",
       "    <tr>\n",
       "      <th>3</th>\n",
       "      <td>55.5</td>\n",
       "      <td>150.4</td>\n",
       "      <td>151</td>\n",
       "      <td>200</td>\n",
       "      <td>Unhealthy</td>\n",
       "    </tr>\n",
       "    <tr>\n",
       "      <th>4</th>\n",
       "      <td>150.5</td>\n",
       "      <td>250.4</td>\n",
       "      <td>201</td>\n",
       "      <td>300</td>\n",
       "      <td>Very unhealthy</td>\n",
       "    </tr>\n",
       "    <tr>\n",
       "      <th>5</th>\n",
       "      <td>250.5</td>\n",
       "      <td>350.4</td>\n",
       "      <td>301</td>\n",
       "      <td>400</td>\n",
       "      <td>Hazardous</td>\n",
       "    </tr>\n",
       "    <tr>\n",
       "      <th>6</th>\n",
       "      <td>350.5</td>\n",
       "      <td>500.4</td>\n",
       "      <td>401</td>\n",
       "      <td>500</td>\n",
       "      <td>Extremely Hazardous</td>\n",
       "    </tr>\n",
       "  </tbody>\n",
       "</table>\n",
       "</div>"
      ],
      "text/plain": [
       "   PM 2.5 Lower  PM 2.5 Upper  AQI_Lower  AQI_Upper  \\\n",
       "0           0.0          12.0          0         50   \n",
       "1          12.1          35.4         51        100   \n",
       "2          35.5          55.4        101        150   \n",
       "3          55.5         150.4        151        200   \n",
       "4         150.5         250.4        201        300   \n",
       "5         250.5         350.4        301        400   \n",
       "6         350.5         500.4        401        500   \n",
       "\n",
       "                         category  \n",
       "0                            Good  \n",
       "1                        Moderate  \n",
       "2  Unhealthy for Sensitive Groups  \n",
       "3                       Unhealthy  \n",
       "4                  Very unhealthy  \n",
       "5                       Hazardous  \n",
       "6             Extremely Hazardous  "
      ]
     },
     "execution_count": 3,
     "metadata": {},
     "output_type": "execute_result"
    }
   ],
   "source": [
    "df_aqi"
   ]
  },
  {
   "cell_type": "code",
   "execution_count": 4,
   "metadata": {},
   "outputs": [
    {
     "data": {
      "text/plain": [
       "35.8"
      ]
     },
     "execution_count": 4,
     "metadata": {},
     "output_type": "execute_result"
    }
   ],
   "source": [
    "# Setup variables to calculate the AQI for Partical Matter of 2.5 Microns\n",
    "pm_2_5 = 35.89089555\n",
    "\n",
    "# Create a function to truncate pollutant values\n",
    "def truncate(number, n_decimals=0):\n",
    "    \"\"\"\n",
    "    Truncate value to a specific number of decimal places.\n",
    "    \n",
    "    \n",
    "    Parameters\n",
    "    ----------\n",
    "    number : float data type\n",
    "        The average amount of a pollutant in the atmosphere.\n",
    "    \n",
    "    n_decimals : int, default 0\n",
    "        The number of decimal places to keep.\n",
    "    \n",
    "    Returns\n",
    "    -------\n",
    "    The pollutant truncated to n_decimals.\n",
    "    \n",
    "    \"\"\"\n",
    "    # Shift the value by the number of decimal place to keep.\n",
    "    factor = 10.0 ** n_decimals\n",
    "    \n",
    "    return math.trunc(number * factor) / factor\n",
    "\n",
    "truncate(pm_2_5, n_decimals=1)"
   ]
  },
  {
   "cell_type": "code",
   "execution_count": 5,
   "metadata": {},
   "outputs": [
    {
     "data": {
      "text/html": [
       "<div>\n",
       "<style scoped>\n",
       "    .dataframe tbody tr th:only-of-type {\n",
       "        vertical-align: middle;\n",
       "    }\n",
       "\n",
       "    .dataframe tbody tr th {\n",
       "        vertical-align: top;\n",
       "    }\n",
       "\n",
       "    .dataframe thead th {\n",
       "        text-align: right;\n",
       "    }\n",
       "</style>\n",
       "<table border=\"1\" class=\"dataframe\">\n",
       "  <thead>\n",
       "    <tr style=\"text-align: right;\">\n",
       "      <th></th>\n",
       "      <th>PM 2.5 Lower</th>\n",
       "      <th>PM 2.5 Upper</th>\n",
       "      <th>AQI_Lower</th>\n",
       "      <th>AQI_Upper</th>\n",
       "      <th>category</th>\n",
       "    </tr>\n",
       "  </thead>\n",
       "  <tbody>\n",
       "    <tr>\n",
       "      <th>0</th>\n",
       "      <td>35.5</td>\n",
       "      <td>55.4</td>\n",
       "      <td>101</td>\n",
       "      <td>150</td>\n",
       "      <td>Unhealthy for Sensitive Groups</td>\n",
       "    </tr>\n",
       "  </tbody>\n",
       "</table>\n",
       "</div>"
      ],
      "text/plain": [
       "   PM 2.5 Lower  PM 2.5 Upper  AQI_Lower  AQI_Upper  \\\n",
       "0          35.5          55.4        101        150   \n",
       "\n",
       "                         category  \n",
       "0  Unhealthy for Sensitive Groups  "
      ]
     },
     "execution_count": 5,
     "metadata": {},
     "output_type": "execute_result"
    }
   ],
   "source": [
    "index = df_aqi.loc[(df_aqi['PM 2.5 Upper'] > pm_2_5)&(df_aqi['PM 2.5 Lower'] < pm_2_5)].reset_index(drop=True)\n",
    "index"
   ]
  },
  {
   "cell_type": "code",
   "execution_count": 6,
   "metadata": {},
   "outputs": [],
   "source": [
    "BP_high = index['PM 2.5 Upper']\n",
    "BP_low = index['PM 2.5 Lower']\n",
    "I_high = index['AQI_Upper']\n",
    "I_low = index['AQI_Lower']\n",
    "category = index['category'][0]"
   ]
  },
  {
   "cell_type": "code",
   "execution_count": 7,
   "metadata": {},
   "outputs": [
    {
     "name": "stdout",
     "output_type": "stream",
     "text": [
      "The AQI today is 101. The category is Unhealthy for Sensitive Groups.\n"
     ]
    }
   ],
   "source": [
    "AQI = int(((I_high - I_low)/(BP_high - BP_low))*(pm_2_5 - BP_low) + I_low)\n",
    "\n",
    "print(f\"The AQI today is {AQI}. The category is {category}.\")"
   ]
  },
  {
   "cell_type": "markdown",
   "metadata": {},
   "source": [
    "## Create a table to store AQI table for Ozone and Particle Matter 2.5"
   ]
  },
  {
   "cell_type": "code",
   "execution_count": 8,
   "metadata": {},
   "outputs": [],
   "source": [
    "categories = ['Good',\n",
    "              'Moderate',\n",
    "              'Unhealthy for Sensitive Groups',\n",
    "              'Unhealthy',\n",
    "              'Very unhealthy',\n",
    "              'Hazardous',\n",
    "              'Extremely Hazardous']\n",
    "\n",
    "AQI_Lower_Limits = [0, 51, 101, 151, 201, 301, 401]\n",
    "AQI_Upper_Limits = [50, 100, 150, 200, 300, 400, 500]\n",
    "\n",
    "\n",
    "pm25_L = [0.0, 12.1, 35.5, 55.5, 150.5, 250.5, 350.5]\n",
    "pm25_U = [12.0, 35.4, 55.4, 150.4, 250.4, 350.4, 500.4]\n",
    "\n",
    "ozone_L = [0.000, 0.055, 0.071, 0.086, 0.106, np.nan, np.nan]\n",
    "ozone_U = [0.054, 0.070, 0.085, 0.105, 0.200, np.nan, np.nan]\n",
    "\n",
    "df_aqi = pd.DataFrame({'PM 2.5 Lower': pm25_L,\n",
    "                       'PM 2.5 Upper': pm25_U,\n",
    "                       'Ozone Lower': ozone_L,\n",
    "                       'Ozone Upper': ozone_U,\n",
    "                       'AQI_Lower': AQI_Lower_Limits,\n",
    "                       'AQI_Upper': AQI_Upper_Limits,\n",
    "                       'category': categories})\n",
    "\n",
    "\n"
   ]
  },
  {
   "cell_type": "markdown",
   "metadata": {},
   "source": [
    "# AQI Function"
   ]
  },
  {
   "cell_type": "code",
   "execution_count": 37,
   "metadata": {},
   "outputs": [],
   "source": [
    "def aqi_table():\n",
    "    '''\n",
    "    Return a table of AQI parameters\n",
    "    '''\n",
    "    categories = ['Good',\n",
    "              'Moderate',\n",
    "              'Unhealthy for Sensitive Groups',\n",
    "              'Unhealthy',\n",
    "              'Very unhealthy',\n",
    "              'Hazardous',\n",
    "              'Extremely Hazardous']\n",
    "\n",
    "    AQI_Lower_Limits = [0, 51, 101, 151, 201, 301, 401]\n",
    "    AQI_Upper_Limits = [50, 100, 150, 200, 300, 400, 500]\n",
    "\n",
    "\n",
    "    pm25_L = [0.0, 12.1, 35.5, 55.5, 150.5, 250.5, 350.5]\n",
    "    pm25_U = [12.0, 35.4, 55.4, 150.4, 250.4, 350.4, 500.4]\n",
    "\n",
    "    ozone_L = [0.000, 0.055, 0.071, 0.086, 0.106, np.nan, np.nan]\n",
    "    ozone_U = [0.054, 0.070, 0.085, 0.105, 0.200, np.nan, np.nan]\n",
    "\n",
    "    df_aqi = pd.DataFrame({'PM 2.5 Lower': pm25_L,\n",
    "                           'PM 2.5 Upper': pm25_U,\n",
    "                           'Ozone Lower': ozone_L,\n",
    "                           'Ozone Upper': ozone_U,\n",
    "                           'AQI_Lower': AQI_Lower_Limits,\n",
    "                           'AQI_Upper': AQI_Upper_Limits,\n",
    "                           'category': categories})\n",
    "\n",
    "    return df_aqi\n",
    "\n",
    "\n",
    "def aqi(pollutant='ozone', c=.050):\n",
    "    '''\n",
    "    Calculates the Air Quality Index for a given pollutant.\n",
    "    \n",
    "    Parameters\n",
    "    ----------\n",
    "    pollutant : str, default 'ozone'\n",
    "    \n",
    "        pollutant options\n",
    "        -----------------\n",
    "        'ozone': Calculate the AQI for Ozone AKA O3\n",
    "        'pm2.5': Calculate the AQI for Particle Matter Smaller than 2.5 Microns\n",
    "    \n",
    "    c : numeric, default 10\n",
    "        The calculated average of the pollutant\n",
    "    \n",
    "    Returns\n",
    "    -------\n",
    "    The Air Quality Index with Category\n",
    "    '''\n",
    "    table = aqi_table()\n",
    "    \n",
    "    if pollutant == 'ozone':\n",
    "        decimals = 3\n",
    "        upper_bound = 'Ozone Upper'\n",
    "        lower_bound = 'Ozone Lower'\n",
    "    elif pollutant == 'pm2.5':\n",
    "        decimals = 1\n",
    "        upper_bound = 'PM 2.5 Upper'\n",
    "        lower_bound = 'PM 2.5 Lower'\n",
    "    \n",
    "    C_p = truncate(c, n_decimals = decimals)\n",
    "    \n",
    "    I = table.loc[(table[upper_bound] >= C_p)&(table[lower_bound] <= C_p)].reset_index(drop=True)\n",
    "\n",
    "    BP_high = I[upper_bound]\n",
    "    BP_low = I[lower_bound]\n",
    "    I_high = I['AQI_Upper']\n",
    "    I_low = I['AQI_Lower']\n",
    "    category = I['category'][0]\n",
    "\n",
    "    AQI = int(((I_high - I_low)/(BP_high - BP_low))*(C_p- BP_low) + I_low)\n",
    "\n",
    "    print(f\"The AQI is {AQI}. Category: {category}\")"
   ]
  },
  {
   "cell_type": "code",
   "execution_count": 38,
   "metadata": {},
   "outputs": [
    {
     "name": "stdout",
     "output_type": "stream",
     "text": [
      "The AQI is 201. Category: Very unhealthy\n"
     ]
    }
   ],
   "source": [
    "aqi(pollutant='ozone', c=0.106)"
   ]
  },
  {
   "cell_type": "code",
   "execution_count": 39,
   "metadata": {},
   "outputs": [
    {
     "name": "stdout",
     "output_type": "stream",
     "text": [
      "The AQI is 41. Category: Good\n"
     ]
    }
   ],
   "source": [
    "aqi(pollutant='pm2.5', c=10)"
   ]
  }
 ],
 "metadata": {
  "interpreter": {
   "hash": "e134e05457d34029b6460cd73bbf1ed73f339b5b6d98c95be70b69eba114fe95"
  },
  "kernelspec": {
   "display_name": "Python 3.7.6 64-bit ('base': conda)",
   "name": "python3"
  },
  "language_info": {
   "codemirror_mode": {
    "name": "ipython",
    "version": 3
   },
   "file_extension": ".py",
   "mimetype": "text/x-python",
   "name": "python",
   "nbconvert_exporter": "python",
   "pygments_lexer": "ipython3",
   "version": "3.7.6"
  }
 },
 "nbformat": 4,
 "nbformat_minor": 4
}