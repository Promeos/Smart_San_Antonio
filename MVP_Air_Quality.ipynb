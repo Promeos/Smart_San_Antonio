{
 "cells": [
  {
   "cell_type": "code",
   "execution_count": null,
   "metadata": {},
   "outputs": [],
   "source": []
  },
  {
   "cell_type": "markdown",
   "metadata": {},
   "source": [
    "# Smart San Antonio\n",
    "\n",
    "## Air Quality Data"
   ]
  },
  {
   "cell_type": "code",
   "execution_count": 1,
   "metadata": {},
   "outputs": [],
   "source": [
    "# General Libraries\n",
    "import numpy as np\n",
    "import pandas as pd\n",
    "import matplotlib.pyplot as plt\n",
    "import seaborn as sns\n",
    "import plotly.express as px\n",
    "import plotly.graph_objects as go\n",
    "\n",
    "# Geospatial Library\n",
    "import folium\n",
    "import src\n",
    "\n",
    "plt.style.use('tableau-colorblind10')"
   ]
  },
  {
   "cell_type": "markdown",
   "metadata": {},
   "source": [
    "## Acquire"
   ]
  },
  {
   "cell_type": "code",
   "execution_count": 2,
   "metadata": {},
   "outputs": [],
   "source": [
    "df = src.get_zone_data(sensor='air_quality', zone='all')"
   ]
  },
  {
   "cell_type": "code",
   "execution_count": 3,
   "metadata": {},
   "outputs": [
    {
     "name": "stdout",
     "output_type": "stream",
     "text": [
      "<class 'pandas.core.frame.DataFrame'>\n",
      "RangeIndex: 273340 entries, 0 to 273339\n",
      "Data columns (total 16 columns):\n",
      " #   Column          Non-Null Count   Dtype  \n",
      "---  ------          --------------   -----  \n",
      " 0   DateTime        273340 non-null  object \n",
      " 1   Sensor_id       273340 non-null  object \n",
      " 2   Vendor          273340 non-null  object \n",
      " 3   SensorModel     273340 non-null  object \n",
      " 4   LAT             273340 non-null  float64\n",
      " 5   LONG            273340 non-null  float64\n",
      " 6   Zone            273340 non-null  object \n",
      " 7   Pm1_0           273340 non-null  int64  \n",
      " 8   Pm2_5           273340 non-null  int64  \n",
      " 9   Pm10            273340 non-null  int64  \n",
      " 10  SO2             273340 non-null  int64  \n",
      " 11  O3              273340 non-null  float64\n",
      " 12  CO              273340 non-null  int64  \n",
      " 13  NO2             273340 non-null  int64  \n",
      " 14  AlertTriggered  231004 non-null  object \n",
      " 15  SensorStatus    273340 non-null  object \n",
      "dtypes: float64(3), int64(6), object(7)\n",
      "memory usage: 33.4+ MB\n"
     ]
    }
   ],
   "source": [
    "df.info()"
   ]
  },
  {
   "cell_type": "code",
   "execution_count": 4,
   "metadata": {},
   "outputs": [
    {
     "data": {
      "text/html": [
       "<div>\n",
       "<style scoped>\n",
       "    .dataframe tbody tr th:only-of-type {\n",
       "        vertical-align: middle;\n",
       "    }\n",
       "\n",
       "    .dataframe tbody tr th {\n",
       "        vertical-align: top;\n",
       "    }\n",
       "\n",
       "    .dataframe thead th {\n",
       "        text-align: right;\n",
       "    }\n",
       "</style>\n",
       "<table border=\"1\" class=\"dataframe\">\n",
       "  <thead>\n",
       "    <tr style=\"text-align: right;\">\n",
       "      <th></th>\n",
       "      <th>DateTime</th>\n",
       "      <th>Sensor_id</th>\n",
       "      <th>Vendor</th>\n",
       "      <th>SensorModel</th>\n",
       "      <th>LAT</th>\n",
       "      <th>LONG</th>\n",
       "      <th>Zone</th>\n",
       "      <th>Pm1_0</th>\n",
       "      <th>Pm2_5</th>\n",
       "      <th>Pm10</th>\n",
       "      <th>SO2</th>\n",
       "      <th>O3</th>\n",
       "      <th>CO</th>\n",
       "      <th>NO2</th>\n",
       "      <th>AlertTriggered</th>\n",
       "      <th>SensorStatus</th>\n",
       "    </tr>\n",
       "  </thead>\n",
       "  <tbody>\n",
       "    <tr>\n",
       "      <th>0</th>\n",
       "      <td>2021-05-20T00:01:27</td>\n",
       "      <td>689324d0f345350d</td>\n",
       "      <td>ATT</td>\n",
       "      <td>AQM-01-00-01-00-01-00-GY</td>\n",
       "      <td>29.34473</td>\n",
       "      <td>-98.435672</td>\n",
       "      <td>Brooks</td>\n",
       "      <td>6</td>\n",
       "      <td>6</td>\n",
       "      <td>7</td>\n",
       "      <td>0</td>\n",
       "      <td>0.0</td>\n",
       "      <td>0</td>\n",
       "      <td>0</td>\n",
       "      <td>None</td>\n",
       "      <td>Normal</td>\n",
       "    </tr>\n",
       "    <tr>\n",
       "      <th>1</th>\n",
       "      <td>2021-05-20T00:04:27</td>\n",
       "      <td>689324d0f345350d</td>\n",
       "      <td>ATT</td>\n",
       "      <td>AQM-01-00-01-00-01-00-GY</td>\n",
       "      <td>29.34473</td>\n",
       "      <td>-98.435672</td>\n",
       "      <td>Brooks</td>\n",
       "      <td>6</td>\n",
       "      <td>6</td>\n",
       "      <td>7</td>\n",
       "      <td>0</td>\n",
       "      <td>0.0</td>\n",
       "      <td>0</td>\n",
       "      <td>0</td>\n",
       "      <td>None</td>\n",
       "      <td>Normal</td>\n",
       "    </tr>\n",
       "    <tr>\n",
       "      <th>2</th>\n",
       "      <td>2021-05-20T00:07:28</td>\n",
       "      <td>689324d0f345350d</td>\n",
       "      <td>ATT</td>\n",
       "      <td>AQM-01-00-01-00-01-00-GY</td>\n",
       "      <td>29.34473</td>\n",
       "      <td>-98.435672</td>\n",
       "      <td>Brooks</td>\n",
       "      <td>6</td>\n",
       "      <td>6</td>\n",
       "      <td>7</td>\n",
       "      <td>0</td>\n",
       "      <td>0.0</td>\n",
       "      <td>0</td>\n",
       "      <td>0</td>\n",
       "      <td>None</td>\n",
       "      <td>Normal</td>\n",
       "    </tr>\n",
       "  </tbody>\n",
       "</table>\n",
       "</div>"
      ],
      "text/plain": [
       "              DateTime         Sensor_id Vendor               SensorModel  \\\n",
       "0  2021-05-20T00:01:27  689324d0f345350d    ATT  AQM-01-00-01-00-01-00-GY   \n",
       "1  2021-05-20T00:04:27  689324d0f345350d    ATT  AQM-01-00-01-00-01-00-GY   \n",
       "2  2021-05-20T00:07:28  689324d0f345350d    ATT  AQM-01-00-01-00-01-00-GY   \n",
       "\n",
       "        LAT       LONG    Zone  Pm1_0  Pm2_5  Pm10  SO2   O3  CO  NO2  \\\n",
       "0  29.34473 -98.435672  Brooks      6      6     7    0  0.0   0    0   \n",
       "1  29.34473 -98.435672  Brooks      6      6     7    0  0.0   0    0   \n",
       "2  29.34473 -98.435672  Brooks      6      6     7    0  0.0   0    0   \n",
       "\n",
       "  AlertTriggered SensorStatus  \n",
       "0           None       Normal  \n",
       "1           None       Normal  \n",
       "2           None       Normal  "
      ]
     },
     "execution_count": 4,
     "metadata": {},
     "output_type": "execute_result"
    }
   ],
   "source": [
    "df.head(3)"
   ]
  },
  {
   "cell_type": "code",
   "execution_count": 5,
   "metadata": {},
   "outputs": [
    {
     "data": {
      "text/html": [
       "<div>\n",
       "<style scoped>\n",
       "    .dataframe tbody tr th:only-of-type {\n",
       "        vertical-align: middle;\n",
       "    }\n",
       "\n",
       "    .dataframe tbody tr th {\n",
       "        vertical-align: top;\n",
       "    }\n",
       "\n",
       "    .dataframe thead th {\n",
       "        text-align: right;\n",
       "    }\n",
       "</style>\n",
       "<table border=\"1\" class=\"dataframe\">\n",
       "  <thead>\n",
       "    <tr style=\"text-align: right;\">\n",
       "      <th></th>\n",
       "      <th>DateTime</th>\n",
       "      <th>Sensor_id</th>\n",
       "      <th>Vendor</th>\n",
       "      <th>SensorModel</th>\n",
       "      <th>LAT</th>\n",
       "      <th>LONG</th>\n",
       "      <th>Zone</th>\n",
       "      <th>Pm1_0</th>\n",
       "      <th>Pm2_5</th>\n",
       "      <th>Pm10</th>\n",
       "      <th>SO2</th>\n",
       "      <th>O3</th>\n",
       "      <th>CO</th>\n",
       "      <th>NO2</th>\n",
       "      <th>AlertTriggered</th>\n",
       "      <th>SensorStatus</th>\n",
       "    </tr>\n",
       "  </thead>\n",
       "  <tbody>\n",
       "    <tr>\n",
       "      <th>273337</th>\n",
       "      <td>2021-06-18T23:45:00</td>\n",
       "      <td>70463</td>\n",
       "      <td>ITRON</td>\n",
       "      <td>ClimaCell</td>\n",
       "      <td>29.50484</td>\n",
       "      <td>-98.5835</td>\n",
       "      <td>Medical Center</td>\n",
       "      <td>-999</td>\n",
       "      <td>0</td>\n",
       "      <td>-999</td>\n",
       "      <td>-999</td>\n",
       "      <td>62.3</td>\n",
       "      <td>-999</td>\n",
       "      <td>11</td>\n",
       "      <td>NaN</td>\n",
       "      <td>Normal</td>\n",
       "    </tr>\n",
       "    <tr>\n",
       "      <th>273338</th>\n",
       "      <td>2021-06-18T23:50:00</td>\n",
       "      <td>70463</td>\n",
       "      <td>ITRON</td>\n",
       "      <td>ClimaCell</td>\n",
       "      <td>29.50484</td>\n",
       "      <td>-98.5835</td>\n",
       "      <td>Medical Center</td>\n",
       "      <td>-999</td>\n",
       "      <td>0</td>\n",
       "      <td>-999</td>\n",
       "      <td>-999</td>\n",
       "      <td>62.3</td>\n",
       "      <td>-999</td>\n",
       "      <td>11</td>\n",
       "      <td>NaN</td>\n",
       "      <td>Normal</td>\n",
       "    </tr>\n",
       "    <tr>\n",
       "      <th>273339</th>\n",
       "      <td>2021-06-18T23:55:00</td>\n",
       "      <td>70463</td>\n",
       "      <td>ITRON</td>\n",
       "      <td>ClimaCell</td>\n",
       "      <td>29.50484</td>\n",
       "      <td>-98.5835</td>\n",
       "      <td>Medical Center</td>\n",
       "      <td>-999</td>\n",
       "      <td>0</td>\n",
       "      <td>-999</td>\n",
       "      <td>-999</td>\n",
       "      <td>62.3</td>\n",
       "      <td>-999</td>\n",
       "      <td>11</td>\n",
       "      <td>NaN</td>\n",
       "      <td>Normal</td>\n",
       "    </tr>\n",
       "  </tbody>\n",
       "</table>\n",
       "</div>"
      ],
      "text/plain": [
       "                   DateTime Sensor_id Vendor SensorModel       LAT     LONG  \\\n",
       "273337  2021-06-18T23:45:00     70463  ITRON   ClimaCell  29.50484 -98.5835   \n",
       "273338  2021-06-18T23:50:00     70463  ITRON   ClimaCell  29.50484 -98.5835   \n",
       "273339  2021-06-18T23:55:00     70463  ITRON   ClimaCell  29.50484 -98.5835   \n",
       "\n",
       "                  Zone  Pm1_0  Pm2_5  Pm10  SO2    O3   CO  NO2  \\\n",
       "273337  Medical Center   -999      0  -999 -999  62.3 -999   11   \n",
       "273338  Medical Center   -999      0  -999 -999  62.3 -999   11   \n",
       "273339  Medical Center   -999      0  -999 -999  62.3 -999   11   \n",
       "\n",
       "       AlertTriggered SensorStatus  \n",
       "273337            NaN       Normal  \n",
       "273338            NaN       Normal  \n",
       "273339            NaN       Normal  "
      ]
     },
     "execution_count": 5,
     "metadata": {},
     "output_type": "execute_result"
    }
   ],
   "source": [
    "df.tail(3)"
   ]
  },
  {
   "cell_type": "code",
   "execution_count": 6,
   "metadata": {},
   "outputs": [
    {
     "data": {
      "text/plain": [
       "DateTime              0\n",
       "Sensor_id             0\n",
       "Vendor                0\n",
       "SensorModel           0\n",
       "LAT                   0\n",
       "LONG                  0\n",
       "Zone                  0\n",
       "Pm1_0                 0\n",
       "Pm2_5                 0\n",
       "Pm10                  0\n",
       "SO2                   0\n",
       "O3                    0\n",
       "CO                    0\n",
       "NO2                   0\n",
       "AlertTriggered    42336\n",
       "SensorStatus          0\n",
       "dtype: int64"
      ]
     },
     "execution_count": 6,
     "metadata": {},
     "output_type": "execute_result"
    }
   ],
   "source": [
    "df.isna().sum()"
   ]
  },
  {
   "cell_type": "code",
   "execution_count": 7,
   "metadata": {},
   "outputs": [
    {
     "data": {
      "text/plain": [
       "DateTime          79430\n",
       "Sensor_id            12\n",
       "Vendor                2\n",
       "SensorModel           2\n",
       "LAT                  18\n",
       "LONG                 19\n",
       "Zone                  3\n",
       "Pm1_0                93\n",
       "Pm2_5               108\n",
       "Pm10                115\n",
       "SO2                   8\n",
       "O3                 1722\n",
       "CO                   17\n",
       "NO2                  34\n",
       "AlertTriggered        7\n",
       "SensorStatus          1\n",
       "dtype: int64"
      ]
     },
     "execution_count": 7,
     "metadata": {},
     "output_type": "execute_result"
    }
   ],
   "source": [
    "df.nunique()"
   ]
  },
  {
   "cell_type": "code",
   "execution_count": 8,
   "metadata": {},
   "outputs": [
    {
     "data": {
      "text/html": [
       "<div>\n",
       "<style scoped>\n",
       "    .dataframe tbody tr th:only-of-type {\n",
       "        vertical-align: middle;\n",
       "    }\n",
       "\n",
       "    .dataframe tbody tr th {\n",
       "        vertical-align: top;\n",
       "    }\n",
       "\n",
       "    .dataframe thead th {\n",
       "        text-align: right;\n",
       "    }\n",
       "</style>\n",
       "<table border=\"1\" class=\"dataframe\">\n",
       "  <thead>\n",
       "    <tr style=\"text-align: right;\">\n",
       "      <th></th>\n",
       "      <th>LAT</th>\n",
       "      <th>LONG</th>\n",
       "      <th>Pm1_0</th>\n",
       "      <th>Pm2_5</th>\n",
       "      <th>Pm10</th>\n",
       "      <th>SO2</th>\n",
       "      <th>O3</th>\n",
       "      <th>CO</th>\n",
       "      <th>NO2</th>\n",
       "    </tr>\n",
       "  </thead>\n",
       "  <tbody>\n",
       "    <tr>\n",
       "      <th>count</th>\n",
       "      <td>273340.000000</td>\n",
       "      <td>273340.000000</td>\n",
       "      <td>273340.000000</td>\n",
       "      <td>273340.000000</td>\n",
       "      <td>273340.000000</td>\n",
       "      <td>273340.000000</td>\n",
       "      <td>273340.000000</td>\n",
       "      <td>273340.000000</td>\n",
       "      <td>273340.000000</td>\n",
       "    </tr>\n",
       "    <tr>\n",
       "      <th>mean</th>\n",
       "      <td>29.407007</td>\n",
       "      <td>-98.487286</td>\n",
       "      <td>-140.900626</td>\n",
       "      <td>12.850809</td>\n",
       "      <td>-139.276330</td>\n",
       "      <td>-154.707953</td>\n",
       "      <td>5.796103</td>\n",
       "      <td>-154.547260</td>\n",
       "      <td>1.262325</td>\n",
       "    </tr>\n",
       "    <tr>\n",
       "      <th>std</th>\n",
       "      <td>0.067307</td>\n",
       "      <td>0.059925</td>\n",
       "      <td>681.609688</td>\n",
       "      <td>192.743115</td>\n",
       "      <td>570.728527</td>\n",
       "      <td>361.442071</td>\n",
       "      <td>15.297399</td>\n",
       "      <td>361.513106</td>\n",
       "      <td>3.136031</td>\n",
       "    </tr>\n",
       "    <tr>\n",
       "      <th>min</th>\n",
       "      <td>29.344120</td>\n",
       "      <td>-98.583500</td>\n",
       "      <td>-999.000000</td>\n",
       "      <td>0.000000</td>\n",
       "      <td>-999.000000</td>\n",
       "      <td>-999.000000</td>\n",
       "      <td>0.000000</td>\n",
       "      <td>-999.000000</td>\n",
       "      <td>0.000000</td>\n",
       "    </tr>\n",
       "    <tr>\n",
       "      <th>25%</th>\n",
       "      <td>29.344730</td>\n",
       "      <td>-98.580288</td>\n",
       "      <td>1.000000</td>\n",
       "      <td>3.000000</td>\n",
       "      <td>2.000000</td>\n",
       "      <td>0.000000</td>\n",
       "      <td>0.000000</td>\n",
       "      <td>0.000000</td>\n",
       "      <td>0.000000</td>\n",
       "    </tr>\n",
       "    <tr>\n",
       "      <th>50%</th>\n",
       "      <td>29.414910</td>\n",
       "      <td>-98.481432</td>\n",
       "      <td>6.000000</td>\n",
       "      <td>7.000000</td>\n",
       "      <td>8.000000</td>\n",
       "      <td>0.000000</td>\n",
       "      <td>0.000000</td>\n",
       "      <td>0.000000</td>\n",
       "      <td>0.000000</td>\n",
       "    </tr>\n",
       "    <tr>\n",
       "      <th>75%</th>\n",
       "      <td>29.504840</td>\n",
       "      <td>-98.435672</td>\n",
       "      <td>11.000000</td>\n",
       "      <td>12.000000</td>\n",
       "      <td>15.000000</td>\n",
       "      <td>0.000000</td>\n",
       "      <td>0.000000</td>\n",
       "      <td>0.000000</td>\n",
       "      <td>1.000000</td>\n",
       "    </tr>\n",
       "    <tr>\n",
       "      <th>max</th>\n",
       "      <td>29.510070</td>\n",
       "      <td>-98.434544</td>\n",
       "      <td>65288.000000</td>\n",
       "      <td>65288.000000</td>\n",
       "      <td>65310.000000</td>\n",
       "      <td>26.000000</td>\n",
       "      <td>120.000000</td>\n",
       "      <td>129.000000</td>\n",
       "      <td>41.000000</td>\n",
       "    </tr>\n",
       "  </tbody>\n",
       "</table>\n",
       "</div>"
      ],
      "text/plain": [
       "                 LAT           LONG          Pm1_0          Pm2_5  \\\n",
       "count  273340.000000  273340.000000  273340.000000  273340.000000   \n",
       "mean       29.407007     -98.487286    -140.900626      12.850809   \n",
       "std         0.067307       0.059925     681.609688     192.743115   \n",
       "min        29.344120     -98.583500    -999.000000       0.000000   \n",
       "25%        29.344730     -98.580288       1.000000       3.000000   \n",
       "50%        29.414910     -98.481432       6.000000       7.000000   \n",
       "75%        29.504840     -98.435672      11.000000      12.000000   \n",
       "max        29.510070     -98.434544   65288.000000   65288.000000   \n",
       "\n",
       "                Pm10            SO2             O3             CO  \\\n",
       "count  273340.000000  273340.000000  273340.000000  273340.000000   \n",
       "mean     -139.276330    -154.707953       5.796103    -154.547260   \n",
       "std       570.728527     361.442071      15.297399     361.513106   \n",
       "min      -999.000000    -999.000000       0.000000    -999.000000   \n",
       "25%         2.000000       0.000000       0.000000       0.000000   \n",
       "50%         8.000000       0.000000       0.000000       0.000000   \n",
       "75%        15.000000       0.000000       0.000000       0.000000   \n",
       "max     65310.000000      26.000000     120.000000     129.000000   \n",
       "\n",
       "                 NO2  \n",
       "count  273340.000000  \n",
       "mean        1.262325  \n",
       "std         3.136031  \n",
       "min         0.000000  \n",
       "25%         0.000000  \n",
       "50%         0.000000  \n",
       "75%         1.000000  \n",
       "max        41.000000  "
      ]
     },
     "execution_count": 8,
     "metadata": {},
     "output_type": "execute_result"
    }
   ],
   "source": [
    "df.describe()"
   ]
  },
  {
   "cell_type": "code",
   "execution_count": 9,
   "metadata": {},
   "outputs": [
    {
     "data": {
      "image/png": "[encoded data removed]",
      "text/plain": [
       "<Figure size 1296x504 with 9 Axes>"
      ]
     },
     "metadata": {
      "needs_background": "light"
     },
     "output_type": "display_data"
    }
   ],
   "source": [
    "sns.set_context('talk')\n",
    "plt.style.use('tableau-colorblind10')\n",
    "\n",
    "df.hist(figsize=(18, 7), bins=30, ec='black')\n",
    "plt.tight_layout();"
   ]
  },
  {
   "cell_type": "markdown",
   "metadata": {},
   "source": [
    "## Prepare\n",
    "\n",
    "- Format column names: Lowercase each name.\n",
    "- Replace column names with descriptive names.\n",
    "- Cast the date strings as datetime.\n",
    "- Replace missing values in the `alert_triggered` column with \"Not Supported\".\n",
    "    - Refer to the data dictionary."
   ]
  },
  {
   "cell_type": "code",
   "execution_count": 10,
   "metadata": {},
   "outputs": [],
   "source": [
    "df = src.prep_data(data=df, filename='air')"
   ]
  },
  {
   "cell_type": "markdown",
   "metadata": {},
   "source": [
    "## Explore"
   ]
  },
  {
   "cell_type": "code",
   "execution_count": 11,
   "metadata": {},
   "outputs": [],
   "source": [
    "df = df.replace(-999, 0)"
   ]
  },
  {
   "cell_type": "code",
   "execution_count": 12,
   "metadata": {},
   "outputs": [
    {
     "data": {
      "text/html": [
       "<div>\n",
       "<style scoped>\n",
       "    .dataframe tbody tr th:only-of-type {\n",
       "        vertical-align: middle;\n",
       "    }\n",
       "\n",
       "    .dataframe tbody tr th {\n",
       "        vertical-align: top;\n",
       "    }\n",
       "\n",
       "    .dataframe thead th {\n",
       "        text-align: right;\n",
       "    }\n",
       "</style>\n",
       "<table border=\"1\" class=\"dataframe\">\n",
       "  <thead>\n",
       "    <tr style=\"text-align: right;\">\n",
       "      <th></th>\n",
       "      <th>date</th>\n",
       "      <th>sensor_id</th>\n",
       "      <th>vendor</th>\n",
       "      <th>sensor_model</th>\n",
       "      <th>latitude</th>\n",
       "      <th>longitude</th>\n",
       "      <th>zone</th>\n",
       "      <th>micron_1</th>\n",
       "      <th>micron_2</th>\n",
       "      <th>micron_10</th>\n",
       "      <th>sulfur</th>\n",
       "      <th>ozone</th>\n",
       "      <th>carbon</th>\n",
       "      <th>nitrogen</th>\n",
       "      <th>alert_triggered</th>\n",
       "      <th>sensor_status</th>\n",
       "    </tr>\n",
       "  </thead>\n",
       "  <tbody>\n",
       "    <tr>\n",
       "      <th>0</th>\n",
       "      <td>2021-05-20 00:01:27</td>\n",
       "      <td>689324d0f345350d</td>\n",
       "      <td>ATT</td>\n",
       "      <td>AQM-01-00-01-00-01-00-GY</td>\n",
       "      <td>29.34473</td>\n",
       "      <td>-98.435672</td>\n",
       "      <td>Brooks</td>\n",
       "      <td>6</td>\n",
       "      <td>6</td>\n",
       "      <td>7</td>\n",
       "      <td>0</td>\n",
       "      <td>0.0</td>\n",
       "      <td>0</td>\n",
       "      <td>0</td>\n",
       "      <td>None</td>\n",
       "      <td>Normal</td>\n",
       "    </tr>\n",
       "    <tr>\n",
       "      <th>1</th>\n",
       "      <td>2021-05-20 00:04:27</td>\n",
       "      <td>689324d0f345350d</td>\n",
       "      <td>ATT</td>\n",
       "      <td>AQM-01-00-01-00-01-00-GY</td>\n",
       "      <td>29.34473</td>\n",
       "      <td>-98.435672</td>\n",
       "      <td>Brooks</td>\n",
       "      <td>6</td>\n",
       "      <td>6</td>\n",
       "      <td>7</td>\n",
       "      <td>0</td>\n",
       "      <td>0.0</td>\n",
       "      <td>0</td>\n",
       "      <td>0</td>\n",
       "      <td>None</td>\n",
       "      <td>Normal</td>\n",
       "    </tr>\n",
       "  </tbody>\n",
       "</table>\n",
       "</div>"
      ],
      "text/plain": [
       "                 date         sensor_id vendor              sensor_model  \\\n",
       "0 2021-05-20 00:01:27  689324d0f345350d    ATT  AQM-01-00-01-00-01-00-GY   \n",
       "1 2021-05-20 00:04:27  689324d0f345350d    ATT  AQM-01-00-01-00-01-00-GY   \n",
       "\n",
       "   latitude  longitude    zone  micron_1  micron_2  micron_10  sulfur  ozone  \\\n",
       "0  29.34473 -98.435672  Brooks         6         6          7       0    0.0   \n",
       "1  29.34473 -98.435672  Brooks         6         6          7       0    0.0   \n",
       "\n",
       "   carbon  nitrogen alert_triggered sensor_status  \n",
       "0       0         0            None        Normal  \n",
       "1       0         0            None        Normal  "
      ]
     },
     "execution_count": 12,
     "metadata": {},
     "output_type": "execute_result"
    }
   ],
   "source": [
    "df.head(2)"
   ]
  },
  {
   "cell_type": "code",
   "execution_count": 13,
   "metadata": {},
   "outputs": [
    {
     "data": {
      "text/plain": [
       "numpy.datetime64"
      ]
     },
     "execution_count": 13,
     "metadata": {},
     "output_type": "execute_result"
    }
   ],
   "source": [
    "type(df['date'].values[0])"
   ]
  },
  {
   "cell_type": "markdown",
   "metadata": {},
   "source": [
    "## How many Air Quality sensors are there in each zone?"
   ]
  },
  {
   "cell_type": "code",
   "execution_count": 14,
   "metadata": {},
   "outputs": [
    {
     "data": {
      "text/plain": [
       "zone\n",
       "Brooks            4\n",
       "Downtown          4\n",
       "Medical Center    4\n",
       "Name: sensor_id, dtype: int64"
      ]
     },
     "execution_count": 14,
     "metadata": {},
     "output_type": "execute_result"
    }
   ],
   "source": [
    "df.groupby('zone').sensor_id.nunique()"
   ]
  },
  {
   "cell_type": "markdown",
   "metadata": {},
   "source": [
    "## Where are the Air Quality Sensors located?"
   ]
  },
  {
   "cell_type": "code",
   "execution_count": 15,
   "metadata": {},
   "outputs": [
    {
     "data": {
      "text/html": [
       "<div>\n",
       "<style scoped>\n",
       "    .dataframe tbody tr th:only-of-type {\n",
       "        vertical-align: middle;\n",
       "    }\n",
       "\n",
       "    .dataframe tbody tr th {\n",
       "        vertical-align: top;\n",
       "    }\n",
       "\n",
       "    .dataframe thead th {\n",
       "        text-align: right;\n",
       "    }\n",
       "</style>\n",
       "<table border=\"1\" class=\"dataframe\">\n",
       "  <thead>\n",
       "    <tr style=\"text-align: right;\">\n",
       "      <th></th>\n",
       "      <th>zone</th>\n",
       "      <th>sensor_id</th>\n",
       "      <th>latitude</th>\n",
       "      <th>longitude</th>\n",
       "      <th>count</th>\n",
       "    </tr>\n",
       "  </thead>\n",
       "  <tbody>\n",
       "    <tr>\n",
       "      <th>0</th>\n",
       "      <td>Brooks</td>\n",
       "      <td>63d684c940ce1f6b</td>\n",
       "      <td>29.34566</td>\n",
       "      <td>-98.434544</td>\n",
       "      <td>38356</td>\n",
       "    </tr>\n",
       "    <tr>\n",
       "      <th>1</th>\n",
       "      <td>Brooks</td>\n",
       "      <td>689324d0f345350d</td>\n",
       "      <td>29.34473</td>\n",
       "      <td>-98.435672</td>\n",
       "      <td>38413</td>\n",
       "    </tr>\n",
       "    <tr>\n",
       "      <th>2</th>\n",
       "      <td>Brooks</td>\n",
       "      <td>6de2cc6034fd26e8</td>\n",
       "      <td>29.34412</td>\n",
       "      <td>-98.436440</td>\n",
       "      <td>38363</td>\n",
       "    </tr>\n",
       "    <tr>\n",
       "      <th>3</th>\n",
       "      <td>Brooks</td>\n",
       "      <td>70449</td>\n",
       "      <td>29.34602</td>\n",
       "      <td>-98.439550</td>\n",
       "      <td>14112</td>\n",
       "    </tr>\n",
       "    <tr>\n",
       "      <th>4</th>\n",
       "      <td>Downtown</td>\n",
       "      <td>63db58629a2d20a7</td>\n",
       "      <td>29.41661</td>\n",
       "      <td>-98.484080</td>\n",
       "      <td>19311</td>\n",
       "    </tr>\n",
       "    <tr>\n",
       "      <th>5</th>\n",
       "      <td>Downtown</td>\n",
       "      <td>64d7e0e4cfeba0b6</td>\n",
       "      <td>29.41491</td>\n",
       "      <td>-98.481400</td>\n",
       "      <td>19314</td>\n",
       "    </tr>\n",
       "    <tr>\n",
       "      <th>6</th>\n",
       "      <td>Downtown</td>\n",
       "      <td>64d7e4dbde37ccb5</td>\n",
       "      <td>29.41591</td>\n",
       "      <td>-98.482880</td>\n",
       "      <td>19311</td>\n",
       "    </tr>\n",
       "    <tr>\n",
       "      <th>7</th>\n",
       "      <td>Downtown</td>\n",
       "      <td>70456</td>\n",
       "      <td>29.42457</td>\n",
       "      <td>-98.494570</td>\n",
       "      <td>14112</td>\n",
       "    </tr>\n",
       "    <tr>\n",
       "      <th>8</th>\n",
       "      <td>Medical Center</td>\n",
       "      <td>63e0b0eae3495a39</td>\n",
       "      <td>29.51007</td>\n",
       "      <td>-98.580288</td>\n",
       "      <td>19311</td>\n",
       "    </tr>\n",
       "    <tr>\n",
       "      <th>9</th>\n",
       "      <td>Medical Center</td>\n",
       "      <td>6dee283d397b9803</td>\n",
       "      <td>29.50752</td>\n",
       "      <td>-98.581368</td>\n",
       "      <td>19312</td>\n",
       "    </tr>\n",
       "    <tr>\n",
       "      <th>10</th>\n",
       "      <td>Medical Center</td>\n",
       "      <td>70463</td>\n",
       "      <td>29.50484</td>\n",
       "      <td>-98.583500</td>\n",
       "      <td>14112</td>\n",
       "    </tr>\n",
       "    <tr>\n",
       "      <th>11</th>\n",
       "      <td>Medical Center</td>\n",
       "      <td>7b48389537e7a6c7</td>\n",
       "      <td>29.50790</td>\n",
       "      <td>-98.581280</td>\n",
       "      <td>19313</td>\n",
       "    </tr>\n",
       "  </tbody>\n",
       "</table>\n",
       "</div>"
      ],
      "text/plain": [
       "              zone         sensor_id  latitude  longitude  count\n",
       "0           Brooks  63d684c940ce1f6b  29.34566 -98.434544  38356\n",
       "1           Brooks  689324d0f345350d  29.34473 -98.435672  38413\n",
       "2           Brooks  6de2cc6034fd26e8  29.34412 -98.436440  38363\n",
       "3           Brooks             70449  29.34602 -98.439550  14112\n",
       "4         Downtown  63db58629a2d20a7  29.41661 -98.484080  19311\n",
       "5         Downtown  64d7e0e4cfeba0b6  29.41491 -98.481400  19314\n",
       "6         Downtown  64d7e4dbde37ccb5  29.41591 -98.482880  19311\n",
       "7         Downtown             70456  29.42457 -98.494570  14112\n",
       "8   Medical Center  63e0b0eae3495a39  29.51007 -98.580288  19311\n",
       "9   Medical Center  6dee283d397b9803  29.50752 -98.581368  19312\n",
       "10  Medical Center             70463  29.50484 -98.583500  14112\n",
       "11  Medical Center  7b48389537e7a6c7  29.50790 -98.581280  19313"
      ]
     },
     "execution_count": 15,
     "metadata": {},
     "output_type": "execute_result"
    }
   ],
   "source": [
    "geo_cols = ['zone', 'sensor_id', 'latitude', 'longitude']\n",
    "df_sensors = df.groupby(geo_cols).size().reset_index().rename(columns={0:'count'})\n",
    "\n",
    "df_sensors"
   ]
  },
  {
   "cell_type": "code",
   "execution_count": 16,
   "metadata": {},
   "outputs": [],
   "source": [
    "m = folium.Map(location=[29.4363, -98.4881],\n",
    "               zoom_start=10,\n",
    "               max_bounds=True,\n",
    "               zoom_control=False)\n",
    "\n",
    "# Plot the coordinates for each noise sensor.\n",
    "\n",
    "zone_colors = ['orange', 'red', 'purple']\n",
    "zones = ['Brooks', 'Downtown', 'Medical Center']\n",
    "\n",
    "for z, zc in zip(zones, zone_colors):\n",
    "    data = df_sensors[df_sensors.zone == z]\n",
    "\n",
    "    for _, row in data.iterrows():\n",
    "        m.add_child(\n",
    "            folium.Marker(location=[str(row['latitude']), str(row['longitude'])],\n",
    "                          tooltip=row['zone'],\n",
    "                          prefer_canvas=True,\n",
    "                          disable_3d=True,\n",
    "                          icon=folium.Icon(icon='leaf',\n",
    "                                           color=zc)\n",
    "                         )\n",
    "                    )"
   ]
  },
  {
   "cell_type": "code",
   "execution_count": 17,
   "metadata": {},
   "outputs": [
    {
     "data": {
      "text/html": [
       "<div style=\"width:100%;\"><div style=\"position:relative;width:100%;height:0;padding-bottom:60%;\"><span style=\"color:#565656\">Make this Notebook Trusted to load map: File -> Trust Notebook</span><iframe src=\"about:blank\" style=\"position:absolute;width:100%;height:100%;left:0;top:0;border:none !important;\" data-html=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 onload=\"this.contentDocument.open();this.contentDocument.write(atob(this.getAttribute('data-html')));this.contentDocument.close();\" allowfullscreen webkitallowfullscreen mozallowfullscreen></iframe></div></div>"
      ],
      "text/plain": [
       "<folium.folium.Map at 0x7fe5cdd95790>"
      ]
     },
     "execution_count": 17,
     "metadata": {},
     "output_type": "execute_result"
    }
   ],
   "source": [
    "m"
   ]
  },
  {
   "cell_type": "markdown",
   "metadata": {},
   "source": [
    "# Air Quality\n",
    "\n",
    "## Sulfur Dioxide"
   ]
  },
  {
   "cell_type": "code",
   "execution_count": 18,
   "metadata": {},
   "outputs": [
    {
     "data": {
      "text/html": [
       "<div>\n",
       "<style scoped>\n",
       "    .dataframe tbody tr th:only-of-type {\n",
       "        vertical-align: middle;\n",
       "    }\n",
       "\n",
       "    .dataframe tbody tr th {\n",
       "        vertical-align: top;\n",
       "    }\n",
       "\n",
       "    .dataframe thead tr th {\n",
       "        text-align: left;\n",
       "    }\n",
       "</style>\n",
       "<table border=\"1\" class=\"dataframe\">\n",
       "  <thead>\n",
       "    <tr>\n",
       "      <th></th>\n",
       "      <th>zone</th>\n",
       "      <th colspan=\"9\" halign=\"left\">sulfur</th>\n",
       "    </tr>\n",
       "    <tr>\n",
       "      <th></th>\n",
       "      <th></th>\n",
       "      <th>count</th>\n",
       "      <th>mean</th>\n",
       "      <th>std</th>\n",
       "      <th>min</th>\n",
       "      <th>25%</th>\n",
       "      <th>50%</th>\n",
       "      <th>75%</th>\n",
       "      <th>99.7%</th>\n",
       "      <th>max</th>\n",
       "    </tr>\n",
       "  </thead>\n",
       "  <tbody>\n",
       "    <tr>\n",
       "      <th>0</th>\n",
       "      <td>Brooks</td>\n",
       "      <td>129244.0</td>\n",
       "      <td>0.043754</td>\n",
       "      <td>0.230246</td>\n",
       "      <td>0.0</td>\n",
       "      <td>0.0</td>\n",
       "      <td>0.0</td>\n",
       "      <td>0.0</td>\n",
       "      <td>1.0</td>\n",
       "      <td>13.0</td>\n",
       "    </tr>\n",
       "    <tr>\n",
       "      <th>1</th>\n",
       "      <td>Downtown</td>\n",
       "      <td>72048.0</td>\n",
       "      <td>0.001471</td>\n",
       "      <td>0.102426</td>\n",
       "      <td>0.0</td>\n",
       "      <td>0.0</td>\n",
       "      <td>0.0</td>\n",
       "      <td>0.0</td>\n",
       "      <td>0.0</td>\n",
       "      <td>26.0</td>\n",
       "    </tr>\n",
       "    <tr>\n",
       "      <th>2</th>\n",
       "      <td>Medical Center</td>\n",
       "      <td>72048.0</td>\n",
       "      <td>0.000430</td>\n",
       "      <td>0.043285</td>\n",
       "      <td>0.0</td>\n",
       "      <td>0.0</td>\n",
       "      <td>0.0</td>\n",
       "      <td>0.0</td>\n",
       "      <td>0.0</td>\n",
       "      <td>6.0</td>\n",
       "    </tr>\n",
       "  </tbody>\n",
       "</table>\n",
       "</div>"
      ],
      "text/plain": [
       "             zone    sulfur                                                \\\n",
       "                      count      mean       std  min  25%  50%  75% 99.7%   \n",
       "0          Brooks  129244.0  0.043754  0.230246  0.0  0.0  0.0  0.0   1.0   \n",
       "1        Downtown   72048.0  0.001471  0.102426  0.0  0.0  0.0  0.0   0.0   \n",
       "2  Medical Center   72048.0  0.000430  0.043285  0.0  0.0  0.0  0.0   0.0   \n",
       "\n",
       "         \n",
       "    max  \n",
       "0  13.0  \n",
       "1  26.0  \n",
       "2   6.0  "
      ]
     },
     "execution_count": 18,
     "metadata": {},
     "output_type": "execute_result"
    }
   ],
   "source": [
    "s = df.groupby(['date', 'zone']).sulfur.agg(['mean']).sort_values(by=['zone', 'date']).reset_index()\n",
    "s.set_index(pd.DatetimeIndex(s['date']), inplace=True)\n",
    "s.sort_index(inplace=True)\n",
    "\n",
    "df.groupby('zone')[['sulfur']].describe(percentiles=[.25, .75, .997]).reset_index()"
   ]
  },
  {
   "cell_type": "code",
   "execution_count": 19,
   "metadata": {},
   "outputs": [
    {
     "data": {
      "image/png": "[encoded data removed]",
      "text/plain": [
       "<Figure size 720x432 with 1 Axes>"
      ]
     },
     "metadata": {
      "needs_background": "light"
     },
     "output_type": "display_data"
    }
   ],
   "source": [
    "s.resample('D').agg(['mean']).plot(figsize=(10, 6),\n",
    "                                   legend=False,\n",
    "                                   c='orange')\n",
    "\n",
    "plt.xlabel('')\n",
    "plt.ylabel('SO2')\n",
    "plt.title('Average Sulfur level across San Antonio');"
   ]
  },
  {
   "cell_type": "markdown",
   "metadata": {},
   "source": [
    "## Ozone\n",
    "\n",
    "### What is the highest Ozone level recorded in each zone? "
   ]
  },
  {
   "cell_type": "code",
   "execution_count": 20,
   "metadata": {},
   "outputs": [
    {
     "data": {
      "text/html": [
       "<div>\n",
       "<style scoped>\n",
       "    .dataframe tbody tr th:only-of-type {\n",
       "        vertical-align: middle;\n",
       "    }\n",
       "\n",
       "    .dataframe tbody tr th {\n",
       "        vertical-align: top;\n",
       "    }\n",
       "\n",
       "    .dataframe thead tr th {\n",
       "        text-align: left;\n",
       "    }\n",
       "</style>\n",
       "<table border=\"1\" class=\"dataframe\">\n",
       "  <thead>\n",
       "    <tr>\n",
       "      <th></th>\n",
       "      <th>zone</th>\n",
       "      <th colspan=\"9\" halign=\"left\">ozone</th>\n",
       "    </tr>\n",
       "    <tr>\n",
       "      <th></th>\n",
       "      <th></th>\n",
       "      <th>count</th>\n",
       "      <th>mean</th>\n",
       "      <th>std</th>\n",
       "      <th>min</th>\n",
       "      <th>25%</th>\n",
       "      <th>50%</th>\n",
       "      <th>75%</th>\n",
       "      <th>99.7%</th>\n",
       "      <th>max</th>\n",
       "    </tr>\n",
       "  </thead>\n",
       "  <tbody>\n",
       "    <tr>\n",
       "      <th>0</th>\n",
       "      <td>Brooks</td>\n",
       "      <td>129244.0</td>\n",
       "      <td>4.260684</td>\n",
       "      <td>13.570212</td>\n",
       "      <td>0.0</td>\n",
       "      <td>0.0</td>\n",
       "      <td>0.0</td>\n",
       "      <td>0.0</td>\n",
       "      <td>78.3125</td>\n",
       "      <td>111.60</td>\n",
       "    </tr>\n",
       "    <tr>\n",
       "      <th>1</th>\n",
       "      <td>Downtown</td>\n",
       "      <td>72048.0</td>\n",
       "      <td>7.414002</td>\n",
       "      <td>17.167927</td>\n",
       "      <td>0.0</td>\n",
       "      <td>0.0</td>\n",
       "      <td>0.0</td>\n",
       "      <td>0.0</td>\n",
       "      <td>85.0000</td>\n",
       "      <td>120.00</td>\n",
       "    </tr>\n",
       "    <tr>\n",
       "      <th>2</th>\n",
       "      <td>Medical Center</td>\n",
       "      <td>72048.0</td>\n",
       "      <td>6.932532</td>\n",
       "      <td>15.955981</td>\n",
       "      <td>0.0</td>\n",
       "      <td>0.0</td>\n",
       "      <td>0.0</td>\n",
       "      <td>0.0</td>\n",
       "      <td>79.1875</td>\n",
       "      <td>117.53</td>\n",
       "    </tr>\n",
       "  </tbody>\n",
       "</table>\n",
       "</div>"
      ],
      "text/plain": [
       "             zone     ozone                                                    \\\n",
       "                      count      mean        std  min  25%  50%  75%    99.7%   \n",
       "0          Brooks  129244.0  4.260684  13.570212  0.0  0.0  0.0  0.0  78.3125   \n",
       "1        Downtown   72048.0  7.414002  17.167927  0.0  0.0  0.0  0.0  85.0000   \n",
       "2  Medical Center   72048.0  6.932532  15.955981  0.0  0.0  0.0  0.0  79.1875   \n",
       "\n",
       "           \n",
       "      max  \n",
       "0  111.60  \n",
       "1  120.00  \n",
       "2  117.53  "
      ]
     },
     "execution_count": 20,
     "metadata": {},
     "output_type": "execute_result"
    }
   ],
   "source": [
    "o = df.groupby(['date', 'zone']).ozone.agg(['mean']).sort_values(by=['zone', 'date']).reset_index()\n",
    "o.set_index(pd.DatetimeIndex(s['date']), inplace=True)\n",
    "o.sort_index(inplace=True)\n",
    "\n",
    "df.groupby('zone')[['ozone']].describe(percentiles=[.25, .75, .997]).reset_index()"
   ]
  },
  {
   "cell_type": "code",
   "execution_count": 21,
   "metadata": {},
   "outputs": [
    {
     "data": {
      "image/png": "[encoded data removed]",
      "text/plain": [
       "<Figure size 720x432 with 1 Axes>"
      ]
     },
     "metadata": {
      "needs_background": "light"
     },
     "output_type": "display_data"
    }
   ],
   "source": [
    "o.resample('D').agg(['mean']).plot(figsize=(10, 6),\n",
    "                                   legend=False,\n",
    "                                   c='green')\n",
    "\n",
    "plt.xlabel('')\n",
    "plt.ylabel('O3')\n",
    "plt.title('Average Ozone level across San Antonio');"
   ]
  },
  {
   "cell_type": "markdown",
   "metadata": {},
   "source": [
    "## Carbon Dioxide"
   ]
  },
  {
   "cell_type": "code",
   "execution_count": 22,
   "metadata": {},
   "outputs": [
    {
     "data": {
      "text/html": [
       "<div>\n",
       "<style scoped>\n",
       "    .dataframe tbody tr th:only-of-type {\n",
       "        vertical-align: middle;\n",
       "    }\n",
       "\n",
       "    .dataframe tbody tr th {\n",
       "        vertical-align: top;\n",
       "    }\n",
       "\n",
       "    .dataframe thead tr th {\n",
       "        text-align: left;\n",
       "    }\n",
       "</style>\n",
       "<table border=\"1\" class=\"dataframe\">\n",
       "  <thead>\n",
       "    <tr>\n",
       "      <th></th>\n",
       "      <th>zone</th>\n",
       "      <th colspan=\"9\" halign=\"left\">carbon</th>\n",
       "    </tr>\n",
       "    <tr>\n",
       "      <th></th>\n",
       "      <th></th>\n",
       "      <th>count</th>\n",
       "      <th>mean</th>\n",
       "      <th>std</th>\n",
       "      <th>min</th>\n",
       "      <th>25%</th>\n",
       "      <th>50%</th>\n",
       "      <th>75%</th>\n",
       "      <th>99.7%</th>\n",
       "      <th>max</th>\n",
       "    </tr>\n",
       "  </thead>\n",
       "  <tbody>\n",
       "    <tr>\n",
       "      <th>0</th>\n",
       "      <td>Brooks</td>\n",
       "      <td>129244.0</td>\n",
       "      <td>0.198315</td>\n",
       "      <td>1.496548</td>\n",
       "      <td>0.0</td>\n",
       "      <td>0.0</td>\n",
       "      <td>0.0</td>\n",
       "      <td>0.0</td>\n",
       "      <td>3.0</td>\n",
       "      <td>129.0</td>\n",
       "    </tr>\n",
       "    <tr>\n",
       "      <th>1</th>\n",
       "      <td>Downtown</td>\n",
       "      <td>72048.0</td>\n",
       "      <td>0.137145</td>\n",
       "      <td>0.738883</td>\n",
       "      <td>0.0</td>\n",
       "      <td>0.0</td>\n",
       "      <td>0.0</td>\n",
       "      <td>0.0</td>\n",
       "      <td>3.0</td>\n",
       "      <td>128.0</td>\n",
       "    </tr>\n",
       "    <tr>\n",
       "      <th>2</th>\n",
       "      <td>Medical Center</td>\n",
       "      <td>72048.0</td>\n",
       "      <td>0.197146</td>\n",
       "      <td>1.309766</td>\n",
       "      <td>0.0</td>\n",
       "      <td>0.0</td>\n",
       "      <td>0.0</td>\n",
       "      <td>0.0</td>\n",
       "      <td>4.0</td>\n",
       "      <td>129.0</td>\n",
       "    </tr>\n",
       "  </tbody>\n",
       "</table>\n",
       "</div>"
      ],
      "text/plain": [
       "             zone    carbon                                                \\\n",
       "                      count      mean       std  min  25%  50%  75% 99.7%   \n",
       "0          Brooks  129244.0  0.198315  1.496548  0.0  0.0  0.0  0.0   3.0   \n",
       "1        Downtown   72048.0  0.137145  0.738883  0.0  0.0  0.0  0.0   3.0   \n",
       "2  Medical Center   72048.0  0.197146  1.309766  0.0  0.0  0.0  0.0   4.0   \n",
       "\n",
       "          \n",
       "     max  \n",
       "0  129.0  \n",
       "1  128.0  \n",
       "2  129.0  "
      ]
     },
     "execution_count": 22,
     "metadata": {},
     "output_type": "execute_result"
    }
   ],
   "source": [
    "c = df.groupby(['date', 'zone']).carbon.agg(['mean']).sort_values(by=['zone', 'date']).reset_index()\n",
    "c.set_index(pd.DatetimeIndex(s['date']), inplace=True)\n",
    "c.sort_index(inplace=True)\n",
    "\n",
    "df.groupby('zone')[['carbon']].describe(percentiles=[.25, .75, .997]).reset_index()"
   ]
  },
  {
   "cell_type": "code",
   "execution_count": 23,
   "metadata": {},
   "outputs": [
    {
     "data": {
      "image/png": "[encoded data removed]",
      "text/plain": [
       "<Figure size 720x432 with 1 Axes>"
      ]
     },
     "metadata": {
      "needs_background": "light"
     },
     "output_type": "display_data"
    }
   ],
   "source": [
    "c.resample('D').agg(['mean']).plot(figsize=(10, 6),\n",
    "                                   legend=False,\n",
    "                                   c='red')\n",
    "\n",
    "plt.xlabel('')\n",
    "plt.ylabel('CO2')\n",
    "plt.title('Average Carbon Dioxide level across San Antonio');"
   ]
  },
  {
   "cell_type": "markdown",
   "metadata": {},
   "source": [
    "## Nitrogen Dioxide"
   ]
  },
  {
   "cell_type": "code",
   "execution_count": 24,
   "metadata": {},
   "outputs": [
    {
     "data": {
      "text/html": [
       "<div>\n",
       "<style scoped>\n",
       "    .dataframe tbody tr th:only-of-type {\n",
       "        vertical-align: middle;\n",
       "    }\n",
       "\n",
       "    .dataframe tbody tr th {\n",
       "        vertical-align: top;\n",
       "    }\n",
       "\n",
       "    .dataframe thead tr th {\n",
       "        text-align: left;\n",
       "    }\n",
       "</style>\n",
       "<table border=\"1\" class=\"dataframe\">\n",
       "  <thead>\n",
       "    <tr>\n",
       "      <th></th>\n",
       "      <th>zone</th>\n",
       "      <th colspan=\"9\" halign=\"left\">nitrogen</th>\n",
       "    </tr>\n",
       "    <tr>\n",
       "      <th></th>\n",
       "      <th></th>\n",
       "      <th>count</th>\n",
       "      <th>mean</th>\n",
       "      <th>std</th>\n",
       "      <th>min</th>\n",
       "      <th>25%</th>\n",
       "      <th>50%</th>\n",
       "      <th>75%</th>\n",
       "      <th>99.7%</th>\n",
       "      <th>max</th>\n",
       "    </tr>\n",
       "  </thead>\n",
       "  <tbody>\n",
       "    <tr>\n",
       "      <th>0</th>\n",
       "      <td>Brooks</td>\n",
       "      <td>129244.0</td>\n",
       "      <td>0.926929</td>\n",
       "      <td>2.678584</td>\n",
       "      <td>0.0</td>\n",
       "      <td>0.0</td>\n",
       "      <td>0.0</td>\n",
       "      <td>0.0</td>\n",
       "      <td>18.0</td>\n",
       "      <td>38.0</td>\n",
       "    </tr>\n",
       "    <tr>\n",
       "      <th>1</th>\n",
       "      <td>Downtown</td>\n",
       "      <td>72048.0</td>\n",
       "      <td>1.509105</td>\n",
       "      <td>3.602522</td>\n",
       "      <td>0.0</td>\n",
       "      <td>0.0</td>\n",
       "      <td>0.0</td>\n",
       "      <td>0.0</td>\n",
       "      <td>20.0</td>\n",
       "      <td>41.0</td>\n",
       "    </tr>\n",
       "    <tr>\n",
       "      <th>2</th>\n",
       "      <td>Medical Center</td>\n",
       "      <td>72048.0</td>\n",
       "      <td>1.617200</td>\n",
       "      <td>3.327812</td>\n",
       "      <td>0.0</td>\n",
       "      <td>0.0</td>\n",
       "      <td>0.0</td>\n",
       "      <td>1.0</td>\n",
       "      <td>18.0</td>\n",
       "      <td>36.0</td>\n",
       "    </tr>\n",
       "  </tbody>\n",
       "</table>\n",
       "</div>"
      ],
      "text/plain": [
       "             zone  nitrogen                                                \\\n",
       "                      count      mean       std  min  25%  50%  75% 99.7%   \n",
       "0          Brooks  129244.0  0.926929  2.678584  0.0  0.0  0.0  0.0  18.0   \n",
       "1        Downtown   72048.0  1.509105  3.602522  0.0  0.0  0.0  0.0  20.0   \n",
       "2  Medical Center   72048.0  1.617200  3.327812  0.0  0.0  0.0  1.0  18.0   \n",
       "\n",
       "         \n",
       "    max  \n",
       "0  38.0  \n",
       "1  41.0  \n",
       "2  36.0  "
      ]
     },
     "execution_count": 24,
     "metadata": {},
     "output_type": "execute_result"
    }
   ],
   "source": [
    "n = df.groupby(['date', 'zone']).nitrogen.agg(['mean']).sort_values(by=['zone', 'date']).reset_index()\n",
    "n.set_index(pd.DatetimeIndex(s['date']), inplace=True)\n",
    "n.sort_index(inplace=True)\n",
    "\n",
    "df.groupby('zone')[['nitrogen']].describe(percentiles=[.25, .75, .997]).reset_index()"
   ]
  },
  {
   "cell_type": "code",
   "execution_count": 25,
   "metadata": {},
   "outputs": [
    {
     "data": {
      "image/png": "[encoded data removed]",
      "text/plain": [
       "<Figure size 720x432 with 1 Axes>"
      ]
     },
     "metadata": {
      "needs_background": "light"
     },
     "output_type": "display_data"
    }
   ],
   "source": [
    "n.resample('D').agg(['mean']).plot(figsize=(10, 6),\n",
    "                                   legend=False)\n",
    "\n",
    "plt.xlabel('')\n",
    "plt.ylabel('NO2')\n",
    "plt.title('Average Nitrogen Dioxide level across San Antonio');\n"
   ]
  },
  {
   "cell_type": "markdown",
   "metadata": {},
   "source": [
    "# Appendix"
   ]
  },
  {
   "cell_type": "code",
   "execution_count": 26,
   "metadata": {},
   "outputs": [
    {
     "name": "stdout",
     "output_type": "stream",
     "text": [
      "0.0\n",
      "The upper bound for ozone outliers is: 0.0\n"
     ]
    }
   ],
   "source": [
    "q3 = np.percentile(df.ozone, 75)\n",
    "q1 = np.percentile(df.ozone, 25)\n",
    "iqr = (q3 - q1)\n",
    "\n",
    "upper_bound = (iqr * 3) + q3\n",
    "\n",
    "print(q3)\n",
    "print('The upper bound for ozone outliers is:', str(upper_bound))\n",
    "\n",
    "outliers = df.loc[df.ozone > upper_bound].sort_values('date').reset_index(drop=True)"
   ]
  },
  {
   "cell_type": "code",
   "execution_count": 27,
   "metadata": {},
   "outputs": [
    {
     "data": {
      "text/html": [
       "<div>\n",
       "<style scoped>\n",
       "    .dataframe tbody tr th:only-of-type {\n",
       "        vertical-align: middle;\n",
       "    }\n",
       "\n",
       "    .dataframe tbody tr th {\n",
       "        vertical-align: top;\n",
       "    }\n",
       "\n",
       "    .dataframe thead th {\n",
       "        text-align: right;\n",
       "    }\n",
       "</style>\n",
       "<table border=\"1\" class=\"dataframe\">\n",
       "  <thead>\n",
       "    <tr style=\"text-align: right;\">\n",
       "      <th></th>\n",
       "      <th>date</th>\n",
       "      <th>sensor_id</th>\n",
       "      <th>vendor</th>\n",
       "      <th>sensor_model</th>\n",
       "      <th>latitude</th>\n",
       "      <th>longitude</th>\n",
       "      <th>zone</th>\n",
       "      <th>micron_1</th>\n",
       "      <th>micron_2</th>\n",
       "      <th>micron_10</th>\n",
       "      <th>sulfur</th>\n",
       "      <th>ozone</th>\n",
       "      <th>carbon</th>\n",
       "      <th>nitrogen</th>\n",
       "      <th>alert_triggered</th>\n",
       "      <th>sensor_status</th>\n",
       "    </tr>\n",
       "  </thead>\n",
       "  <tbody>\n",
       "    <tr>\n",
       "      <th>0</th>\n",
       "      <td>2021-04-20 00:14:23</td>\n",
       "      <td>6de2cc6034fd26e8</td>\n",
       "      <td>ATT</td>\n",
       "      <td>AQM-01-00-01-00-01-00-GY</td>\n",
       "      <td>29.34412</td>\n",
       "      <td>-98.436440</td>\n",
       "      <td>Brooks</td>\n",
       "      <td>5</td>\n",
       "      <td>7</td>\n",
       "      <td>10</td>\n",
       "      <td>0</td>\n",
       "      <td>0.10</td>\n",
       "      <td>0</td>\n",
       "      <td>0</td>\n",
       "      <td>no2</td>\n",
       "      <td>Normal</td>\n",
       "    </tr>\n",
       "    <tr>\n",
       "      <th>1</th>\n",
       "      <td>2021-04-20 02:11:17</td>\n",
       "      <td>6de2cc6034fd26e8</td>\n",
       "      <td>ATT</td>\n",
       "      <td>AQM-01-00-01-00-01-00-GY</td>\n",
       "      <td>29.34412</td>\n",
       "      <td>-98.436440</td>\n",
       "      <td>Brooks</td>\n",
       "      <td>9</td>\n",
       "      <td>9</td>\n",
       "      <td>12</td>\n",
       "      <td>0</td>\n",
       "      <td>0.10</td>\n",
       "      <td>0</td>\n",
       "      <td>1</td>\n",
       "      <td>no2</td>\n",
       "      <td>Normal</td>\n",
       "    </tr>\n",
       "    <tr>\n",
       "      <th>2</th>\n",
       "      <td>2021-04-20 04:02:24</td>\n",
       "      <td>6dee283d397b9803</td>\n",
       "      <td>ATT</td>\n",
       "      <td>AQM-01-00-01-00-01-00-GY</td>\n",
       "      <td>29.50752</td>\n",
       "      <td>-98.581368</td>\n",
       "      <td>Medical Center</td>\n",
       "      <td>6</td>\n",
       "      <td>9</td>\n",
       "      <td>11</td>\n",
       "      <td>0</td>\n",
       "      <td>2.50</td>\n",
       "      <td>1</td>\n",
       "      <td>0</td>\n",
       "      <td>o3</td>\n",
       "      <td>Normal</td>\n",
       "    </tr>\n",
       "    <tr>\n",
       "      <th>3</th>\n",
       "      <td>2021-04-20 05:15:06</td>\n",
       "      <td>6de2cc6034fd26e8</td>\n",
       "      <td>ATT</td>\n",
       "      <td>AQM-01-00-01-00-01-00-GY</td>\n",
       "      <td>29.34412</td>\n",
       "      <td>-98.436440</td>\n",
       "      <td>Brooks</td>\n",
       "      <td>5</td>\n",
       "      <td>7</td>\n",
       "      <td>10</td>\n",
       "      <td>0</td>\n",
       "      <td>0.10</td>\n",
       "      <td>0</td>\n",
       "      <td>0</td>\n",
       "      <td>no2</td>\n",
       "      <td>Normal</td>\n",
       "    </tr>\n",
       "    <tr>\n",
       "      <th>4</th>\n",
       "      <td>2021-04-20 05:16:47</td>\n",
       "      <td>6de2cc6034fd26e8</td>\n",
       "      <td>ATT</td>\n",
       "      <td>AQM-01-00-01-00-01-00-GY</td>\n",
       "      <td>29.34412</td>\n",
       "      <td>-98.436440</td>\n",
       "      <td>Brooks</td>\n",
       "      <td>5</td>\n",
       "      <td>7</td>\n",
       "      <td>10</td>\n",
       "      <td>0</td>\n",
       "      <td>0.10</td>\n",
       "      <td>0</td>\n",
       "      <td>0</td>\n",
       "      <td>no2</td>\n",
       "      <td>Normal</td>\n",
       "    </tr>\n",
       "    <tr>\n",
       "      <th>...</th>\n",
       "      <td>...</td>\n",
       "      <td>...</td>\n",
       "      <td>...</td>\n",
       "      <td>...</td>\n",
       "      <td>...</td>\n",
       "      <td>...</td>\n",
       "      <td>...</td>\n",
       "      <td>...</td>\n",
       "      <td>...</td>\n",
       "      <td>...</td>\n",
       "      <td>...</td>\n",
       "      <td>...</td>\n",
       "      <td>...</td>\n",
       "      <td>...</td>\n",
       "      <td>...</td>\n",
       "      <td>...</td>\n",
       "    </tr>\n",
       "    <tr>\n",
       "      <th>44046</th>\n",
       "      <td>2021-06-18 23:50:00</td>\n",
       "      <td>70463</td>\n",
       "      <td>ITRON</td>\n",
       "      <td>ClimaCell</td>\n",
       "      <td>29.50484</td>\n",
       "      <td>-98.583500</td>\n",
       "      <td>Medical Center</td>\n",
       "      <td>0</td>\n",
       "      <td>0</td>\n",
       "      <td>0</td>\n",
       "      <td>0</td>\n",
       "      <td>62.30</td>\n",
       "      <td>0</td>\n",
       "      <td>11</td>\n",
       "      <td>NaN</td>\n",
       "      <td>Normal</td>\n",
       "    </tr>\n",
       "    <tr>\n",
       "      <th>44047</th>\n",
       "      <td>2021-06-18 23:50:00</td>\n",
       "      <td>70456</td>\n",
       "      <td>ITRON</td>\n",
       "      <td>ClimaCell</td>\n",
       "      <td>29.42457</td>\n",
       "      <td>-98.494570</td>\n",
       "      <td>Downtown</td>\n",
       "      <td>0</td>\n",
       "      <td>0</td>\n",
       "      <td>0</td>\n",
       "      <td>0</td>\n",
       "      <td>72.00</td>\n",
       "      <td>0</td>\n",
       "      <td>11</td>\n",
       "      <td>NaN</td>\n",
       "      <td>Normal</td>\n",
       "    </tr>\n",
       "    <tr>\n",
       "      <th>44048</th>\n",
       "      <td>2021-06-18 23:55:00</td>\n",
       "      <td>70449</td>\n",
       "      <td>ITRON</td>\n",
       "      <td>ClimaCell</td>\n",
       "      <td>29.34602</td>\n",
       "      <td>-98.439550</td>\n",
       "      <td>Brooks</td>\n",
       "      <td>0</td>\n",
       "      <td>0</td>\n",
       "      <td>0</td>\n",
       "      <td>0</td>\n",
       "      <td>73.08</td>\n",
       "      <td>0</td>\n",
       "      <td>11</td>\n",
       "      <td>NaN</td>\n",
       "      <td>Normal</td>\n",
       "    </tr>\n",
       "    <tr>\n",
       "      <th>44049</th>\n",
       "      <td>2021-06-18 23:55:00</td>\n",
       "      <td>70456</td>\n",
       "      <td>ITRON</td>\n",
       "      <td>ClimaCell</td>\n",
       "      <td>29.42457</td>\n",
       "      <td>-98.494570</td>\n",
       "      <td>Downtown</td>\n",
       "      <td>0</td>\n",
       "      <td>0</td>\n",
       "      <td>0</td>\n",
       "      <td>0</td>\n",
       "      <td>72.00</td>\n",
       "      <td>0</td>\n",
       "      <td>11</td>\n",
       "      <td>NaN</td>\n",
       "      <td>Normal</td>\n",
       "    </tr>\n",
       "    <tr>\n",
       "      <th>44050</th>\n",
       "      <td>2021-06-18 23:55:00</td>\n",
       "      <td>70463</td>\n",
       "      <td>ITRON</td>\n",
       "      <td>ClimaCell</td>\n",
       "      <td>29.50484</td>\n",
       "      <td>-98.583500</td>\n",
       "      <td>Medical Center</td>\n",
       "      <td>0</td>\n",
       "      <td>0</td>\n",
       "      <td>0</td>\n",
       "      <td>0</td>\n",
       "      <td>62.30</td>\n",
       "      <td>0</td>\n",
       "      <td>11</td>\n",
       "      <td>NaN</td>\n",
       "      <td>Normal</td>\n",
       "    </tr>\n",
       "  </tbody>\n",
       "</table>\n",
       "<p>44051 rows × 16 columns</p>\n",
       "</div>"
      ],
      "text/plain": [
       "                     date         sensor_id vendor              sensor_model  \\\n",
       "0     2021-04-20 00:14:23  6de2cc6034fd26e8    ATT  AQM-01-00-01-00-01-00-GY   \n",
       "1     2021-04-20 02:11:17  6de2cc6034fd26e8    ATT  AQM-01-00-01-00-01-00-GY   \n",
       "2     2021-04-20 04:02:24  6dee283d397b9803    ATT  AQM-01-00-01-00-01-00-GY   \n",
       "3     2021-04-20 05:15:06  6de2cc6034fd26e8    ATT  AQM-01-00-01-00-01-00-GY   \n",
       "4     2021-04-20 05:16:47  6de2cc6034fd26e8    ATT  AQM-01-00-01-00-01-00-GY   \n",
       "...                   ...               ...    ...                       ...   \n",
       "44046 2021-06-18 23:50:00             70463  ITRON                 ClimaCell   \n",
       "44047 2021-06-18 23:50:00             70456  ITRON                 ClimaCell   \n",
       "44048 2021-06-18 23:55:00             70449  ITRON                 ClimaCell   \n",
       "44049 2021-06-18 23:55:00             70456  ITRON                 ClimaCell   \n",
       "44050 2021-06-18 23:55:00             70463  ITRON                 ClimaCell   \n",
       "\n",
       "       latitude  longitude            zone  micron_1  micron_2  micron_10  \\\n",
       "0      29.34412 -98.436440          Brooks         5         7         10   \n",
       "1      29.34412 -98.436440          Brooks         9         9         12   \n",
       "2      29.50752 -98.581368  Medical Center         6         9         11   \n",
       "3      29.34412 -98.436440          Brooks         5         7         10   \n",
       "4      29.34412 -98.436440          Brooks         5         7         10   \n",
       "...         ...        ...             ...       ...       ...        ...   \n",
       "44046  29.50484 -98.583500  Medical Center         0         0          0   \n",
       "44047  29.42457 -98.494570        Downtown         0         0          0   \n",
       "44048  29.34602 -98.439550          Brooks         0         0          0   \n",
       "44049  29.42457 -98.494570        Downtown         0         0          0   \n",
       "44050  29.50484 -98.583500  Medical Center         0         0          0   \n",
       "\n",
       "       sulfur  ozone  carbon  nitrogen alert_triggered sensor_status  \n",
       "0           0   0.10       0         0             no2        Normal  \n",
       "1           0   0.10       0         1             no2        Normal  \n",
       "2           0   2.50       1         0              o3        Normal  \n",
       "3           0   0.10       0         0             no2        Normal  \n",
       "4           0   0.10       0         0             no2        Normal  \n",
       "...       ...    ...     ...       ...             ...           ...  \n",
       "44046       0  62.30       0        11             NaN        Normal  \n",
       "44047       0  72.00       0        11             NaN        Normal  \n",
       "44048       0  73.08       0        11             NaN        Normal  \n",
       "44049       0  72.00       0        11             NaN        Normal  \n",
       "44050       0  62.30       0        11             NaN        Normal  \n",
       "\n",
       "[44051 rows x 16 columns]"
      ]
     },
     "execution_count": 27,
     "metadata": {},
     "output_type": "execute_result"
    }
   ],
   "source": [
    "outliers"
   ]
  },
  {
   "cell_type": "markdown",
   "metadata": {},
   "source": [
    "\n"
   ]
  },
  {
   "cell_type": "markdown",
   "metadata": {},
   "source": [
    "## What is the Ozone level throughout the day for each zone?"
   ]
  },
  {
   "cell_type": "markdown",
   "metadata": {},
   "source": []
  },
  {
   "cell_type": "code",
   "execution_count": 28,
   "metadata": {},
   "outputs": [],
   "source": [
    "air = df.groupby(['date', 'zone']).ozone.agg(['mean']).sort_values(by=['zone', 'date']).reset_index()"
   ]
  },
  {
   "cell_type": "code",
   "execution_count": 29,
   "metadata": {},
   "outputs": [],
   "source": [
    "air.set_index(pd.DatetimeIndex(air['date']), inplace=True)"
   ]
  },
  {
   "cell_type": "code",
   "execution_count": 30,
   "metadata": {},
   "outputs": [
    {
     "data": {
      "text/html": [
       "<div>\n",
       "<style scoped>\n",
       "    .dataframe tbody tr th:only-of-type {\n",
       "        vertical-align: middle;\n",
       "    }\n",
       "\n",
       "    .dataframe tbody tr th {\n",
       "        vertical-align: top;\n",
       "    }\n",
       "\n",
       "    .dataframe thead th {\n",
       "        text-align: right;\n",
       "    }\n",
       "</style>\n",
       "<table border=\"1\" class=\"dataframe\">\n",
       "  <thead>\n",
       "    <tr style=\"text-align: right;\">\n",
       "      <th></th>\n",
       "      <th>date</th>\n",
       "      <th>zone</th>\n",
       "      <th>mean</th>\n",
       "    </tr>\n",
       "    <tr>\n",
       "      <th>date</th>\n",
       "      <th></th>\n",
       "      <th></th>\n",
       "      <th></th>\n",
       "    </tr>\n",
       "  </thead>\n",
       "  <tbody>\n",
       "    <tr>\n",
       "      <th>2021-04-20 00:00:06</th>\n",
       "      <td>2021-04-20 00:00:06</td>\n",
       "      <td>Brooks</td>\n",
       "      <td>0.0</td>\n",
       "    </tr>\n",
       "    <tr>\n",
       "      <th>2021-04-20 00:01:47</th>\n",
       "      <td>2021-04-20 00:01:47</td>\n",
       "      <td>Brooks</td>\n",
       "      <td>0.0</td>\n",
       "    </tr>\n",
       "    <tr>\n",
       "      <th>2021-04-20 00:03:06</th>\n",
       "      <td>2021-04-20 00:03:06</td>\n",
       "      <td>Brooks</td>\n",
       "      <td>0.0</td>\n",
       "    </tr>\n",
       "    <tr>\n",
       "      <th>2021-04-20 00:04:18</th>\n",
       "      <td>2021-04-20 00:04:18</td>\n",
       "      <td>Brooks</td>\n",
       "      <td>0.0</td>\n",
       "    </tr>\n",
       "    <tr>\n",
       "      <th>2021-04-20 00:04:21</th>\n",
       "      <td>2021-04-20 00:04:21</td>\n",
       "      <td>Brooks</td>\n",
       "      <td>0.0</td>\n",
       "    </tr>\n",
       "    <tr>\n",
       "      <th>...</th>\n",
       "      <td>...</td>\n",
       "      <td>...</td>\n",
       "      <td>...</td>\n",
       "    </tr>\n",
       "    <tr>\n",
       "      <th>2021-06-18 23:52:55</th>\n",
       "      <td>2021-06-18 23:52:55</td>\n",
       "      <td>Medical Center</td>\n",
       "      <td>0.0</td>\n",
       "    </tr>\n",
       "    <tr>\n",
       "      <th>2021-06-18 23:55:00</th>\n",
       "      <td>2021-06-18 23:55:00</td>\n",
       "      <td>Medical Center</td>\n",
       "      <td>62.3</td>\n",
       "    </tr>\n",
       "    <tr>\n",
       "      <th>2021-06-18 23:55:55</th>\n",
       "      <td>2021-06-18 23:55:55</td>\n",
       "      <td>Medical Center</td>\n",
       "      <td>0.0</td>\n",
       "    </tr>\n",
       "    <tr>\n",
       "      <th>2021-06-18 23:58:54</th>\n",
       "      <td>2021-06-18 23:58:54</td>\n",
       "      <td>Medical Center</td>\n",
       "      <td>0.0</td>\n",
       "    </tr>\n",
       "    <tr>\n",
       "      <th>2021-06-18 23:58:55</th>\n",
       "      <td>2021-06-18 23:58:55</td>\n",
       "      <td>Medical Center</td>\n",
       "      <td>0.0</td>\n",
       "    </tr>\n",
       "  </tbody>\n",
       "</table>\n",
       "<p>145042 rows × 3 columns</p>\n",
       "</div>"
      ],
      "text/plain": [
       "                                   date            zone  mean\n",
       "date                                                         \n",
       "2021-04-20 00:00:06 2021-04-20 00:00:06          Brooks   0.0\n",
       "2021-04-20 00:01:47 2021-04-20 00:01:47          Brooks   0.0\n",
       "2021-04-20 00:03:06 2021-04-20 00:03:06          Brooks   0.0\n",
       "2021-04-20 00:04:18 2021-04-20 00:04:18          Brooks   0.0\n",
       "2021-04-20 00:04:21 2021-04-20 00:04:21          Brooks   0.0\n",
       "...                                 ...             ...   ...\n",
       "2021-06-18 23:52:55 2021-06-18 23:52:55  Medical Center   0.0\n",
       "2021-06-18 23:55:00 2021-06-18 23:55:00  Medical Center  62.3\n",
       "2021-06-18 23:55:55 2021-06-18 23:55:55  Medical Center   0.0\n",
       "2021-06-18 23:58:54 2021-06-18 23:58:54  Medical Center   0.0\n",
       "2021-06-18 23:58:55 2021-06-18 23:58:55  Medical Center   0.0\n",
       "\n",
       "[145042 rows x 3 columns]"
      ]
     },
     "execution_count": 30,
     "metadata": {},
     "output_type": "execute_result"
    }
   ],
   "source": [
    "air"
   ]
  },
  {
   "cell_type": "code",
   "execution_count": 31,
   "metadata": {},
   "outputs": [
    {
     "data": {
      "image/png": "[encoded data removed]",
      "text/plain": [
       "<Figure size 720x432 with 1 Axes>"
      ]
     },
     "metadata": {
      "needs_background": "light"
     },
     "output_type": "display_data"
    },
    {
     "data": {
      "image/png": "[encoded data removed]",
      "text/plain": [
       "<Figure size 720x432 with 1 Axes>"
      ]
     },
     "metadata": {
      "needs_background": "light"
     },
     "output_type": "display_data"
    },
    {
     "data": {
      "image/png": "[encoded data removed]",
      "text/plain": [
       "<Figure size 720x432 with 1 Axes>"
      ]
     },
     "metadata": {
      "needs_background": "light"
     },
     "output_type": "display_data"
    }
   ],
   "source": [
    "for i in ['Medical Center', 'Downtown', 'Brooks']:\n",
    "    air[air.zone==i].resample('D').agg(['max', 'mean', 'min']).plot(figsize=(10, 6), alpha=.75, legend=False)\n",
    "\n",
    "\n",
    "    plt.title(f\"Ozone in {i}\")\n",
    "    plt.xlabel(\"\")\n",
    "    plt.ylabel('Ozone Level')\n",
    "\n",
    "    plt.tight_layout();"
   ]
  },
  {
   "cell_type": "code",
   "execution_count": 32,
   "metadata": {},
   "outputs": [
    {
     "data": {
      "text/plain": [
       "<AxesSubplot:xlabel='Lag', ylabel='Autocorrelation'>"
      ]
     },
     "execution_count": 32,
     "metadata": {},
     "output_type": "execute_result"
    },
    {
     "data": {
      "image/png": "[encoded data removed]",
      "text/plain": [
       "<Figure size 432x288 with 1 Axes>"
      ]
     },
     "metadata": {
      "needs_background": "light"
     },
     "output_type": "display_data"
    }
   ],
   "source": [
    "pd.plotting.autocorrelation_plot(air[air.zone=='Downtown'].resample('6H').mean())"
   ]
  },
  {
   "cell_type": "code",
   "execution_count": 33,
   "metadata": {},
   "outputs": [
    {
     "data": {
      "text/html": [
       "<div>\n",
       "<style scoped>\n",
       "    .dataframe tbody tr th:only-of-type {\n",
       "        vertical-align: middle;\n",
       "    }\n",
       "\n",
       "    .dataframe tbody tr th {\n",
       "        vertical-align: top;\n",
       "    }\n",
       "\n",
       "    .dataframe thead th {\n",
       "        text-align: right;\n",
       "    }\n",
       "</style>\n",
       "<table border=\"1\" class=\"dataframe\">\n",
       "  <thead>\n",
       "    <tr style=\"text-align: right;\">\n",
       "      <th></th>\n",
       "      <th>mean</th>\n",
       "      <th>tgl</th>\n",
       "    </tr>\n",
       "    <tr>\n",
       "      <th>date</th>\n",
       "      <th></th>\n",
       "      <th></th>\n",
       "    </tr>\n",
       "  </thead>\n",
       "  <tbody>\n",
       "    <tr>\n",
       "      <th>2021-06-05</th>\n",
       "      <td>30.491944</td>\n",
       "      <td>30 (05 June)</td>\n",
       "    </tr>\n",
       "    <tr>\n",
       "      <th>2021-05-13</th>\n",
       "      <td>30.174516</td>\n",
       "      <td>30 (13 May)</td>\n",
       "    </tr>\n",
       "    <tr>\n",
       "      <th>2021-06-16</th>\n",
       "      <td>25.213962</td>\n",
       "      <td>25 (16 June)</td>\n",
       "    </tr>\n",
       "  </tbody>\n",
       "</table>\n",
       "</div>"
      ],
      "text/plain": [
       "                 mean           tgl\n",
       "date                               \n",
       "2021-06-05  30.491944  30 (05 June)\n",
       "2021-05-13  30.174516   30 (13 May)\n",
       "2021-06-16  25.213962  25 (16 June)"
      ]
     },
     "execution_count": 33,
     "metadata": {},
     "output_type": "execute_result"
    }
   ],
   "source": [
    "top_dates = air.resample('D').mean().sort_values(by=['mean'],ascending=False).head(3)\n",
    "vals = []\n",
    "for tgl, tot in zip(top_dates.index, top_dates[\"mean\"]):\n",
    "    tgl = tgl.strftime(\"%d %B\")\n",
    "    val = \"%d (%s)\"%(tot, tgl)\n",
    "    vals.append(val)\n",
    "top_dates['tgl'] = vals\n",
    "top_dates"
   ]
  },
  {
   "cell_type": "code",
   "execution_count": 34,
   "metadata": {},
   "outputs": [
    {
     "data": {
      "application/vnd.plotly.v1+json": {
       "config": {
        "plotlyServerURL": "https://plot.ly"
       },
       "data": [
        {
         "text": "counts",
         "textfont": {
          "size": 12
         },
         "type": "scatter",
         "x": [
          "2021-04-20",
          "2021-04-21",
          "2021-04-22",
          "2021-04-23",
          "2021-04-24",
          "2021-04-25",
          "2021-04-26",
          "2021-04-27",
          "2021-04-28",
          "2021-04-29",
          "2021-04-30",
          "2021-05-01",
          "2021-05-02",
          "2021-05-03",
          "2021-05-04",
          "2021-05-05",
          "2021-05-06",
          "2021-05-07",
          "2021-05-08",
          "2021-05-09",
          "2021-05-10",
          "2021-05-11",
          "2021-05-12",
          "2021-05-13",
          "2021-05-14",
          "2021-05-15",
          "2021-05-16",
          "2021-05-17",
          "2021-05-18",
          "2021-05-19",
          "2021-05-20",
          "2021-05-21",
          "2021-05-22",
          "2021-05-23",
          "2021-05-24",
          "2021-05-25",
          "2021-05-26",
          "2021-05-27",
          "2021-05-28",
          "2021-05-29",
          "2021-05-30",
          "2021-05-31",
          "2021-06-01",
          "2021-06-02",
          "2021-06-03",
          "2021-06-04",
          "2021-06-05",
          "2021-06-06",
          "2021-06-07",
          "2021-06-08",
          "2021-06-09",
          "2021-06-10",
          "2021-06-11",
          "2021-06-12",
          "2021-06-13",
          "2021-06-14",
          "2021-06-15",
          "2021-06-16",
          "2021-06-17",
          "2021-06-18"
         ],
         "y": [
          0.0018509615384615374,
          0.0007138423339540659,
          0.0036620392532312088,
          0.0002941176470588235,
          0.01975279106858054,
          0.0010025062656641608,
          0.0045619235836627135,
          0.004046242774566474,
          0.00018700327255726976,
          0.006414208131513283,
          0.0007629947544110635,
          9.514652398040553,
          11.606930513763512,
          12.882943021656926,
          16.169977640904488,
          15.9518966395112,
          14.704551045510451,
          15.308043284248098,
          15.528979721166033,
          12.487447443659601,
          7.431433966455625,
          11.153720791290494,
          17.60138888888889,
          30.174516129032256,
          23.96934569809376,
          13.565656771045132,
          11.415604547020324,
          10.703454203599255,
          11.865422453703719,
          10.268347084708466,
          11.233513088417013,
          15.02766169154231,
          9.728146863255267,
          10.384068190623811,
          9.933145107462257,
          10.29746148602591,
          9.92567931456549,
          9.26311538975798,
          7.756746813822109,
          8.363703404656164,
          8.767766421368211,
          13.808015812292783,
          10.643089598352256,
          12.279948186528525,
          12.09001328550552,
          11.52452599388378,
          30.491944444444325,
          10.857726692209424,
          10.422802588996728,
          8.862952646239547,
          11.92284644194756,
          9.811249484536075,
          7.239483828382839,
          9.743690901867305,
          10.214593782654076,
          12.24558968222307,
          16.409672462596035,
          25.21396161754633,
          25.063447032723317,
          23.242258566978247
         ]
        },
        {
         "marker": {
          "color": "red",
          "size": 8
         },
         "mode": "markers+text",
         "text": [
          "30 (05 June)",
          "30 (13 May)",
          "25 (16 June)"
         ],
         "textfont": {
          "color": "#233a77",
          "size": 12
         },
         "textposition": "top center",
         "type": "scatter",
         "x": [
          "2021-06-05T00:00:00",
          "2021-05-13T00:00:00",
          "2021-06-16T00:00:00"
         ],
         "y": [
          30.491944444444325,
          30.174516129032256,
          25.21396161754633
         ]
        }
       ],
       "layout": {
        "showlegend": false,
        "template": {
         "data": {
          "bar": [
           {
            "error_x": {
             "color": "#2a3f5f"
            },
            "error_y": {
             "color": "#2a3f5f"
            },
            "marker": {
             "line": {
              "color": "#E5ECF6",
              "width": 0.5
             }
            },
            "type": "bar"
           }
          ],
          "barpolar": [
           {
            "marker": {
             "line": {
              "color": "#E5ECF6",
              "width": 0.5
             }
            },
            "type": "barpolar"
           }
          ],
          "carpet": [
           {
            "aaxis": {
             "endlinecolor": "#2a3f5f",
             "gridcolor": "white",
             "linecolor": "white",
             "minorgridcolor": "white",
             "startlinecolor": "#2a3f5f"
            },
            "baxis": {
             "endlinecolor": "#2a3f5f",
             "gridcolor": "white",
             "linecolor": "white",
             "minorgridcolor": "white",
             "startlinecolor": "#2a3f5f"
            },
            "type": "carpet"
           }
          ],
          "choropleth": [
           {
            "colorbar": {
             "outlinewidth": 0,
             "ticks": ""
            },
            "type": "choropleth"
           }
          ],
          "contour": [
           {
            "colorbar": {
             "outlinewidth": 0,
             "ticks": ""
            },
            "colorscale": [
             [
              0,
              "#0d0887"
             ],
             [
              0.1111111111111111,
              "#46039f"
             ],
             [
              0.2222222222222222,
              "#7201a8"
             ],
             [
              0.3333333333333333,
              "#9c179e"
             ],
             [
              0.4444444444444444,
              "#bd3786"
             ],
             [
              0.5555555555555556,
              "#d8576b"
             ],
             [
              0.6666666666666666,
              "#ed7953"
             ],
             [
              0.7777777777777778,
              "#fb9f3a"
             ],
             [
              0.8888888888888888,
              "#fdca26"
             ],
             [
              1,
              "#f0f921"
             ]
            ],
            "type": "contour"
           }
          ],
          "contourcarpet": [
           {
            "colorbar": {
             "outlinewidth": 0,
             "ticks": ""
            },
            "type": "contourcarpet"
           }
          ],
          "heatmap": [
           {
            "colorbar": {
             "outlinewidth": 0,
             "ticks": ""
            },
            "colorscale": [
             [
              0,
              "#0d0887"
             ],
             [
              0.1111111111111111,
              "#46039f"
             ],
             [
              0.2222222222222222,
              "#7201a8"
             ],
             [
              0.3333333333333333,
              "#9c179e"
             ],
             [
              0.4444444444444444,
              "#bd3786"
             ],
             [
              0.5555555555555556,
              "#d8576b"
             ],
             [
              0.6666666666666666,
              "#ed7953"
             ],
             [
              0.7777777777777778,
              "#fb9f3a"
             ],
             [
              0.8888888888888888,
              "#fdca26"
             ],
             [
              1,
              "#f0f921"
             ]
            ],
            "type": "heatmap"
           }
          ],
          "heatmapgl": [
           {
            "colorbar": {
             "outlinewidth": 0,
             "ticks": ""
            },
            "colorscale": [
             [
              0,
              "#0d0887"
             ],
             [
              0.1111111111111111,
              "#46039f"
             ],
             [
              0.2222222222222222,
              "#7201a8"
             ],
             [
              0.3333333333333333,
              "#9c179e"
             ],
             [
              0.4444444444444444,
              "#bd3786"
             ],
             [
              0.5555555555555556,
              "#d8576b"
             ],
             [
              0.6666666666666666,
              "#ed7953"
             ],
             [
              0.7777777777777778,
              "#fb9f3a"
             ],
             [
              0.8888888888888888,
              "#fdca26"
             ],
             [
              1,
              "#f0f921"
             ]
            ],
            "type": "heatmapgl"
           }
          ],
          "histogram": [
           {
            "marker": {
             "colorbar": {
              "outlinewidth": 0,
              "ticks": ""
             }
            },
            "type": "histogram"
           }
          ],
          "histogram2d": [
           {
            "colorbar": {
             "outlinewidth": 0,
             "ticks": ""
            },
            "colorscale": [
             [
              0,
              "#0d0887"
             ],
             [
              0.1111111111111111,
              "#46039f"
             ],
             [
              0.2222222222222222,
              "#7201a8"
             ],
             [
              0.3333333333333333,
              "#9c179e"
             ],
             [
              0.4444444444444444,
              "#bd3786"
             ],
             [
              0.5555555555555556,
              "#d8576b"
             ],
             [
              0.6666666666666666,
              "#ed7953"
             ],
             [
              0.7777777777777778,
              "#fb9f3a"
             ],
             [
              0.8888888888888888,
              "#fdca26"
             ],
             [
              1,
              "#f0f921"
             ]
            ],
            "type": "histogram2d"
           }
          ],
          "histogram2dcontour": [
           {
            "colorbar": {
             "outlinewidth": 0,
             "ticks": ""
            },
            "colorscale": [
             [
              0,
              "#0d0887"
             ],
             [
              0.1111111111111111,
              "#46039f"
             ],
             [
              0.2222222222222222,
              "#7201a8"
             ],
             [
              0.3333333333333333,
              "#9c179e"
             ],
             [
              0.4444444444444444,
              "#bd3786"
             ],
             [
              0.5555555555555556,
              "#d8576b"
             ],
             [
              0.6666666666666666,
              "#ed7953"
             ],
             [
              0.7777777777777778,
              "#fb9f3a"
             ],
             [
              0.8888888888888888,
              "#fdca26"
             ],
             [
              1,
              "#f0f921"
             ]
            ],
            "type": "histogram2dcontour"
           }
          ],
          "mesh3d": [
           {
            "colorbar": {
             "outlinewidth": 0,
             "ticks": ""
            },
            "type": "mesh3d"
           }
          ],
          "parcoords": [
           {
            "line": {
             "colorbar": {
              "outlinewidth": 0,
              "ticks": ""
             }
            },
            "type": "parcoords"
           }
          ],
          "pie": [
           {
            "automargin": true,
            "type": "pie"
           }
          ],
          "scatter": [
           {
            "marker": {
             "colorbar": {
              "outlinewidth": 0,
              "ticks": ""
             }
            },
            "type": "scatter"
           }
          ],
          "scatter3d": [
           {
            "line": {
             "colorbar": {
              "outlinewidth": 0,
              "ticks": ""
             }
            },
            "marker": {
             "colorbar": {
              "outlinewidth": 0,
              "ticks": ""
             }
            },
            "type": "scatter3d"
           }
          ],
          "scattercarpet": [
           {
            "marker": {
             "colorbar": {
              "outlinewidth": 0,
              "ticks": ""
             }
            },
            "type": "scattercarpet"
           }
          ],
          "scattergeo": [
           {
            "marker": {
             "colorbar": {
              "outlinewidth": 0,
              "ticks": ""
             }
            },
            "type": "scattergeo"
           }
          ],
          "scattergl": [
           {
            "marker": {
             "colorbar": {
              "outlinewidth": 0,
              "ticks": ""
             }
            },
            "type": "scattergl"
           }
          ],
          "scattermapbox": [
           {
            "marker": {
             "colorbar": {
              "outlinewidth": 0,
              "ticks": ""
             }
            },
            "type": "scattermapbox"
           }
          ],
          "scatterpolar": [
           {
            "marker": {
             "colorbar": {
              "outlinewidth": 0,
              "ticks": ""
             }
            },
            "type": "scatterpolar"
           }
          ],
          "scatterpolargl": [
           {
            "marker": {
             "colorbar": {
              "outlinewidth": 0,
              "ticks": ""
             }
            },
            "type": "scatterpolargl"
           }
          ],
          "scatterternary": [
           {
            "marker": {
             "colorbar": {
              "outlinewidth": 0,
              "ticks": ""
             }
            },
            "type": "scatterternary"
           }
          ],
          "surface": [
           {
            "colorbar": {
             "outlinewidth": 0,
             "ticks": ""
            },
            "colorscale": [
             [
              0,
              "#0d0887"
             ],
             [
              0.1111111111111111,
              "#46039f"
             ],
             [
              0.2222222222222222,
              "#7201a8"
             ],
             [
              0.3333333333333333,
              "#9c179e"
             ],
             [
              0.4444444444444444,
              "#bd3786"
             ],
             [
              0.5555555555555556,
              "#d8576b"
             ],
             [
              0.6666666666666666,
              "#ed7953"
             ],
             [
              0.7777777777777778,
              "#fb9f3a"
             ],
             [
              0.8888888888888888,
              "#fdca26"
             ],
             [
              1,
              "#f0f921"
             ]
            ],
            "type": "surface"
           }
          ],
          "table": [
           {
            "cells": {
             "fill": {
              "color": "#EBF0F8"
             },
             "line": {
              "color": "white"
             }
            },
            "header": {
             "fill": {
              "color": "#C8D4E3"
             },
             "line": {
              "color": "white"
             }
            },
            "type": "table"
           }
          ]
         },
         "layout": {
          "annotationdefaults": {
           "arrowcolor": "#2a3f5f",
           "arrowhead": 0,
           "arrowwidth": 1
          },
          "coloraxis": {
           "colorbar": {
            "outlinewidth": 0,
            "ticks": ""
           }
          },
          "colorscale": {
           "diverging": [
            [
             0,
             "#8e0152"
            ],
            [
             0.1,
             "#c51b7d"
            ],
            [
             0.2,
             "#de77ae"
            ],
            [
             0.3,
             "#f1b6da"
            ],
            [
             0.4,
             "#fde0ef"
            ],
            [
             0.5,
             "#f7f7f7"
            ],
            [
             0.6,
             "#e6f5d0"
            ],
            [
             0.7,
             "#b8e186"
            ],
            [
             0.8,
             "#7fbc41"
            ],
            [
             0.9,
             "#4d9221"
            ],
            [
             1,
             "#276419"
            ]
           ],
           "sequential": [
            [
             0,
             "#0d0887"
            ],
            [
             0.1111111111111111,
             "#46039f"
            ],
            [
             0.2222222222222222,
             "#7201a8"
            ],
            [
             0.3333333333333333,
             "#9c179e"
            ],
            [
             0.4444444444444444,
             "#bd3786"
            ],
            [
             0.5555555555555556,
             "#d8576b"
            ],
            [
             0.6666666666666666,
             "#ed7953"
            ],
            [
             0.7777777777777778,
             "#fb9f3a"
            ],
            [
             0.8888888888888888,
             "#fdca26"
            ],
            [
             1,
             "#f0f921"
            ]
           ],
           "sequentialminus": [
            [
             0,
             "#0d0887"
            ],
            [
             0.1111111111111111,
             "#46039f"
            ],
            [
             0.2222222222222222,
             "#7201a8"
            ],
            [
             0.3333333333333333,
             "#9c179e"
            ],
            [
             0.4444444444444444,
             "#bd3786"
            ],
            [
             0.5555555555555556,
             "#d8576b"
            ],
            [
             0.6666666666666666,
             "#ed7953"
            ],
            [
             0.7777777777777778,
             "#fb9f3a"
            ],
            [
             0.8888888888888888,
             "#fdca26"
            ],
            [
             1,
             "#f0f921"
            ]
           ]
          },
          "colorway": [
           "#636efa",
           "#EF553B",
           "#00cc96",
           "#ab63fa",
           "#FFA15A",
           "#19d3f3",
           "#FF6692",
           "#B6E880",
           "#FF97FF",
           "#FECB52"
          ],
          "font": {
           "color": "#2a3f5f"
          },
          "geo": {
           "bgcolor": "white",
           "lakecolor": "white",
           "landcolor": "#E5ECF6",
           "showlakes": true,
           "showland": true,
           "subunitcolor": "white"
          },
          "hoverlabel": {
           "align": "left"
          },
          "hovermode": "closest",
          "mapbox": {
           "style": "light"
          },
          "paper_bgcolor": "white",
          "plot_bgcolor": "#E5ECF6",
          "polar": {
           "angularaxis": {
            "gridcolor": "white",
            "linecolor": "white",
            "ticks": ""
           },
           "bgcolor": "#E5ECF6",
           "radialaxis": {
            "gridcolor": "white",
            "linecolor": "white",
            "ticks": ""
           }
          },
          "scene": {
           "xaxis": {
            "backgroundcolor": "#E5ECF6",
            "gridcolor": "white",
            "gridwidth": 2,
            "linecolor": "white",
            "showbackground": true,
            "ticks": "",
            "zerolinecolor": "white"
           },
           "yaxis": {
            "backgroundcolor": "#E5ECF6",
            "gridcolor": "white",
            "gridwidth": 2,
            "linecolor": "white",
            "showbackground": true,
            "ticks": "",
            "zerolinecolor": "white"
           },
           "zaxis": {
            "backgroundcolor": "#E5ECF6",
            "gridcolor": "white",
            "gridwidth": 2,
            "linecolor": "white",
            "showbackground": true,
            "ticks": "",
            "zerolinecolor": "white"
           }
          },
          "shapedefaults": {
           "line": {
            "color": "#2a3f5f"
           }
          },
          "ternary": {
           "aaxis": {
            "gridcolor": "white",
            "linecolor": "white",
            "ticks": ""
           },
           "baxis": {
            "gridcolor": "white",
            "linecolor": "white",
            "ticks": ""
           },
           "bgcolor": "#E5ECF6",
           "caxis": {
            "gridcolor": "white",
            "linecolor": "white",
            "ticks": ""
           }
          },
          "title": {
           "x": 0.05
          },
          "xaxis": {
           "automargin": true,
           "gridcolor": "white",
           "linecolor": "white",
           "ticks": "",
           "title": {
            "standoff": 15
           },
           "zerolinecolor": "white",
           "zerolinewidth": 2
          },
          "yaxis": {
           "automargin": true,
           "gridcolor": "white",
           "linecolor": "white",
           "ticks": "",
           "title": {
            "standoff": 15
           },
           "zerolinecolor": "white",
           "zerolinewidth": 2
          }
         }
        },
        "title": {
         "text": "Ozone in all Zones"
        },
        "uniformtext": {
         "minsize": 8,
         "mode": "hide"
        },
        "xaxis": {
         "range": [
          "2021-04-15",
          "2021-06-01"
         ]
        },
        "yaxis": {
         "range": [
          0,
          250
         ],
         "title": {
          "text": "Ozone (PPM)"
         }
        }
       }
      }
     },
     "metadata": {},
     "output_type": "display_data"
    }
   ],
   "source": [
    "fig = go.Figure(data=go.Scatter(x=air.resample('D').mean().index.astype(dtype=str), \n",
    "                                y=air.resample('D').mean()['mean'],\n",
    "                                text=\"counts\"))\n",
    "\n",
    "fig.update_layout({\"title\": 'Ozone in all Zones',\n",
    "                   \"yaxis\": {\"title\": r\"Ozone (PPM)\"},\n",
    "                   \"showlegend\": False})\n",
    "\n",
    "fig.add_traces(go.Scatter(x=top_dates.index, y=top_dates['mean'],\n",
    "                          textposition='top center',\n",
    "                          textfont=dict(color='#233a77'),\n",
    "                          mode='markers+text',\n",
    "                          marker=dict(color='red', size=8),\n",
    "                          text = top_dates[\"tgl\"]))\n",
    "\n",
    "fig.update_traces(textfont_size=12)\n",
    "fig.update_layout(uniformtext_minsize=8, uniformtext_mode='hide',\n",
    "xaxis_range=['2021-04-15','2021-06-01'],\n",
    "yaxis_range=[0, 250])\n",
    "\n",
    "fig.show()"
   ]
  },
  {
   "cell_type": "code",
   "execution_count": null,
   "metadata": {},
   "outputs": [],
   "source": []
  },
  {
   "cell_type": "markdown",
   "metadata": {},
   "source": [
    "### Hypothesis Tests"
   ]
  },
  {
   "cell_type": "code",
   "execution_count": null,
   "metadata": {},
   "outputs": [],
   "source": []
  },
  {
   "cell_type": "markdown",
   "metadata": {},
   "source": [
    "## Conclusions "
   ]
  },
  {
   "cell_type": "code",
   "execution_count": null,
   "metadata": {},
   "outputs": [],
   "source": []
  }
 ],
 "metadata": {
  "interpreter": {
   "hash": "e134e05457d34029b6460cd73bbf1ed73f339b5b6d98c95be70b69eba114fe95"
  },
  "kernelspec": {
   "display_name": "Python 3.7.6 64-bit ('base': conda)",
   "name": "python3"
  },
  "language_info": {
   "codemirror_mode": {
    "name": "ipython",
    "version": 3
   },
   "file_extension": ".py",
   "mimetype": "text/x-python",
   "name": "python",
   "nbconvert_exporter": "python",
   "pygments_lexer": "ipython3",
   "version": "3.7.6"
  }
 },
 "nbformat": 4,
 "nbformat_minor": 2
}